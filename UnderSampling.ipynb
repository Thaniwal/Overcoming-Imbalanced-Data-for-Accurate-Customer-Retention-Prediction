{
 "cells": [
  {
   "cell_type": "markdown",
   "id": "92eb18b9",
   "metadata": {},
   "source": [
    "# Importing Libraries "
   ]
  },
  {
   "cell_type": "code",
   "execution_count": 1,
   "id": "38a049fe",
   "metadata": {},
   "outputs": [],
   "source": [
    "# Data Manupulation Libraries\n",
    "import numpy as np\n",
    "import pandas as pd\n",
    "\n",
    "# Data Visualization Libraries\n",
    "import matplotlib.pyplot as plt\n",
    "import seaborn as sns\n",
    "import plotly.express as px\n",
    "import plotly.io as pio\n",
    "import plotly.graph_objects as go\n",
    "pio.renderers.default = 'iframe'\n",
    "pio.templates.default=\"simple_white\"\n",
    "\n",
    "# Statistical Libraries\n",
    "from scipy.stats import chi2_contingency\n",
    "from scipy.stats import mannwhitneyu\n",
    "from scipy.stats import ttest_ind\n",
    "\n",
    "#\n",
    "from sklearn.model_selection import train_test_split\n",
    "\n",
    "# Preprocessing libraries\n",
    "from sklearn.impute import SimpleImputer\n",
    "from sklearn.preprocessing import OneHotEncoder,StandardScaler,LabelEncoder, MinMaxScaler\n",
    "from sklearn.feature_selection import GenericUnivariateSelect\n",
    "from sklearn.pipeline import Pipeline,make_pipeline,FeatureUnion\n",
    "from sklearn.compose import ColumnTransformer\n",
    "\n",
    "# model evalution matrics\n",
    "from sklearn.metrics import confusion_matrix,accuracy_score,classification_report,roc_curve,f1_score,recall_score,precision_score\n",
    "from sklearn.metrics import ConfusionMatrixDisplay\n",
    "from sklearn.model_selection import GridSearchCV, RandomizedSearchCV\n",
    "from scipy.stats import loguniform,uniform\n",
    "\n",
    "#models\n",
    "from sklearn.linear_model import LogisticRegressionCV,LogisticRegression\n",
    "from sklearn.linear_model import SGDClassifier\n",
    "from sklearn.tree import DecisionTreeClassifier\n",
    "from sklearn.ensemble import RandomForestClassifier\n",
    "from sklearn.naive_bayes import MultinomialNB,GaussianNB\n",
    "\n",
    "#imbalanced data libraries\n",
    "from imblearn.ensemble import BalancedBaggingClassifier,BalancedRandomForestClassifier,EasyEnsembleClassifier,RUSBoostClassifier\n",
    "\n",
    "\n",
    "#visualising data pipline\n",
    "from sklearn import set_config\n",
    "\n",
    "set_config(display='diagram')"
   ]
  },
  {
   "cell_type": "markdown",
   "id": "a739a26f",
   "metadata": {},
   "source": [
    "# Importing Dataset"
   ]
  },
  {
   "cell_type": "code",
   "execution_count": 2,
   "id": "b1a090b9",
   "metadata": {},
   "outputs": [],
   "source": [
    "df=pd.read_csv(\"BankChurners_edited.csv\")"
   ]
  },
  {
   "cell_type": "code",
   "execution_count": 3,
   "id": "22891cdd",
   "metadata": {},
   "outputs": [
    {
     "data": {
      "text/html": [
       "<div>\n",
       "<style scoped>\n",
       "    .dataframe tbody tr th:only-of-type {\n",
       "        vertical-align: middle;\n",
       "    }\n",
       "\n",
       "    .dataframe tbody tr th {\n",
       "        vertical-align: top;\n",
       "    }\n",
       "\n",
       "    .dataframe thead th {\n",
       "        text-align: right;\n",
       "    }\n",
       "</style>\n",
       "<table border=\"1\" class=\"dataframe\">\n",
       "  <thead>\n",
       "    <tr style=\"text-align: right;\">\n",
       "      <th></th>\n",
       "      <th>Attrition_Flag</th>\n",
       "      <th>Customer_Age</th>\n",
       "      <th>Gender</th>\n",
       "      <th>Dependent_count</th>\n",
       "      <th>Education_Level</th>\n",
       "      <th>Marital_Status</th>\n",
       "      <th>Income_Category</th>\n",
       "      <th>Card_Category</th>\n",
       "      <th>Months_on_book</th>\n",
       "      <th>Total_Relationship_Count</th>\n",
       "      <th>Months_Inactive_12_mon</th>\n",
       "      <th>Contacts_Count_12_mon</th>\n",
       "      <th>Credit_Limit</th>\n",
       "      <th>Total_Revolving_Bal</th>\n",
       "      <th>Avg_Open_To_Buy</th>\n",
       "      <th>Total_Amt_Chng_Q4_Q1</th>\n",
       "      <th>Total_Trans_Amt</th>\n",
       "      <th>Total_Trans_Ct</th>\n",
       "      <th>Total_Ct_Chng_Q4_Q1</th>\n",
       "      <th>Avg_Utilization_Ratio</th>\n",
       "    </tr>\n",
       "  </thead>\n",
       "  <tbody>\n",
       "    <tr>\n",
       "      <th>0</th>\n",
       "      <td>Existing Customer</td>\n",
       "      <td>45</td>\n",
       "      <td>M</td>\n",
       "      <td>3</td>\n",
       "      <td>High School</td>\n",
       "      <td>Married</td>\n",
       "      <td>$60K - $80K</td>\n",
       "      <td>Blue</td>\n",
       "      <td>39</td>\n",
       "      <td>5</td>\n",
       "      <td>1</td>\n",
       "      <td>3</td>\n",
       "      <td>12691.0</td>\n",
       "      <td>777</td>\n",
       "      <td>11914.0</td>\n",
       "      <td>1.335</td>\n",
       "      <td>1144</td>\n",
       "      <td>42</td>\n",
       "      <td>1.625</td>\n",
       "      <td>0.061</td>\n",
       "    </tr>\n",
       "    <tr>\n",
       "      <th>1</th>\n",
       "      <td>Existing Customer</td>\n",
       "      <td>49</td>\n",
       "      <td>F</td>\n",
       "      <td>5</td>\n",
       "      <td>Graduate</td>\n",
       "      <td>Single</td>\n",
       "      <td>Less than $40K</td>\n",
       "      <td>Blue</td>\n",
       "      <td>44</td>\n",
       "      <td>6</td>\n",
       "      <td>1</td>\n",
       "      <td>2</td>\n",
       "      <td>8256.0</td>\n",
       "      <td>864</td>\n",
       "      <td>7392.0</td>\n",
       "      <td>1.541</td>\n",
       "      <td>1291</td>\n",
       "      <td>33</td>\n",
       "      <td>3.714</td>\n",
       "      <td>0.105</td>\n",
       "    </tr>\n",
       "    <tr>\n",
       "      <th>2</th>\n",
       "      <td>Existing Customer</td>\n",
       "      <td>51</td>\n",
       "      <td>M</td>\n",
       "      <td>3</td>\n",
       "      <td>Graduate</td>\n",
       "      <td>Married</td>\n",
       "      <td>$80K - $120K</td>\n",
       "      <td>Blue</td>\n",
       "      <td>36</td>\n",
       "      <td>4</td>\n",
       "      <td>1</td>\n",
       "      <td>0</td>\n",
       "      <td>3418.0</td>\n",
       "      <td>0</td>\n",
       "      <td>3418.0</td>\n",
       "      <td>2.594</td>\n",
       "      <td>1887</td>\n",
       "      <td>20</td>\n",
       "      <td>2.333</td>\n",
       "      <td>0.000</td>\n",
       "    </tr>\n",
       "    <tr>\n",
       "      <th>3</th>\n",
       "      <td>Existing Customer</td>\n",
       "      <td>40</td>\n",
       "      <td>F</td>\n",
       "      <td>4</td>\n",
       "      <td>High School</td>\n",
       "      <td>Unknown</td>\n",
       "      <td>Less than $40K</td>\n",
       "      <td>Blue</td>\n",
       "      <td>34</td>\n",
       "      <td>3</td>\n",
       "      <td>4</td>\n",
       "      <td>1</td>\n",
       "      <td>3313.0</td>\n",
       "      <td>2517</td>\n",
       "      <td>796.0</td>\n",
       "      <td>1.405</td>\n",
       "      <td>1171</td>\n",
       "      <td>20</td>\n",
       "      <td>2.333</td>\n",
       "      <td>0.760</td>\n",
       "    </tr>\n",
       "    <tr>\n",
       "      <th>4</th>\n",
       "      <td>Existing Customer</td>\n",
       "      <td>40</td>\n",
       "      <td>M</td>\n",
       "      <td>3</td>\n",
       "      <td>Uneducated</td>\n",
       "      <td>Married</td>\n",
       "      <td>$60K - $80K</td>\n",
       "      <td>Blue</td>\n",
       "      <td>21</td>\n",
       "      <td>5</td>\n",
       "      <td>1</td>\n",
       "      <td>0</td>\n",
       "      <td>4716.0</td>\n",
       "      <td>0</td>\n",
       "      <td>4716.0</td>\n",
       "      <td>2.175</td>\n",
       "      <td>816</td>\n",
       "      <td>28</td>\n",
       "      <td>2.500</td>\n",
       "      <td>0.000</td>\n",
       "    </tr>\n",
       "    <tr>\n",
       "      <th>...</th>\n",
       "      <td>...</td>\n",
       "      <td>...</td>\n",
       "      <td>...</td>\n",
       "      <td>...</td>\n",
       "      <td>...</td>\n",
       "      <td>...</td>\n",
       "      <td>...</td>\n",
       "      <td>...</td>\n",
       "      <td>...</td>\n",
       "      <td>...</td>\n",
       "      <td>...</td>\n",
       "      <td>...</td>\n",
       "      <td>...</td>\n",
       "      <td>...</td>\n",
       "      <td>...</td>\n",
       "      <td>...</td>\n",
       "      <td>...</td>\n",
       "      <td>...</td>\n",
       "      <td>...</td>\n",
       "      <td>...</td>\n",
       "    </tr>\n",
       "    <tr>\n",
       "      <th>10122</th>\n",
       "      <td>Existing Customer</td>\n",
       "      <td>50</td>\n",
       "      <td>M</td>\n",
       "      <td>2</td>\n",
       "      <td>Graduate</td>\n",
       "      <td>Single</td>\n",
       "      <td>$40K - $60K</td>\n",
       "      <td>Blue</td>\n",
       "      <td>40</td>\n",
       "      <td>3</td>\n",
       "      <td>2</td>\n",
       "      <td>3</td>\n",
       "      <td>4003.0</td>\n",
       "      <td>1851</td>\n",
       "      <td>2152.0</td>\n",
       "      <td>0.703</td>\n",
       "      <td>15476</td>\n",
       "      <td>117</td>\n",
       "      <td>0.857</td>\n",
       "      <td>0.462</td>\n",
       "    </tr>\n",
       "    <tr>\n",
       "      <th>10123</th>\n",
       "      <td>Attrited Customer</td>\n",
       "      <td>41</td>\n",
       "      <td>M</td>\n",
       "      <td>2</td>\n",
       "      <td>Unknown</td>\n",
       "      <td>Divorced</td>\n",
       "      <td>$40K - $60K</td>\n",
       "      <td>Blue</td>\n",
       "      <td>25</td>\n",
       "      <td>4</td>\n",
       "      <td>2</td>\n",
       "      <td>3</td>\n",
       "      <td>4277.0</td>\n",
       "      <td>2186</td>\n",
       "      <td>2091.0</td>\n",
       "      <td>0.804</td>\n",
       "      <td>8764</td>\n",
       "      <td>69</td>\n",
       "      <td>0.683</td>\n",
       "      <td>0.511</td>\n",
       "    </tr>\n",
       "    <tr>\n",
       "      <th>10124</th>\n",
       "      <td>Attrited Customer</td>\n",
       "      <td>44</td>\n",
       "      <td>F</td>\n",
       "      <td>1</td>\n",
       "      <td>High School</td>\n",
       "      <td>Married</td>\n",
       "      <td>Less than $40K</td>\n",
       "      <td>Blue</td>\n",
       "      <td>36</td>\n",
       "      <td>5</td>\n",
       "      <td>3</td>\n",
       "      <td>4</td>\n",
       "      <td>5409.0</td>\n",
       "      <td>0</td>\n",
       "      <td>5409.0</td>\n",
       "      <td>0.819</td>\n",
       "      <td>10291</td>\n",
       "      <td>60</td>\n",
       "      <td>0.818</td>\n",
       "      <td>0.000</td>\n",
       "    </tr>\n",
       "    <tr>\n",
       "      <th>10125</th>\n",
       "      <td>Attrited Customer</td>\n",
       "      <td>30</td>\n",
       "      <td>M</td>\n",
       "      <td>2</td>\n",
       "      <td>Graduate</td>\n",
       "      <td>Unknown</td>\n",
       "      <td>$40K - $60K</td>\n",
       "      <td>Blue</td>\n",
       "      <td>36</td>\n",
       "      <td>4</td>\n",
       "      <td>3</td>\n",
       "      <td>3</td>\n",
       "      <td>5281.0</td>\n",
       "      <td>0</td>\n",
       "      <td>5281.0</td>\n",
       "      <td>0.535</td>\n",
       "      <td>8395</td>\n",
       "      <td>62</td>\n",
       "      <td>0.722</td>\n",
       "      <td>0.000</td>\n",
       "    </tr>\n",
       "    <tr>\n",
       "      <th>10126</th>\n",
       "      <td>Attrited Customer</td>\n",
       "      <td>43</td>\n",
       "      <td>F</td>\n",
       "      <td>2</td>\n",
       "      <td>Graduate</td>\n",
       "      <td>Married</td>\n",
       "      <td>Less than $40K</td>\n",
       "      <td>Silver</td>\n",
       "      <td>25</td>\n",
       "      <td>6</td>\n",
       "      <td>2</td>\n",
       "      <td>4</td>\n",
       "      <td>10388.0</td>\n",
       "      <td>1961</td>\n",
       "      <td>8427.0</td>\n",
       "      <td>0.703</td>\n",
       "      <td>10294</td>\n",
       "      <td>61</td>\n",
       "      <td>0.649</td>\n",
       "      <td>0.189</td>\n",
       "    </tr>\n",
       "  </tbody>\n",
       "</table>\n",
       "<p>10127 rows × 20 columns</p>\n",
       "</div>"
      ],
      "text/plain": [
       "          Attrition_Flag  Customer_Age Gender  Dependent_count  \\\n",
       "0      Existing Customer            45      M                3   \n",
       "1      Existing Customer            49      F                5   \n",
       "2      Existing Customer            51      M                3   \n",
       "3      Existing Customer            40      F                4   \n",
       "4      Existing Customer            40      M                3   \n",
       "...                  ...           ...    ...              ...   \n",
       "10122  Existing Customer            50      M                2   \n",
       "10123  Attrited Customer            41      M                2   \n",
       "10124  Attrited Customer            44      F                1   \n",
       "10125  Attrited Customer            30      M                2   \n",
       "10126  Attrited Customer            43      F                2   \n",
       "\n",
       "      Education_Level Marital_Status Income_Category Card_Category  \\\n",
       "0         High School        Married     $60K - $80K          Blue   \n",
       "1            Graduate         Single  Less than $40K          Blue   \n",
       "2            Graduate        Married    $80K - $120K          Blue   \n",
       "3         High School        Unknown  Less than $40K          Blue   \n",
       "4          Uneducated        Married     $60K - $80K          Blue   \n",
       "...               ...            ...             ...           ...   \n",
       "10122        Graduate         Single     $40K - $60K          Blue   \n",
       "10123         Unknown       Divorced     $40K - $60K          Blue   \n",
       "10124     High School        Married  Less than $40K          Blue   \n",
       "10125        Graduate        Unknown     $40K - $60K          Blue   \n",
       "10126        Graduate        Married  Less than $40K        Silver   \n",
       "\n",
       "       Months_on_book  Total_Relationship_Count  Months_Inactive_12_mon  \\\n",
       "0                  39                         5                       1   \n",
       "1                  44                         6                       1   \n",
       "2                  36                         4                       1   \n",
       "3                  34                         3                       4   \n",
       "4                  21                         5                       1   \n",
       "...               ...                       ...                     ...   \n",
       "10122              40                         3                       2   \n",
       "10123              25                         4                       2   \n",
       "10124              36                         5                       3   \n",
       "10125              36                         4                       3   \n",
       "10126              25                         6                       2   \n",
       "\n",
       "       Contacts_Count_12_mon  Credit_Limit  Total_Revolving_Bal  \\\n",
       "0                          3       12691.0                  777   \n",
       "1                          2        8256.0                  864   \n",
       "2                          0        3418.0                    0   \n",
       "3                          1        3313.0                 2517   \n",
       "4                          0        4716.0                    0   \n",
       "...                      ...           ...                  ...   \n",
       "10122                      3        4003.0                 1851   \n",
       "10123                      3        4277.0                 2186   \n",
       "10124                      4        5409.0                    0   \n",
       "10125                      3        5281.0                    0   \n",
       "10126                      4       10388.0                 1961   \n",
       "\n",
       "       Avg_Open_To_Buy  Total_Amt_Chng_Q4_Q1  Total_Trans_Amt  Total_Trans_Ct  \\\n",
       "0              11914.0                 1.335             1144              42   \n",
       "1               7392.0                 1.541             1291              33   \n",
       "2               3418.0                 2.594             1887              20   \n",
       "3                796.0                 1.405             1171              20   \n",
       "4               4716.0                 2.175              816              28   \n",
       "...                ...                   ...              ...             ...   \n",
       "10122           2152.0                 0.703            15476             117   \n",
       "10123           2091.0                 0.804             8764              69   \n",
       "10124           5409.0                 0.819            10291              60   \n",
       "10125           5281.0                 0.535             8395              62   \n",
       "10126           8427.0                 0.703            10294              61   \n",
       "\n",
       "       Total_Ct_Chng_Q4_Q1  Avg_Utilization_Ratio  \n",
       "0                    1.625                  0.061  \n",
       "1                    3.714                  0.105  \n",
       "2                    2.333                  0.000  \n",
       "3                    2.333                  0.760  \n",
       "4                    2.500                  0.000  \n",
       "...                    ...                    ...  \n",
       "10122                0.857                  0.462  \n",
       "10123                0.683                  0.511  \n",
       "10124                0.818                  0.000  \n",
       "10125                0.722                  0.000  \n",
       "10126                0.649                  0.189  \n",
       "\n",
       "[10127 rows x 20 columns]"
      ]
     },
     "execution_count": 3,
     "metadata": {},
     "output_type": "execute_result"
    }
   ],
   "source": [
    "df"
   ]
  },
  {
   "cell_type": "markdown",
   "id": "038f6f36",
   "metadata": {},
   "source": [
    "# Exploratory Data Analysis"
   ]
  },
  {
   "cell_type": "markdown",
   "id": "cfd4f52e",
   "metadata": {},
   "source": [
    "**dataframe shape**"
   ]
  },
  {
   "cell_type": "code",
   "execution_count": 13,
   "id": "03fc7dc6",
   "metadata": {},
   "outputs": [
    {
     "data": {
      "text/plain": [
       "(10127, 20)"
      ]
     },
     "execution_count": 13,
     "metadata": {},
     "output_type": "execute_result"
    }
   ],
   "source": [
    "df.shape"
   ]
  },
  {
   "cell_type": "markdown",
   "id": "7735001c",
   "metadata": {},
   "source": [
    "**dataset information**"
   ]
  },
  {
   "cell_type": "code",
   "execution_count": 14,
   "id": "822ce275",
   "metadata": {},
   "outputs": [
    {
     "name": "stdout",
     "output_type": "stream",
     "text": [
      "<class 'pandas.core.frame.DataFrame'>\n",
      "RangeIndex: 10127 entries, 0 to 10126\n",
      "Data columns (total 20 columns):\n",
      " #   Column                    Non-Null Count  Dtype  \n",
      "---  ------                    --------------  -----  \n",
      " 0   Attrition_Flag            10127 non-null  object \n",
      " 1   Customer_Age              10127 non-null  int64  \n",
      " 2   Gender                    10127 non-null  object \n",
      " 3   Dependent_count           10127 non-null  int64  \n",
      " 4   Education_Level           10127 non-null  object \n",
      " 5   Marital_Status            10127 non-null  object \n",
      " 6   Income_Category           10127 non-null  object \n",
      " 7   Card_Category             10127 non-null  object \n",
      " 8   Months_on_book            10127 non-null  int64  \n",
      " 9   Total_Relationship_Count  10127 non-null  int64  \n",
      " 10  Months_Inactive_12_mon    10127 non-null  int64  \n",
      " 11  Contacts_Count_12_mon     10127 non-null  int64  \n",
      " 12  Credit_Limit              10127 non-null  float64\n",
      " 13  Total_Revolving_Bal       10127 non-null  int64  \n",
      " 14  Avg_Open_To_Buy           10127 non-null  float64\n",
      " 15  Total_Amt_Chng_Q4_Q1      10127 non-null  float64\n",
      " 16  Total_Trans_Amt           10127 non-null  int64  \n",
      " 17  Total_Trans_Ct            10127 non-null  int64  \n",
      " 18  Total_Ct_Chng_Q4_Q1       10127 non-null  float64\n",
      " 19  Avg_Utilization_Ratio     10127 non-null  float64\n",
      "dtypes: float64(5), int64(9), object(6)\n",
      "memory usage: 1.5+ MB\n"
     ]
    }
   ],
   "source": [
    "df.info()"
   ]
  },
  {
   "cell_type": "markdown",
   "id": "53db00c2",
   "metadata": {},
   "source": [
    "**Missing Values**"
   ]
  },
  {
   "cell_type": "code",
   "execution_count": 16,
   "id": "cd84054d",
   "metadata": {},
   "outputs": [
    {
     "data": {
      "text/plain": [
       "Attrition_Flag              0\n",
       "Customer_Age                0\n",
       "Gender                      0\n",
       "Dependent_count             0\n",
       "Education_Level             0\n",
       "Marital_Status              0\n",
       "Income_Category             0\n",
       "Card_Category               0\n",
       "Months_on_book              0\n",
       "Total_Relationship_Count    0\n",
       "Months_Inactive_12_mon      0\n",
       "Contacts_Count_12_mon       0\n",
       "Credit_Limit                0\n",
       "Total_Revolving_Bal         0\n",
       "Avg_Open_To_Buy             0\n",
       "Total_Amt_Chng_Q4_Q1        0\n",
       "Total_Trans_Amt             0\n",
       "Total_Trans_Ct              0\n",
       "Total_Ct_Chng_Q4_Q1         0\n",
       "Avg_Utilization_Ratio       0\n",
       "dtype: int64"
      ]
     },
     "execution_count": 16,
     "metadata": {},
     "output_type": "execute_result"
    }
   ],
   "source": [
    "df.isnull().sum()"
   ]
  },
  {
   "cell_type": "markdown",
   "id": "2f464344",
   "metadata": {},
   "source": [
    "## Univariate Analysis"
   ]
  },
  {
   "cell_type": "markdown",
   "id": "a79eed7e",
   "metadata": {},
   "source": [
    "### Attrition_Flag"
   ]
  },
  {
   "cell_type": "code",
   "execution_count": 7,
   "id": "28d9d2a6",
   "metadata": {},
   "outputs": [
    {
     "data": {
      "text/html": [
       "<div>\n",
       "<style scoped>\n",
       "    .dataframe tbody tr th:only-of-type {\n",
       "        vertical-align: middle;\n",
       "    }\n",
       "\n",
       "    .dataframe tbody tr th {\n",
       "        vertical-align: top;\n",
       "    }\n",
       "\n",
       "    .dataframe thead th {\n",
       "        text-align: right;\n",
       "    }\n",
       "</style>\n",
       "<table border=\"1\" class=\"dataframe\">\n",
       "  <thead>\n",
       "    <tr style=\"text-align: right;\">\n",
       "      <th></th>\n",
       "      <th>Attrition_Flag</th>\n",
       "      <th>Count</th>\n",
       "    </tr>\n",
       "  </thead>\n",
       "  <tbody>\n",
       "    <tr>\n",
       "      <th>0</th>\n",
       "      <td>Existing Customer</td>\n",
       "      <td>8500</td>\n",
       "    </tr>\n",
       "    <tr>\n",
       "      <th>1</th>\n",
       "      <td>Attrited Customer</td>\n",
       "      <td>1627</td>\n",
       "    </tr>\n",
       "  </tbody>\n",
       "</table>\n",
       "</div>"
      ],
      "text/plain": [
       "      Attrition_Flag  Count\n",
       "0  Existing Customer   8500\n",
       "1  Attrited Customer   1627"
      ]
     },
     "execution_count": 7,
     "metadata": {},
     "output_type": "execute_result"
    }
   ],
   "source": [
    "temp_df=df.Attrition_Flag.value_counts().reset_index()\n",
    "temp_df.columns=['Attrition_Flag','Count']\n",
    "temp_df"
   ]
  },
  {
   "cell_type": "code",
   "execution_count": 12,
   "id": "5df79220",
   "metadata": {},
   "outputs": [
    {
     "data": {
      "text/html": [
       "<iframe\n",
       "    scrolling=\"no\"\n",
       "    width=\"100%\"\n",
       "    height=\"545px\"\n",
       "    src=\"iframe_figures/figure_12.html\"\n",
       "    frameborder=\"0\"\n",
       "    allowfullscreen\n",
       "></iframe>\n"
      ]
     },
     "metadata": {},
     "output_type": "display_data"
    }
   ],
   "source": [
    "fig=px.pie(temp_df,values=\"Count\",names=\"Attrition_Flag\",title=\"Attrition Flag\")\n",
    "fig.write_image(\"Attrition.png\")\n",
    "fig.show()"
   ]
  },
  {
   "cell_type": "markdown",
   "id": "734acc71",
   "metadata": {},
   "source": [
    "**Conclusion**\n",
    "\n",
    "- The target variable has 83.9% Existing Customers lable and 16.1% Attrition Customers  which indicatews that the dataset is imbalanced."
   ]
  },
  {
   "cell_type": "markdown",
   "id": "60705875",
   "metadata": {},
   "source": [
    "### Customer_Age"
   ]
  },
  {
   "cell_type": "code",
   "execution_count": 18,
   "id": "8a09df60",
   "metadata": {},
   "outputs": [
    {
     "data": {
      "text/plain": [
       "count    10127.000000\n",
       "mean        46.325960\n",
       "std          8.016814\n",
       "min         26.000000\n",
       "25%         41.000000\n",
       "50%         46.000000\n",
       "75%         52.000000\n",
       "max         73.000000\n",
       "Name: Customer_Age, dtype: float64"
      ]
     },
     "execution_count": 18,
     "metadata": {},
     "output_type": "execute_result"
    }
   ],
   "source": [
    "df.Customer_Age.describe()"
   ]
  },
  {
   "cell_type": "code",
   "execution_count": 17,
   "id": "8fc75ea1",
   "metadata": {},
   "outputs": [
    {
     "data": {
      "text/html": [
       "<iframe\n",
       "    scrolling=\"no\"\n",
       "    width=\"100%\"\n",
       "    height=\"545px\"\n",
       "    src=\"iframe_figures/figure_17.html\"\n",
       "    frameborder=\"0\"\n",
       "    allowfullscreen\n",
       "></iframe>\n"
      ]
     },
     "metadata": {},
     "output_type": "display_data"
    }
   ],
   "source": [
    "fig=px.histogram(df,x=\"Customer_Age\",title=\"Customer Age Histogram\")\n",
    "fig.show(renderer='iframe')"
   ]
  },
  {
   "cell_type": "code",
   "execution_count": 19,
   "id": "776ba64e",
   "metadata": {},
   "outputs": [
    {
     "data": {
      "text/plain": [
       "-0.033605016317173456"
      ]
     },
     "execution_count": 19,
     "metadata": {},
     "output_type": "execute_result"
    }
   ],
   "source": [
    "df.Customer_Age.skew()"
   ]
  },
  {
   "cell_type": "markdown",
   "id": "c1ee26f2",
   "metadata": {},
   "source": [
    "**Conclusion**\n",
    "- Since mean and median is approximately equal and skewness is close to 0, we can say that customer age approximately follows normal distribution."
   ]
  },
  {
   "cell_type": "markdown",
   "id": "4aaddf60",
   "metadata": {},
   "source": [
    "### Gender"
   ]
  },
  {
   "cell_type": "code",
   "execution_count": 20,
   "id": "f9c34154",
   "metadata": {},
   "outputs": [
    {
     "data": {
      "text/html": [
       "<div>\n",
       "<style scoped>\n",
       "    .dataframe tbody tr th:only-of-type {\n",
       "        vertical-align: middle;\n",
       "    }\n",
       "\n",
       "    .dataframe tbody tr th {\n",
       "        vertical-align: top;\n",
       "    }\n",
       "\n",
       "    .dataframe thead th {\n",
       "        text-align: right;\n",
       "    }\n",
       "</style>\n",
       "<table border=\"1\" class=\"dataframe\">\n",
       "  <thead>\n",
       "    <tr style=\"text-align: right;\">\n",
       "      <th></th>\n",
       "      <th>Gender</th>\n",
       "      <th>Count</th>\n",
       "    </tr>\n",
       "  </thead>\n",
       "  <tbody>\n",
       "    <tr>\n",
       "      <th>0</th>\n",
       "      <td>F</td>\n",
       "      <td>5358</td>\n",
       "    </tr>\n",
       "    <tr>\n",
       "      <th>1</th>\n",
       "      <td>M</td>\n",
       "      <td>4769</td>\n",
       "    </tr>\n",
       "  </tbody>\n",
       "</table>\n",
       "</div>"
      ],
      "text/plain": [
       "  Gender  Count\n",
       "0      F   5358\n",
       "1      M   4769"
      ]
     },
     "execution_count": 20,
     "metadata": {},
     "output_type": "execute_result"
    }
   ],
   "source": [
    "temp_df=df.Gender.value_counts().reset_index()\n",
    "temp_df.columns=[\"Gender\",\"Count\"]\n",
    "temp_df"
   ]
  },
  {
   "cell_type": "code",
   "execution_count": 21,
   "id": "2b91c502",
   "metadata": {
    "scrolled": true
   },
   "outputs": [
    {
     "data": {
      "text/html": [
       "<iframe\n",
       "    scrolling=\"no\"\n",
       "    width=\"100%\"\n",
       "    height=\"545px\"\n",
       "    src=\"iframe_figures/figure_21.html\"\n",
       "    frameborder=\"0\"\n",
       "    allowfullscreen\n",
       "></iframe>\n"
      ]
     },
     "metadata": {},
     "output_type": "display_data"
    }
   ],
   "source": [
    "fig=px.pie(temp_df,values=\"Count\",names=\"Gender\",title=\"Pie Chart of Gender\")\n",
    "fig.write_image(\"Gender.png\")\n",
    "fig.show()"
   ]
  },
  {
   "cell_type": "markdown",
   "id": "55f9ec7f",
   "metadata": {},
   "source": [
    "**Conclusions**\n",
    "- In the dataset, we have 52.9% female customers and 47.1% male customers."
   ]
  },
  {
   "cell_type": "markdown",
   "id": "9fb2e8ac",
   "metadata": {},
   "source": [
    "### Dependent_Count"
   ]
  },
  {
   "cell_type": "code",
   "execution_count": 22,
   "id": "a5860ac2",
   "metadata": {},
   "outputs": [
    {
     "data": {
      "text/html": [
       "<div>\n",
       "<style scoped>\n",
       "    .dataframe tbody tr th:only-of-type {\n",
       "        vertical-align: middle;\n",
       "    }\n",
       "\n",
       "    .dataframe tbody tr th {\n",
       "        vertical-align: top;\n",
       "    }\n",
       "\n",
       "    .dataframe thead th {\n",
       "        text-align: right;\n",
       "    }\n",
       "</style>\n",
       "<table border=\"1\" class=\"dataframe\">\n",
       "  <thead>\n",
       "    <tr style=\"text-align: right;\">\n",
       "      <th></th>\n",
       "      <th>Dependent_Count</th>\n",
       "      <th>Count</th>\n",
       "    </tr>\n",
       "  </thead>\n",
       "  <tbody>\n",
       "    <tr>\n",
       "      <th>0</th>\n",
       "      <td>3</td>\n",
       "      <td>2732</td>\n",
       "    </tr>\n",
       "    <tr>\n",
       "      <th>1</th>\n",
       "      <td>2</td>\n",
       "      <td>2655</td>\n",
       "    </tr>\n",
       "    <tr>\n",
       "      <th>2</th>\n",
       "      <td>1</td>\n",
       "      <td>1838</td>\n",
       "    </tr>\n",
       "    <tr>\n",
       "      <th>3</th>\n",
       "      <td>4</td>\n",
       "      <td>1574</td>\n",
       "    </tr>\n",
       "    <tr>\n",
       "      <th>4</th>\n",
       "      <td>0</td>\n",
       "      <td>904</td>\n",
       "    </tr>\n",
       "    <tr>\n",
       "      <th>5</th>\n",
       "      <td>5</td>\n",
       "      <td>424</td>\n",
       "    </tr>\n",
       "  </tbody>\n",
       "</table>\n",
       "</div>"
      ],
      "text/plain": [
       "   Dependent_Count  Count\n",
       "0                3   2732\n",
       "1                2   2655\n",
       "2                1   1838\n",
       "3                4   1574\n",
       "4                0    904\n",
       "5                5    424"
      ]
     },
     "execution_count": 22,
     "metadata": {},
     "output_type": "execute_result"
    }
   ],
   "source": [
    "temp_df=df.Dependent_count.value_counts().reset_index()\n",
    "temp_df.columns=[\"Dependent_Count\",\"Count\"]\n",
    "temp_df"
   ]
  },
  {
   "cell_type": "code",
   "execution_count": 23,
   "id": "7abc0574",
   "metadata": {},
   "outputs": [
    {
     "data": {
      "text/html": [
       "<iframe\n",
       "    scrolling=\"no\"\n",
       "    width=\"100%\"\n",
       "    height=\"545px\"\n",
       "    src=\"iframe_figures/figure_23.html\"\n",
       "    frameborder=\"0\"\n",
       "    allowfullscreen\n",
       "></iframe>\n"
      ]
     },
     "metadata": {},
     "output_type": "display_data"
    }
   ],
   "source": [
    "fig=px.bar(temp_df,x=temp_df.Dependent_Count,y=temp_df.Count,text_auto=True, labels={\"index\":'No of Dependent Count',                                                                                      'Dependent_count':'Counts'})\n",
    "fig.show(renderer='iframe')"
   ]
  },
  {
   "cell_type": "code",
   "execution_count": 25,
   "id": "25f28c6a",
   "metadata": {},
   "outputs": [
    {
     "data": {
      "text/html": [
       "<iframe\n",
       "    scrolling=\"no\"\n",
       "    width=\"100%\"\n",
       "    height=\"545px\"\n",
       "    src=\"iframe_figures/figure_25.html\"\n",
       "    frameborder=\"0\"\n",
       "    allowfullscreen\n",
       "></iframe>\n"
      ]
     },
     "metadata": {},
     "output_type": "display_data"
    }
   ],
   "source": [
    "px.pie(temp_df,values=\"Count\",names='Dependent_Count',title=\"Pie Chart of Dependent_Count\")"
   ]
  },
  {
   "cell_type": "code",
   "execution_count": 26,
   "id": "a03a91ec",
   "metadata": {},
   "outputs": [
    {
     "data": {
      "text/plain": [
       "count    10127.000000\n",
       "mean         2.346203\n",
       "std          1.298908\n",
       "min          0.000000\n",
       "25%          1.000000\n",
       "50%          2.000000\n",
       "75%          3.000000\n",
       "max          5.000000\n",
       "Name: Dependent_count, dtype: float64"
      ]
     },
     "execution_count": 26,
     "metadata": {},
     "output_type": "execute_result"
    }
   ],
   "source": [
    "# discriptive Summary\n",
    "df.Dependent_count.describe()"
   ]
  },
  {
   "cell_type": "code",
   "execution_count": null,
   "id": "194f05f4",
   "metadata": {},
   "outputs": [],
   "source": []
  },
  {
   "cell_type": "code",
   "execution_count": null,
   "id": "6a8d4e28",
   "metadata": {},
   "outputs": [],
   "source": []
  },
  {
   "cell_type": "code",
   "execution_count": null,
   "id": "cd054869",
   "metadata": {},
   "outputs": [],
   "source": []
  },
  {
   "cell_type": "code",
   "execution_count": null,
   "id": "a44a4c67",
   "metadata": {},
   "outputs": [],
   "source": []
  },
  {
   "cell_type": "code",
   "execution_count": null,
   "id": "a92e3917",
   "metadata": {},
   "outputs": [],
   "source": []
  },
  {
   "cell_type": "code",
   "execution_count": null,
   "id": "5b8cdc0a",
   "metadata": {},
   "outputs": [],
   "source": []
  },
  {
   "cell_type": "code",
   "execution_count": null,
   "id": "fde62a05",
   "metadata": {},
   "outputs": [],
   "source": []
  },
  {
   "cell_type": "code",
   "execution_count": null,
   "id": "a3c68de8",
   "metadata": {},
   "outputs": [],
   "source": []
  },
  {
   "cell_type": "code",
   "execution_count": null,
   "id": "2285868d",
   "metadata": {},
   "outputs": [],
   "source": []
  },
  {
   "cell_type": "code",
   "execution_count": null,
   "id": "c3f9a9eb",
   "metadata": {},
   "outputs": [],
   "source": []
  },
  {
   "cell_type": "code",
   "execution_count": null,
   "id": "5176eda9",
   "metadata": {},
   "outputs": [],
   "source": []
  },
  {
   "cell_type": "code",
   "execution_count": null,
   "id": "37d9271e",
   "metadata": {},
   "outputs": [],
   "source": []
  },
  {
   "cell_type": "code",
   "execution_count": null,
   "id": "81527644",
   "metadata": {},
   "outputs": [],
   "source": []
  },
  {
   "cell_type": "code",
   "execution_count": null,
   "id": "4e77d993",
   "metadata": {},
   "outputs": [],
   "source": []
  },
  {
   "cell_type": "code",
   "execution_count": null,
   "id": "b77c5cd2",
   "metadata": {},
   "outputs": [],
   "source": []
  },
  {
   "cell_type": "code",
   "execution_count": null,
   "id": "3533c882",
   "metadata": {},
   "outputs": [],
   "source": []
  },
  {
   "cell_type": "code",
   "execution_count": null,
   "id": "e5de9e37",
   "metadata": {},
   "outputs": [],
   "source": []
  },
  {
   "cell_type": "code",
   "execution_count": null,
   "id": "d053f9bc",
   "metadata": {},
   "outputs": [],
   "source": []
  },
  {
   "cell_type": "code",
   "execution_count": null,
   "id": "0c895233",
   "metadata": {},
   "outputs": [],
   "source": []
  },
  {
   "cell_type": "code",
   "execution_count": null,
   "id": "89bf62c6",
   "metadata": {},
   "outputs": [],
   "source": []
  },
  {
   "cell_type": "code",
   "execution_count": null,
   "id": "caccaed2",
   "metadata": {},
   "outputs": [],
   "source": []
  },
  {
   "cell_type": "code",
   "execution_count": null,
   "id": "b77f06d0",
   "metadata": {},
   "outputs": [],
   "source": []
  },
  {
   "cell_type": "code",
   "execution_count": null,
   "id": "7d5d7dd8",
   "metadata": {},
   "outputs": [],
   "source": []
  },
  {
   "cell_type": "code",
   "execution_count": null,
   "id": "fcdf7a2e",
   "metadata": {},
   "outputs": [],
   "source": []
  },
  {
   "cell_type": "code",
   "execution_count": null,
   "id": "a41d6574",
   "metadata": {},
   "outputs": [],
   "source": []
  },
  {
   "cell_type": "code",
   "execution_count": null,
   "id": "24394c0a",
   "metadata": {},
   "outputs": [],
   "source": []
  },
  {
   "cell_type": "code",
   "execution_count": null,
   "id": "6b607974",
   "metadata": {},
   "outputs": [],
   "source": []
  },
  {
   "cell_type": "code",
   "execution_count": null,
   "id": "045644ee",
   "metadata": {},
   "outputs": [],
   "source": []
  },
  {
   "cell_type": "code",
   "execution_count": null,
   "id": "620345ec",
   "metadata": {},
   "outputs": [],
   "source": []
  },
  {
   "cell_type": "code",
   "execution_count": null,
   "id": "c8c27afe",
   "metadata": {},
   "outputs": [],
   "source": []
  },
  {
   "cell_type": "code",
   "execution_count": null,
   "id": "c8079820",
   "metadata": {},
   "outputs": [],
   "source": []
  },
  {
   "cell_type": "code",
   "execution_count": null,
   "id": "76980636",
   "metadata": {},
   "outputs": [],
   "source": []
  },
  {
   "cell_type": "code",
   "execution_count": null,
   "id": "5b98b401",
   "metadata": {},
   "outputs": [],
   "source": []
  },
  {
   "cell_type": "code",
   "execution_count": null,
   "id": "a88641dd",
   "metadata": {},
   "outputs": [],
   "source": []
  },
  {
   "cell_type": "code",
   "execution_count": null,
   "id": "85eac9d0",
   "metadata": {},
   "outputs": [],
   "source": []
  },
  {
   "cell_type": "code",
   "execution_count": null,
   "id": "67e07b85",
   "metadata": {},
   "outputs": [],
   "source": []
  },
  {
   "cell_type": "code",
   "execution_count": null,
   "id": "e0b33647",
   "metadata": {},
   "outputs": [],
   "source": []
  },
  {
   "cell_type": "code",
   "execution_count": null,
   "id": "5893e61d",
   "metadata": {},
   "outputs": [],
   "source": []
  },
  {
   "cell_type": "code",
   "execution_count": null,
   "id": "c978ec20",
   "metadata": {},
   "outputs": [],
   "source": []
  },
  {
   "cell_type": "code",
   "execution_count": null,
   "id": "d1633e30",
   "metadata": {},
   "outputs": [],
   "source": []
  },
  {
   "cell_type": "code",
   "execution_count": null,
   "id": "60653dac",
   "metadata": {},
   "outputs": [],
   "source": []
  },
  {
   "cell_type": "code",
   "execution_count": null,
   "id": "46412e63",
   "metadata": {},
   "outputs": [],
   "source": []
  },
  {
   "cell_type": "code",
   "execution_count": null,
   "id": "259ed80a",
   "metadata": {},
   "outputs": [],
   "source": []
  },
  {
   "cell_type": "code",
   "execution_count": null,
   "id": "580b03fd",
   "metadata": {},
   "outputs": [],
   "source": []
  },
  {
   "cell_type": "code",
   "execution_count": null,
   "id": "ddcdc551",
   "metadata": {},
   "outputs": [],
   "source": []
  },
  {
   "cell_type": "code",
   "execution_count": null,
   "id": "f8454e05",
   "metadata": {},
   "outputs": [],
   "source": []
  },
  {
   "cell_type": "code",
   "execution_count": null,
   "id": "5de07667",
   "metadata": {},
   "outputs": [],
   "source": []
  },
  {
   "cell_type": "code",
   "execution_count": null,
   "id": "c7a44c1a",
   "metadata": {},
   "outputs": [],
   "source": []
  },
  {
   "cell_type": "code",
   "execution_count": null,
   "id": "a1f9a5d5",
   "metadata": {},
   "outputs": [],
   "source": []
  },
  {
   "cell_type": "code",
   "execution_count": null,
   "id": "5c15c505",
   "metadata": {},
   "outputs": [],
   "source": []
  },
  {
   "cell_type": "code",
   "execution_count": null,
   "id": "b4a86062",
   "metadata": {},
   "outputs": [],
   "source": []
  },
  {
   "cell_type": "code",
   "execution_count": null,
   "id": "0124d310",
   "metadata": {},
   "outputs": [],
   "source": []
  },
  {
   "cell_type": "code",
   "execution_count": null,
   "id": "c30d67e9",
   "metadata": {},
   "outputs": [],
   "source": []
  },
  {
   "cell_type": "code",
   "execution_count": null,
   "id": "a9e54287",
   "metadata": {},
   "outputs": [],
   "source": []
  },
  {
   "cell_type": "code",
   "execution_count": null,
   "id": "51afe164",
   "metadata": {},
   "outputs": [],
   "source": []
  },
  {
   "cell_type": "code",
   "execution_count": null,
   "id": "4563960b",
   "metadata": {},
   "outputs": [],
   "source": []
  },
  {
   "cell_type": "code",
   "execution_count": null,
   "id": "4f97bbc8",
   "metadata": {},
   "outputs": [],
   "source": []
  },
  {
   "cell_type": "code",
   "execution_count": 4,
   "id": "f904b758",
   "metadata": {},
   "outputs": [],
   "source": [
    "cols_to_drop=['Gender','Income_Category','Education_Level','Marital_Status','Card_Category','Customer_Age','Months_on_book','Avg_Open_To_Buy','Total_Amt_Chng_Q4_Q1']"
   ]
  },
  {
   "cell_type": "code",
   "execution_count": 5,
   "id": "a651fce0",
   "metadata": {},
   "outputs": [],
   "source": [
    "df.drop(cols_to_drop,inplace=True,axis=1)"
   ]
  },
  {
   "cell_type": "code",
   "execution_count": 7,
   "id": "bd51deaa",
   "metadata": {},
   "outputs": [
    {
     "data": {
      "text/plain": [
       "(11,)"
      ]
     },
     "execution_count": 7,
     "metadata": {},
     "output_type": "execute_result"
    }
   ],
   "source": [
    "df.columns.shape"
   ]
  },
  {
   "cell_type": "code",
   "execution_count": 41,
   "id": "8e473c23",
   "metadata": {},
   "outputs": [],
   "source": [
    "X=df.drop(\"Attrition_Flag\",axis=1)\n",
    "y=df.Attrition_Flag"
   ]
  },
  {
   "cell_type": "code",
   "execution_count": 42,
   "id": "d4f3d385",
   "metadata": {},
   "outputs": [],
   "source": [
    "y.replace([\"Existing Customer\",\"Attrited Customer\"],[0,1],inplace=True)"
   ]
  },
  {
   "cell_type": "code",
   "execution_count": 43,
   "id": "4d489466",
   "metadata": {},
   "outputs": [
    {
     "data": {
      "text/plain": [
       "0        0\n",
       "1        0\n",
       "2        0\n",
       "3        0\n",
       "4        0\n",
       "        ..\n",
       "10122    0\n",
       "10123    1\n",
       "10124    1\n",
       "10125    1\n",
       "10126    1\n",
       "Name: Attrition_Flag, Length: 10127, dtype: int64"
      ]
     },
     "execution_count": 43,
     "metadata": {},
     "output_type": "execute_result"
    }
   ],
   "source": [
    "y"
   ]
  },
  {
   "cell_type": "markdown",
   "id": "749a5fa3",
   "metadata": {},
   "source": [
    "# Buliding Pipeline for data preprocessing "
   ]
  },
  {
   "cell_type": "code",
   "execution_count": 44,
   "id": "7fe47e3c",
   "metadata": {},
   "outputs": [],
   "source": [
    "X_train, X_test, y_train, y_test = train_test_split(\n",
    "    X, y, test_size=0.25, random_state=42,stratify=y)"
   ]
  },
  {
   "cell_type": "code",
   "execution_count": 45,
   "id": "e2826c01",
   "metadata": {},
   "outputs": [
    {
     "name": "stdout",
     "output_type": "stream",
     "text": [
      "Shape of X_train:  (7595, 10)\n",
      "Shape of X_test: (2532, 10)\n"
     ]
    }
   ],
   "source": [
    "print(\"Shape of X_train: \",X_train.shape)\n",
    "print(\"Shape of X_test:\", X_test.shape)"
   ]
  },
  {
   "cell_type": "markdown",
   "id": "9b64f619",
   "metadata": {},
   "source": [
    "# Baseline Model "
   ]
  },
  {
   "cell_type": "code",
   "execution_count": 46,
   "id": "109d9213",
   "metadata": {},
   "outputs": [],
   "source": [
    "recall_basic=list()\n",
    "recall_under=list()\n",
    "recall_over=list()\n",
    "recall_hybrid=list()"
   ]
  },
  {
   "cell_type": "code",
   "execution_count": 47,
   "id": "30239189",
   "metadata": {},
   "outputs": [],
   "source": [
    "f1_basic=list()\n",
    "f1_under=list()\n",
    "f1_over=list()\n",
    "f1_hybrid=list()"
   ]
  },
  {
   "cell_type": "code",
   "execution_count": 48,
   "id": "0569e98b",
   "metadata": {},
   "outputs": [],
   "source": [
    "precision_basic=list()\n",
    "precision_under=list()\n",
    "precision_over=list()\n",
    "precision_hybrid=list()"
   ]
  },
  {
   "cell_type": "code",
   "execution_count": 49,
   "id": "07642971",
   "metadata": {},
   "outputs": [],
   "source": [
    "accuracy_basic=list()\n",
    "accuracy_under=list()\n",
    "accuracy_over=list()\n",
    "accuracy_hybrid=list()"
   ]
  },
  {
   "cell_type": "markdown",
   "id": "55567e63",
   "metadata": {},
   "source": [
    "### Naive Bayes"
   ]
  },
  {
   "cell_type": "code",
   "execution_count": 50,
   "id": "86f34e45",
   "metadata": {},
   "outputs": [],
   "source": [
    "nb_pipe=make_pipeline(MinMaxScaler(),GaussianNB())"
   ]
  },
  {
   "cell_type": "code",
   "execution_count": 51,
   "id": "0a23dc10",
   "metadata": {},
   "outputs": [
    {
     "data": {
      "text/html": [
       "<style>#sk-container-id-3 {color: black;background-color: white;}#sk-container-id-3 pre{padding: 0;}#sk-container-id-3 div.sk-toggleable {background-color: white;}#sk-container-id-3 label.sk-toggleable__label {cursor: pointer;display: block;width: 100%;margin-bottom: 0;padding: 0.3em;box-sizing: border-box;text-align: center;}#sk-container-id-3 label.sk-toggleable__label-arrow:before {content: \"▸\";float: left;margin-right: 0.25em;color: #696969;}#sk-container-id-3 label.sk-toggleable__label-arrow:hover:before {color: black;}#sk-container-id-3 div.sk-estimator:hover label.sk-toggleable__label-arrow:before {color: black;}#sk-container-id-3 div.sk-toggleable__content {max-height: 0;max-width: 0;overflow: hidden;text-align: left;background-color: #f0f8ff;}#sk-container-id-3 div.sk-toggleable__content pre {margin: 0.2em;color: black;border-radius: 0.25em;background-color: #f0f8ff;}#sk-container-id-3 input.sk-toggleable__control:checked~div.sk-toggleable__content {max-height: 200px;max-width: 100%;overflow: auto;}#sk-container-id-3 input.sk-toggleable__control:checked~label.sk-toggleable__label-arrow:before {content: \"▾\";}#sk-container-id-3 div.sk-estimator input.sk-toggleable__control:checked~label.sk-toggleable__label {background-color: #d4ebff;}#sk-container-id-3 div.sk-label input.sk-toggleable__control:checked~label.sk-toggleable__label {background-color: #d4ebff;}#sk-container-id-3 input.sk-hidden--visually {border: 0;clip: rect(1px 1px 1px 1px);clip: rect(1px, 1px, 1px, 1px);height: 1px;margin: -1px;overflow: hidden;padding: 0;position: absolute;width: 1px;}#sk-container-id-3 div.sk-estimator {font-family: monospace;background-color: #f0f8ff;border: 1px dotted black;border-radius: 0.25em;box-sizing: border-box;margin-bottom: 0.5em;}#sk-container-id-3 div.sk-estimator:hover {background-color: #d4ebff;}#sk-container-id-3 div.sk-parallel-item::after {content: \"\";width: 100%;border-bottom: 1px solid gray;flex-grow: 1;}#sk-container-id-3 div.sk-label:hover label.sk-toggleable__label {background-color: #d4ebff;}#sk-container-id-3 div.sk-serial::before {content: \"\";position: absolute;border-left: 1px solid gray;box-sizing: border-box;top: 0;bottom: 0;left: 50%;z-index: 0;}#sk-container-id-3 div.sk-serial {display: flex;flex-direction: column;align-items: center;background-color: white;padding-right: 0.2em;padding-left: 0.2em;position: relative;}#sk-container-id-3 div.sk-item {position: relative;z-index: 1;}#sk-container-id-3 div.sk-parallel {display: flex;align-items: stretch;justify-content: center;background-color: white;position: relative;}#sk-container-id-3 div.sk-item::before, #sk-container-id-3 div.sk-parallel-item::before {content: \"\";position: absolute;border-left: 1px solid gray;box-sizing: border-box;top: 0;bottom: 0;left: 50%;z-index: -1;}#sk-container-id-3 div.sk-parallel-item {display: flex;flex-direction: column;z-index: 1;position: relative;background-color: white;}#sk-container-id-3 div.sk-parallel-item:first-child::after {align-self: flex-end;width: 50%;}#sk-container-id-3 div.sk-parallel-item:last-child::after {align-self: flex-start;width: 50%;}#sk-container-id-3 div.sk-parallel-item:only-child::after {width: 0;}#sk-container-id-3 div.sk-dashed-wrapped {border: 1px dashed gray;margin: 0 0.4em 0.5em 0.4em;box-sizing: border-box;padding-bottom: 0.4em;background-color: white;}#sk-container-id-3 div.sk-label label {font-family: monospace;font-weight: bold;display: inline-block;line-height: 1.2em;}#sk-container-id-3 div.sk-label-container {text-align: center;}#sk-container-id-3 div.sk-container {/* jupyter's `normalize.less` sets `[hidden] { display: none; }` but bootstrap.min.css set `[hidden] { display: none !important; }` so we also need the `!important` here to be able to override the default hidden behavior on the sphinx rendered scikit-learn.org. See: https://github.com/scikit-learn/scikit-learn/issues/21755 */display: inline-block !important;position: relative;}#sk-container-id-3 div.sk-text-repr-fallback {display: none;}</style><div id=\"sk-container-id-3\" class=\"sk-top-container\"><div class=\"sk-text-repr-fallback\"><pre>Pipeline(steps=[(&#x27;minmaxscaler&#x27;, MinMaxScaler()), (&#x27;gaussiannb&#x27;, GaussianNB())])</pre><b>In a Jupyter environment, please rerun this cell to show the HTML representation or trust the notebook. <br />On GitHub, the HTML representation is unable to render, please try loading this page with nbviewer.org.</b></div><div class=\"sk-container\" hidden><div class=\"sk-item sk-dashed-wrapped\"><div class=\"sk-label-container\"><div class=\"sk-label sk-toggleable\"><input class=\"sk-toggleable__control sk-hidden--visually\" id=\"sk-estimator-id-7\" type=\"checkbox\" ><label for=\"sk-estimator-id-7\" class=\"sk-toggleable__label sk-toggleable__label-arrow\">Pipeline</label><div class=\"sk-toggleable__content\"><pre>Pipeline(steps=[(&#x27;minmaxscaler&#x27;, MinMaxScaler()), (&#x27;gaussiannb&#x27;, GaussianNB())])</pre></div></div></div><div class=\"sk-serial\"><div class=\"sk-item\"><div class=\"sk-estimator sk-toggleable\"><input class=\"sk-toggleable__control sk-hidden--visually\" id=\"sk-estimator-id-8\" type=\"checkbox\" ><label for=\"sk-estimator-id-8\" class=\"sk-toggleable__label sk-toggleable__label-arrow\">MinMaxScaler</label><div class=\"sk-toggleable__content\"><pre>MinMaxScaler()</pre></div></div></div><div class=\"sk-item\"><div class=\"sk-estimator sk-toggleable\"><input class=\"sk-toggleable__control sk-hidden--visually\" id=\"sk-estimator-id-9\" type=\"checkbox\" ><label for=\"sk-estimator-id-9\" class=\"sk-toggleable__label sk-toggleable__label-arrow\">GaussianNB</label><div class=\"sk-toggleable__content\"><pre>GaussianNB()</pre></div></div></div></div></div></div></div>"
      ],
      "text/plain": [
       "Pipeline(steps=[('minmaxscaler', MinMaxScaler()), ('gaussiannb', GaussianNB())])"
      ]
     },
     "execution_count": 51,
     "metadata": {},
     "output_type": "execute_result"
    }
   ],
   "source": [
    "nb_pipe.fit(X_train,y_train)"
   ]
  },
  {
   "cell_type": "code",
   "execution_count": 52,
   "id": "d3746302",
   "metadata": {},
   "outputs": [
    {
     "name": "stdout",
     "output_type": "stream",
     "text": [
      "              precision    recall  f1-score   support\n",
      "\n",
      "           0       0.92      0.93      0.93      2125\n",
      "           1       0.63      0.59      0.61       407\n",
      "\n",
      "    accuracy                           0.88      2532\n",
      "   macro avg       0.78      0.76      0.77      2532\n",
      "weighted avg       0.88      0.88      0.88      2532\n",
      "\n"
     ]
    }
   ],
   "source": [
    "print(classification_report(y_test,nb_pipe.predict(X_test),zero_division=0))"
   ]
  },
  {
   "cell_type": "code",
   "execution_count": 53,
   "id": "dbe7f502",
   "metadata": {},
   "outputs": [],
   "source": [
    "recall_basic.append(recall_score(y_test,nb_pipe.predict(X_test)).round(2))\n",
    "f1_basic.append(f1_score(y_test,nb_pipe.predict(X_test)).round(2))\n",
    "precision_basic.append(precision_score(y_test,nb_pipe.predict(X_test)).round(2))\n",
    "accuracy_basic.append(accuracy_score(y_test,nb_pipe.predict(X_test)).round(2))"
   ]
  },
  {
   "cell_type": "markdown",
   "id": "ae602e90",
   "metadata": {},
   "source": [
    "### Logistic Regression"
   ]
  },
  {
   "cell_type": "code",
   "execution_count": 54,
   "id": "f470699e",
   "metadata": {},
   "outputs": [],
   "source": [
    "log_pipe=make_pipeline(StandardScaler(),LogisticRegression(random_state=42,max_iter=500))"
   ]
  },
  {
   "cell_type": "code",
   "execution_count": 55,
   "id": "01c8d59b",
   "metadata": {},
   "outputs": [
    {
     "data": {
      "text/html": [
       "<style>#sk-container-id-4 {color: black;background-color: white;}#sk-container-id-4 pre{padding: 0;}#sk-container-id-4 div.sk-toggleable {background-color: white;}#sk-container-id-4 label.sk-toggleable__label {cursor: pointer;display: block;width: 100%;margin-bottom: 0;padding: 0.3em;box-sizing: border-box;text-align: center;}#sk-container-id-4 label.sk-toggleable__label-arrow:before {content: \"▸\";float: left;margin-right: 0.25em;color: #696969;}#sk-container-id-4 label.sk-toggleable__label-arrow:hover:before {color: black;}#sk-container-id-4 div.sk-estimator:hover label.sk-toggleable__label-arrow:before {color: black;}#sk-container-id-4 div.sk-toggleable__content {max-height: 0;max-width: 0;overflow: hidden;text-align: left;background-color: #f0f8ff;}#sk-container-id-4 div.sk-toggleable__content pre {margin: 0.2em;color: black;border-radius: 0.25em;background-color: #f0f8ff;}#sk-container-id-4 input.sk-toggleable__control:checked~div.sk-toggleable__content {max-height: 200px;max-width: 100%;overflow: auto;}#sk-container-id-4 input.sk-toggleable__control:checked~label.sk-toggleable__label-arrow:before {content: \"▾\";}#sk-container-id-4 div.sk-estimator input.sk-toggleable__control:checked~label.sk-toggleable__label {background-color: #d4ebff;}#sk-container-id-4 div.sk-label input.sk-toggleable__control:checked~label.sk-toggleable__label {background-color: #d4ebff;}#sk-container-id-4 input.sk-hidden--visually {border: 0;clip: rect(1px 1px 1px 1px);clip: rect(1px, 1px, 1px, 1px);height: 1px;margin: -1px;overflow: hidden;padding: 0;position: absolute;width: 1px;}#sk-container-id-4 div.sk-estimator {font-family: monospace;background-color: #f0f8ff;border: 1px dotted black;border-radius: 0.25em;box-sizing: border-box;margin-bottom: 0.5em;}#sk-container-id-4 div.sk-estimator:hover {background-color: #d4ebff;}#sk-container-id-4 div.sk-parallel-item::after {content: \"\";width: 100%;border-bottom: 1px solid gray;flex-grow: 1;}#sk-container-id-4 div.sk-label:hover label.sk-toggleable__label {background-color: #d4ebff;}#sk-container-id-4 div.sk-serial::before {content: \"\";position: absolute;border-left: 1px solid gray;box-sizing: border-box;top: 0;bottom: 0;left: 50%;z-index: 0;}#sk-container-id-4 div.sk-serial {display: flex;flex-direction: column;align-items: center;background-color: white;padding-right: 0.2em;padding-left: 0.2em;position: relative;}#sk-container-id-4 div.sk-item {position: relative;z-index: 1;}#sk-container-id-4 div.sk-parallel {display: flex;align-items: stretch;justify-content: center;background-color: white;position: relative;}#sk-container-id-4 div.sk-item::before, #sk-container-id-4 div.sk-parallel-item::before {content: \"\";position: absolute;border-left: 1px solid gray;box-sizing: border-box;top: 0;bottom: 0;left: 50%;z-index: -1;}#sk-container-id-4 div.sk-parallel-item {display: flex;flex-direction: column;z-index: 1;position: relative;background-color: white;}#sk-container-id-4 div.sk-parallel-item:first-child::after {align-self: flex-end;width: 50%;}#sk-container-id-4 div.sk-parallel-item:last-child::after {align-self: flex-start;width: 50%;}#sk-container-id-4 div.sk-parallel-item:only-child::after {width: 0;}#sk-container-id-4 div.sk-dashed-wrapped {border: 1px dashed gray;margin: 0 0.4em 0.5em 0.4em;box-sizing: border-box;padding-bottom: 0.4em;background-color: white;}#sk-container-id-4 div.sk-label label {font-family: monospace;font-weight: bold;display: inline-block;line-height: 1.2em;}#sk-container-id-4 div.sk-label-container {text-align: center;}#sk-container-id-4 div.sk-container {/* jupyter's `normalize.less` sets `[hidden] { display: none; }` but bootstrap.min.css set `[hidden] { display: none !important; }` so we also need the `!important` here to be able to override the default hidden behavior on the sphinx rendered scikit-learn.org. See: https://github.com/scikit-learn/scikit-learn/issues/21755 */display: inline-block !important;position: relative;}#sk-container-id-4 div.sk-text-repr-fallback {display: none;}</style><div id=\"sk-container-id-4\" class=\"sk-top-container\"><div class=\"sk-text-repr-fallback\"><pre>Pipeline(steps=[(&#x27;standardscaler&#x27;, StandardScaler()),\n",
       "                (&#x27;logisticregression&#x27;,\n",
       "                 LogisticRegression(max_iter=500, random_state=42))])</pre><b>In a Jupyter environment, please rerun this cell to show the HTML representation or trust the notebook. <br />On GitHub, the HTML representation is unable to render, please try loading this page with nbviewer.org.</b></div><div class=\"sk-container\" hidden><div class=\"sk-item sk-dashed-wrapped\"><div class=\"sk-label-container\"><div class=\"sk-label sk-toggleable\"><input class=\"sk-toggleable__control sk-hidden--visually\" id=\"sk-estimator-id-10\" type=\"checkbox\" ><label for=\"sk-estimator-id-10\" class=\"sk-toggleable__label sk-toggleable__label-arrow\">Pipeline</label><div class=\"sk-toggleable__content\"><pre>Pipeline(steps=[(&#x27;standardscaler&#x27;, StandardScaler()),\n",
       "                (&#x27;logisticregression&#x27;,\n",
       "                 LogisticRegression(max_iter=500, random_state=42))])</pre></div></div></div><div class=\"sk-serial\"><div class=\"sk-item\"><div class=\"sk-estimator sk-toggleable\"><input class=\"sk-toggleable__control sk-hidden--visually\" id=\"sk-estimator-id-11\" type=\"checkbox\" ><label for=\"sk-estimator-id-11\" class=\"sk-toggleable__label sk-toggleable__label-arrow\">StandardScaler</label><div class=\"sk-toggleable__content\"><pre>StandardScaler()</pre></div></div></div><div class=\"sk-item\"><div class=\"sk-estimator sk-toggleable\"><input class=\"sk-toggleable__control sk-hidden--visually\" id=\"sk-estimator-id-12\" type=\"checkbox\" ><label for=\"sk-estimator-id-12\" class=\"sk-toggleable__label sk-toggleable__label-arrow\">LogisticRegression</label><div class=\"sk-toggleable__content\"><pre>LogisticRegression(max_iter=500, random_state=42)</pre></div></div></div></div></div></div></div>"
      ],
      "text/plain": [
       "Pipeline(steps=[('standardscaler', StandardScaler()),\n",
       "                ('logisticregression',\n",
       "                 LogisticRegression(max_iter=500, random_state=42))])"
      ]
     },
     "execution_count": 55,
     "metadata": {},
     "output_type": "execute_result"
    }
   ],
   "source": [
    "log_pipe.fit(X_train,y_train)"
   ]
  },
  {
   "cell_type": "code",
   "execution_count": 56,
   "id": "71849c5c",
   "metadata": {},
   "outputs": [
    {
     "name": "stdout",
     "output_type": "stream",
     "text": [
      "              precision    recall  f1-score   support\n",
      "\n",
      "           0       0.91      0.97      0.94      2125\n",
      "           1       0.78      0.51      0.62       407\n",
      "\n",
      "    accuracy                           0.90      2532\n",
      "   macro avg       0.84      0.74      0.78      2532\n",
      "weighted avg       0.89      0.90      0.89      2532\n",
      "\n"
     ]
    }
   ],
   "source": [
    "print(classification_report(y_test,log_pipe.predict(X_test)))"
   ]
  },
  {
   "cell_type": "code",
   "execution_count": 57,
   "id": "341b7815",
   "metadata": {},
   "outputs": [],
   "source": [
    "recall_basic.append(recall_score(y_test,log_pipe.predict(X_test)).round(2))\n",
    "f1_basic.append(f1_score(y_test,log_pipe.predict(X_test)).round(2))\n",
    "precision_basic.append(precision_score(y_test,log_pipe.predict(X_test)).round(2))\n",
    "accuracy_basic.append(accuracy_score(y_test,log_pipe.predict(X_test)).round(2))"
   ]
  },
  {
   "cell_type": "markdown",
   "id": "16d4b0a6",
   "metadata": {},
   "source": [
    "### Decision Tree"
   ]
  },
  {
   "cell_type": "code",
   "execution_count": 58,
   "id": "16cb50f9",
   "metadata": {},
   "outputs": [],
   "source": [
    "dt_pipe=make_pipeline(StandardScaler(),DecisionTreeClassifier())"
   ]
  },
  {
   "cell_type": "code",
   "execution_count": 59,
   "id": "4df0d35b",
   "metadata": {},
   "outputs": [
    {
     "data": {
      "text/html": [
       "<style>#sk-container-id-5 {color: black;background-color: white;}#sk-container-id-5 pre{padding: 0;}#sk-container-id-5 div.sk-toggleable {background-color: white;}#sk-container-id-5 label.sk-toggleable__label {cursor: pointer;display: block;width: 100%;margin-bottom: 0;padding: 0.3em;box-sizing: border-box;text-align: center;}#sk-container-id-5 label.sk-toggleable__label-arrow:before {content: \"▸\";float: left;margin-right: 0.25em;color: #696969;}#sk-container-id-5 label.sk-toggleable__label-arrow:hover:before {color: black;}#sk-container-id-5 div.sk-estimator:hover label.sk-toggleable__label-arrow:before {color: black;}#sk-container-id-5 div.sk-toggleable__content {max-height: 0;max-width: 0;overflow: hidden;text-align: left;background-color: #f0f8ff;}#sk-container-id-5 div.sk-toggleable__content pre {margin: 0.2em;color: black;border-radius: 0.25em;background-color: #f0f8ff;}#sk-container-id-5 input.sk-toggleable__control:checked~div.sk-toggleable__content {max-height: 200px;max-width: 100%;overflow: auto;}#sk-container-id-5 input.sk-toggleable__control:checked~label.sk-toggleable__label-arrow:before {content: \"▾\";}#sk-container-id-5 div.sk-estimator input.sk-toggleable__control:checked~label.sk-toggleable__label {background-color: #d4ebff;}#sk-container-id-5 div.sk-label input.sk-toggleable__control:checked~label.sk-toggleable__label {background-color: #d4ebff;}#sk-container-id-5 input.sk-hidden--visually {border: 0;clip: rect(1px 1px 1px 1px);clip: rect(1px, 1px, 1px, 1px);height: 1px;margin: -1px;overflow: hidden;padding: 0;position: absolute;width: 1px;}#sk-container-id-5 div.sk-estimator {font-family: monospace;background-color: #f0f8ff;border: 1px dotted black;border-radius: 0.25em;box-sizing: border-box;margin-bottom: 0.5em;}#sk-container-id-5 div.sk-estimator:hover {background-color: #d4ebff;}#sk-container-id-5 div.sk-parallel-item::after {content: \"\";width: 100%;border-bottom: 1px solid gray;flex-grow: 1;}#sk-container-id-5 div.sk-label:hover label.sk-toggleable__label {background-color: #d4ebff;}#sk-container-id-5 div.sk-serial::before {content: \"\";position: absolute;border-left: 1px solid gray;box-sizing: border-box;top: 0;bottom: 0;left: 50%;z-index: 0;}#sk-container-id-5 div.sk-serial {display: flex;flex-direction: column;align-items: center;background-color: white;padding-right: 0.2em;padding-left: 0.2em;position: relative;}#sk-container-id-5 div.sk-item {position: relative;z-index: 1;}#sk-container-id-5 div.sk-parallel {display: flex;align-items: stretch;justify-content: center;background-color: white;position: relative;}#sk-container-id-5 div.sk-item::before, #sk-container-id-5 div.sk-parallel-item::before {content: \"\";position: absolute;border-left: 1px solid gray;box-sizing: border-box;top: 0;bottom: 0;left: 50%;z-index: -1;}#sk-container-id-5 div.sk-parallel-item {display: flex;flex-direction: column;z-index: 1;position: relative;background-color: white;}#sk-container-id-5 div.sk-parallel-item:first-child::after {align-self: flex-end;width: 50%;}#sk-container-id-5 div.sk-parallel-item:last-child::after {align-self: flex-start;width: 50%;}#sk-container-id-5 div.sk-parallel-item:only-child::after {width: 0;}#sk-container-id-5 div.sk-dashed-wrapped {border: 1px dashed gray;margin: 0 0.4em 0.5em 0.4em;box-sizing: border-box;padding-bottom: 0.4em;background-color: white;}#sk-container-id-5 div.sk-label label {font-family: monospace;font-weight: bold;display: inline-block;line-height: 1.2em;}#sk-container-id-5 div.sk-label-container {text-align: center;}#sk-container-id-5 div.sk-container {/* jupyter's `normalize.less` sets `[hidden] { display: none; }` but bootstrap.min.css set `[hidden] { display: none !important; }` so we also need the `!important` here to be able to override the default hidden behavior on the sphinx rendered scikit-learn.org. See: https://github.com/scikit-learn/scikit-learn/issues/21755 */display: inline-block !important;position: relative;}#sk-container-id-5 div.sk-text-repr-fallback {display: none;}</style><div id=\"sk-container-id-5\" class=\"sk-top-container\"><div class=\"sk-text-repr-fallback\"><pre>Pipeline(steps=[(&#x27;standardscaler&#x27;, StandardScaler()),\n",
       "                (&#x27;decisiontreeclassifier&#x27;, DecisionTreeClassifier())])</pre><b>In a Jupyter environment, please rerun this cell to show the HTML representation or trust the notebook. <br />On GitHub, the HTML representation is unable to render, please try loading this page with nbviewer.org.</b></div><div class=\"sk-container\" hidden><div class=\"sk-item sk-dashed-wrapped\"><div class=\"sk-label-container\"><div class=\"sk-label sk-toggleable\"><input class=\"sk-toggleable__control sk-hidden--visually\" id=\"sk-estimator-id-13\" type=\"checkbox\" ><label for=\"sk-estimator-id-13\" class=\"sk-toggleable__label sk-toggleable__label-arrow\">Pipeline</label><div class=\"sk-toggleable__content\"><pre>Pipeline(steps=[(&#x27;standardscaler&#x27;, StandardScaler()),\n",
       "                (&#x27;decisiontreeclassifier&#x27;, DecisionTreeClassifier())])</pre></div></div></div><div class=\"sk-serial\"><div class=\"sk-item\"><div class=\"sk-estimator sk-toggleable\"><input class=\"sk-toggleable__control sk-hidden--visually\" id=\"sk-estimator-id-14\" type=\"checkbox\" ><label for=\"sk-estimator-id-14\" class=\"sk-toggleable__label sk-toggleable__label-arrow\">StandardScaler</label><div class=\"sk-toggleable__content\"><pre>StandardScaler()</pre></div></div></div><div class=\"sk-item\"><div class=\"sk-estimator sk-toggleable\"><input class=\"sk-toggleable__control sk-hidden--visually\" id=\"sk-estimator-id-15\" type=\"checkbox\" ><label for=\"sk-estimator-id-15\" class=\"sk-toggleable__label sk-toggleable__label-arrow\">DecisionTreeClassifier</label><div class=\"sk-toggleable__content\"><pre>DecisionTreeClassifier()</pre></div></div></div></div></div></div></div>"
      ],
      "text/plain": [
       "Pipeline(steps=[('standardscaler', StandardScaler()),\n",
       "                ('decisiontreeclassifier', DecisionTreeClassifier())])"
      ]
     },
     "execution_count": 59,
     "metadata": {},
     "output_type": "execute_result"
    }
   ],
   "source": [
    "dt_pipe.fit(X_train,y_train)"
   ]
  },
  {
   "cell_type": "code",
   "execution_count": 60,
   "id": "28e90703",
   "metadata": {},
   "outputs": [
    {
     "name": "stdout",
     "output_type": "stream",
     "text": [
      "              precision    recall  f1-score   support\n",
      "\n",
      "           0       0.95      0.96      0.96      2125\n",
      "           1       0.78      0.75      0.77       407\n",
      "\n",
      "    accuracy                           0.93      2532\n",
      "   macro avg       0.87      0.86      0.86      2532\n",
      "weighted avg       0.93      0.93      0.93      2532\n",
      "\n"
     ]
    }
   ],
   "source": [
    "print(classification_report(y_test,dt_pipe.predict(X_test)))"
   ]
  },
  {
   "cell_type": "code",
   "execution_count": 61,
   "id": "7ccb709c",
   "metadata": {},
   "outputs": [],
   "source": [
    "recall_basic.append(recall_score(y_test,dt_pipe.predict(X_test)).round(2))\n",
    "f1_basic.append(f1_score(y_test,dt_pipe.predict(X_test)).round(2))\n",
    "precision_basic.append(precision_score(y_test,dt_pipe.predict(X_test)).round(2))\n",
    "accuracy_basic.append(accuracy_score(y_test,dt_pipe.predict(X_test)).round(2))"
   ]
  },
  {
   "cell_type": "markdown",
   "id": "6d3e9409",
   "metadata": {},
   "source": [
    "## Under Sampling"
   ]
  },
  {
   "cell_type": "code",
   "execution_count": 62,
   "id": "d8913f42",
   "metadata": {},
   "outputs": [],
   "source": [
    "def undersampling(X,y,n=3):\n",
    "    \n",
    "    #resetting the index of both X and y\n",
    "    X.reset_index(drop=True,inplace=True)\n",
    "    y.reset_index(drop=True,inplace=True)\n",
    "    \n",
    "    # creating a dataframe of counts corresponding to each category\n",
    "    temp_df=y.value_counts().reset_index()\n",
    "    temp_df.columns=[y.name,\"Count\"]\n",
    "    \n",
    "    #finding the majority label, minority label, majority count minority count\n",
    "    majority_label=temp_df[y.name][temp_df.Count.idxmax()]\n",
    "    majority_count=temp_df[\"Count\"][temp_df.Count.idxmax()]\n",
    "    minority_label=temp_df[y.name][temp_df.Count.idxmin()]\n",
    "    minority_count=temp_df[\"Count\"][temp_df.Count.idxmax()]\n",
    "    \n",
    "    #creating subsets of dataset based on the majority label and minority label\n",
    "    X_minor=X[y==minority_label].reset_index(drop=True)\n",
    "    X_major=X[y==majority_label].reset_index(drop=True)\n",
    "    \n",
    "    #finding the mean of majority category\n",
    "    mean=X_major.mean(axis=0).values\n",
    "    \n",
    "    #calculating distance of every minority class point from the mean of majority class\n",
    "    distance=np.array([])\n",
    "    for i in range(X_minor.shape[0]):\n",
    "        d=np.sqrt(sum((X_minor.iloc[i].values-mean)**2))\n",
    "        distance=np.append(distance,d)\n",
    "    \n",
    "    #finding the indices of minority points according to the distance (in ascending order)\n",
    "    minority_indices=np.argsort(distance)\n",
    "    \n",
    "    #reordering the X_minor according to the minority index\n",
    "    X_minor=X_minor.iloc[minority_indices]\n",
    "    \n",
    "    # Find the indices to drop from X_major based on the n closest majority points for each minority point\n",
    "    for i in range(X_minor.shape[0]):\n",
    "        distance=np.array([])\n",
    "        for j in range(X_major.shape[0]):\n",
    "            d=np.sqrt(sum((X_major.iloc[j].values-X_minor.iloc[i].values)**2))\n",
    "            distance=np.append(distance,d)\n",
    "        \n",
    "        indices=np.argsort(distance)[0:n]\n",
    "    \n",
    "        # Drop the 4 points from X_major for this iteration\n",
    "        X_major.drop(index=indices, axis=0, inplace=True)\n",
    "        X_major.reset_index(drop=True,inplace=True)\n",
    "    \n",
    "    #Creating new pandas series of the size of X_major and X_minor \n",
    "    y_major=pd.Series(np.repeat(majority_label,X_major.shape[0]))\n",
    "    y_minor=pd.Series(np.repeat(minority_label,X_minor.shape[0]))\n",
    "    \n",
    "    #concatinating X_major and X_minor additionally y_major and y_minor\n",
    "    X_new=pd.concat([X_major,X_minor],axis=0).reset_index(drop=True)\n",
    "    y_new=pd.concat([y_major,y_minor],axis=0).reset_index(drop=True)\n",
    "    y_new.name=y.name\n",
    "    \n",
    "    #concatinating the X_new and y_new so that i can can suffle the row along with their corresponding labels\n",
    "    X_y=pd.concat([X_new,y_new],axis=1)\n",
    "    \n",
    "    #suffeling the dataframe rows\n",
    "    X_y=X_y.sample(frac=1.0, random_state=42).reset_index(drop=True)\n",
    "    \n",
    "    #splitting the X_y dataframe and feature matrix and target variable \n",
    "    columns_list=X_y.columns.to_list()\n",
    "    X = X_y[columns_list[:-1]]\n",
    "    y = X_y[columns_list[-1]]\n",
    "    \n",
    "\n",
    "    return X,y"
   ]
  },
  {
   "cell_type": "code",
   "execution_count": 63,
   "id": "488fc640",
   "metadata": {},
   "outputs": [],
   "source": [
    "X_train_under,y_train_under=undersampling(X_train,y_train)"
   ]
  },
  {
   "cell_type": "code",
   "execution_count": 64,
   "id": "98aec1b9",
   "metadata": {},
   "outputs": [
    {
     "name": "stdout",
     "output_type": "stream",
     "text": [
      "Shape of X_train:  (3935, 10)\n",
      "Shape of X_test: (2532, 10)\n"
     ]
    }
   ],
   "source": [
    "print(\"Shape of X_train: \",X_train_under.shape)\n",
    "print(\"Shape of X_test:\", X_test.shape)"
   ]
  },
  {
   "cell_type": "markdown",
   "id": "7184864c",
   "metadata": {},
   "source": [
    "### Naive Bayes"
   ]
  },
  {
   "cell_type": "code",
   "execution_count": 65,
   "id": "70fffeea",
   "metadata": {},
   "outputs": [
    {
     "data": {
      "text/html": [
       "<style>#sk-container-id-6 {color: black;background-color: white;}#sk-container-id-6 pre{padding: 0;}#sk-container-id-6 div.sk-toggleable {background-color: white;}#sk-container-id-6 label.sk-toggleable__label {cursor: pointer;display: block;width: 100%;margin-bottom: 0;padding: 0.3em;box-sizing: border-box;text-align: center;}#sk-container-id-6 label.sk-toggleable__label-arrow:before {content: \"▸\";float: left;margin-right: 0.25em;color: #696969;}#sk-container-id-6 label.sk-toggleable__label-arrow:hover:before {color: black;}#sk-container-id-6 div.sk-estimator:hover label.sk-toggleable__label-arrow:before {color: black;}#sk-container-id-6 div.sk-toggleable__content {max-height: 0;max-width: 0;overflow: hidden;text-align: left;background-color: #f0f8ff;}#sk-container-id-6 div.sk-toggleable__content pre {margin: 0.2em;color: black;border-radius: 0.25em;background-color: #f0f8ff;}#sk-container-id-6 input.sk-toggleable__control:checked~div.sk-toggleable__content {max-height: 200px;max-width: 100%;overflow: auto;}#sk-container-id-6 input.sk-toggleable__control:checked~label.sk-toggleable__label-arrow:before {content: \"▾\";}#sk-container-id-6 div.sk-estimator input.sk-toggleable__control:checked~label.sk-toggleable__label {background-color: #d4ebff;}#sk-container-id-6 div.sk-label input.sk-toggleable__control:checked~label.sk-toggleable__label {background-color: #d4ebff;}#sk-container-id-6 input.sk-hidden--visually {border: 0;clip: rect(1px 1px 1px 1px);clip: rect(1px, 1px, 1px, 1px);height: 1px;margin: -1px;overflow: hidden;padding: 0;position: absolute;width: 1px;}#sk-container-id-6 div.sk-estimator {font-family: monospace;background-color: #f0f8ff;border: 1px dotted black;border-radius: 0.25em;box-sizing: border-box;margin-bottom: 0.5em;}#sk-container-id-6 div.sk-estimator:hover {background-color: #d4ebff;}#sk-container-id-6 div.sk-parallel-item::after {content: \"\";width: 100%;border-bottom: 1px solid gray;flex-grow: 1;}#sk-container-id-6 div.sk-label:hover label.sk-toggleable__label {background-color: #d4ebff;}#sk-container-id-6 div.sk-serial::before {content: \"\";position: absolute;border-left: 1px solid gray;box-sizing: border-box;top: 0;bottom: 0;left: 50%;z-index: 0;}#sk-container-id-6 div.sk-serial {display: flex;flex-direction: column;align-items: center;background-color: white;padding-right: 0.2em;padding-left: 0.2em;position: relative;}#sk-container-id-6 div.sk-item {position: relative;z-index: 1;}#sk-container-id-6 div.sk-parallel {display: flex;align-items: stretch;justify-content: center;background-color: white;position: relative;}#sk-container-id-6 div.sk-item::before, #sk-container-id-6 div.sk-parallel-item::before {content: \"\";position: absolute;border-left: 1px solid gray;box-sizing: border-box;top: 0;bottom: 0;left: 50%;z-index: -1;}#sk-container-id-6 div.sk-parallel-item {display: flex;flex-direction: column;z-index: 1;position: relative;background-color: white;}#sk-container-id-6 div.sk-parallel-item:first-child::after {align-self: flex-end;width: 50%;}#sk-container-id-6 div.sk-parallel-item:last-child::after {align-self: flex-start;width: 50%;}#sk-container-id-6 div.sk-parallel-item:only-child::after {width: 0;}#sk-container-id-6 div.sk-dashed-wrapped {border: 1px dashed gray;margin: 0 0.4em 0.5em 0.4em;box-sizing: border-box;padding-bottom: 0.4em;background-color: white;}#sk-container-id-6 div.sk-label label {font-family: monospace;font-weight: bold;display: inline-block;line-height: 1.2em;}#sk-container-id-6 div.sk-label-container {text-align: center;}#sk-container-id-6 div.sk-container {/* jupyter's `normalize.less` sets `[hidden] { display: none; }` but bootstrap.min.css set `[hidden] { display: none !important; }` so we also need the `!important` here to be able to override the default hidden behavior on the sphinx rendered scikit-learn.org. See: https://github.com/scikit-learn/scikit-learn/issues/21755 */display: inline-block !important;position: relative;}#sk-container-id-6 div.sk-text-repr-fallback {display: none;}</style><div id=\"sk-container-id-6\" class=\"sk-top-container\"><div class=\"sk-text-repr-fallback\"><pre>Pipeline(steps=[(&#x27;minmaxscaler&#x27;, MinMaxScaler()), (&#x27;gaussiannb&#x27;, GaussianNB())])</pre><b>In a Jupyter environment, please rerun this cell to show the HTML representation or trust the notebook. <br />On GitHub, the HTML representation is unable to render, please try loading this page with nbviewer.org.</b></div><div class=\"sk-container\" hidden><div class=\"sk-item sk-dashed-wrapped\"><div class=\"sk-label-container\"><div class=\"sk-label sk-toggleable\"><input class=\"sk-toggleable__control sk-hidden--visually\" id=\"sk-estimator-id-16\" type=\"checkbox\" ><label for=\"sk-estimator-id-16\" class=\"sk-toggleable__label sk-toggleable__label-arrow\">Pipeline</label><div class=\"sk-toggleable__content\"><pre>Pipeline(steps=[(&#x27;minmaxscaler&#x27;, MinMaxScaler()), (&#x27;gaussiannb&#x27;, GaussianNB())])</pre></div></div></div><div class=\"sk-serial\"><div class=\"sk-item\"><div class=\"sk-estimator sk-toggleable\"><input class=\"sk-toggleable__control sk-hidden--visually\" id=\"sk-estimator-id-17\" type=\"checkbox\" ><label for=\"sk-estimator-id-17\" class=\"sk-toggleable__label sk-toggleable__label-arrow\">MinMaxScaler</label><div class=\"sk-toggleable__content\"><pre>MinMaxScaler()</pre></div></div></div><div class=\"sk-item\"><div class=\"sk-estimator sk-toggleable\"><input class=\"sk-toggleable__control sk-hidden--visually\" id=\"sk-estimator-id-18\" type=\"checkbox\" ><label for=\"sk-estimator-id-18\" class=\"sk-toggleable__label sk-toggleable__label-arrow\">GaussianNB</label><div class=\"sk-toggleable__content\"><pre>GaussianNB()</pre></div></div></div></div></div></div></div>"
      ],
      "text/plain": [
       "Pipeline(steps=[('minmaxscaler', MinMaxScaler()), ('gaussiannb', GaussianNB())])"
      ]
     },
     "execution_count": 65,
     "metadata": {},
     "output_type": "execute_result"
    }
   ],
   "source": [
    "nb_pipe.fit(X_train_under,y_train_under)"
   ]
  },
  {
   "cell_type": "code",
   "execution_count": 66,
   "id": "8d56b4bf",
   "metadata": {},
   "outputs": [
    {
     "name": "stdout",
     "output_type": "stream",
     "text": [
      "              precision    recall  f1-score   support\n",
      "\n",
      "           0       0.95      0.72      0.82      2125\n",
      "           1       0.35      0.79      0.49       407\n",
      "\n",
      "    accuracy                           0.73      2532\n",
      "   macro avg       0.65      0.76      0.65      2532\n",
      "weighted avg       0.85      0.73      0.77      2532\n",
      "\n"
     ]
    }
   ],
   "source": [
    "print(classification_report(y_test,nb_pipe.predict(X_test)))"
   ]
  },
  {
   "cell_type": "code",
   "execution_count": 67,
   "id": "f40a5f91",
   "metadata": {},
   "outputs": [],
   "source": [
    "recall_under.append(recall_score(y_test,nb_pipe.predict(X_test)).round(2))\n",
    "f1_under.append(f1_score(y_test,nb_pipe.predict(X_test)).round(2))\n",
    "precision_under.append(precision_score(y_test,nb_pipe.predict(X_test)).round(2))\n",
    "accuracy_under.append(accuracy_score(y_test,nb_pipe.predict(X_test)).round(2))"
   ]
  },
  {
   "cell_type": "markdown",
   "id": "71b6ed26",
   "metadata": {},
   "source": [
    "### Logistic Regression"
   ]
  },
  {
   "cell_type": "code",
   "execution_count": 68,
   "id": "9be5a68b",
   "metadata": {},
   "outputs": [
    {
     "data": {
      "text/html": [
       "<style>#sk-container-id-7 {color: black;background-color: white;}#sk-container-id-7 pre{padding: 0;}#sk-container-id-7 div.sk-toggleable {background-color: white;}#sk-container-id-7 label.sk-toggleable__label {cursor: pointer;display: block;width: 100%;margin-bottom: 0;padding: 0.3em;box-sizing: border-box;text-align: center;}#sk-container-id-7 label.sk-toggleable__label-arrow:before {content: \"▸\";float: left;margin-right: 0.25em;color: #696969;}#sk-container-id-7 label.sk-toggleable__label-arrow:hover:before {color: black;}#sk-container-id-7 div.sk-estimator:hover label.sk-toggleable__label-arrow:before {color: black;}#sk-container-id-7 div.sk-toggleable__content {max-height: 0;max-width: 0;overflow: hidden;text-align: left;background-color: #f0f8ff;}#sk-container-id-7 div.sk-toggleable__content pre {margin: 0.2em;color: black;border-radius: 0.25em;background-color: #f0f8ff;}#sk-container-id-7 input.sk-toggleable__control:checked~div.sk-toggleable__content {max-height: 200px;max-width: 100%;overflow: auto;}#sk-container-id-7 input.sk-toggleable__control:checked~label.sk-toggleable__label-arrow:before {content: \"▾\";}#sk-container-id-7 div.sk-estimator input.sk-toggleable__control:checked~label.sk-toggleable__label {background-color: #d4ebff;}#sk-container-id-7 div.sk-label input.sk-toggleable__control:checked~label.sk-toggleable__label {background-color: #d4ebff;}#sk-container-id-7 input.sk-hidden--visually {border: 0;clip: rect(1px 1px 1px 1px);clip: rect(1px, 1px, 1px, 1px);height: 1px;margin: -1px;overflow: hidden;padding: 0;position: absolute;width: 1px;}#sk-container-id-7 div.sk-estimator {font-family: monospace;background-color: #f0f8ff;border: 1px dotted black;border-radius: 0.25em;box-sizing: border-box;margin-bottom: 0.5em;}#sk-container-id-7 div.sk-estimator:hover {background-color: #d4ebff;}#sk-container-id-7 div.sk-parallel-item::after {content: \"\";width: 100%;border-bottom: 1px solid gray;flex-grow: 1;}#sk-container-id-7 div.sk-label:hover label.sk-toggleable__label {background-color: #d4ebff;}#sk-container-id-7 div.sk-serial::before {content: \"\";position: absolute;border-left: 1px solid gray;box-sizing: border-box;top: 0;bottom: 0;left: 50%;z-index: 0;}#sk-container-id-7 div.sk-serial {display: flex;flex-direction: column;align-items: center;background-color: white;padding-right: 0.2em;padding-left: 0.2em;position: relative;}#sk-container-id-7 div.sk-item {position: relative;z-index: 1;}#sk-container-id-7 div.sk-parallel {display: flex;align-items: stretch;justify-content: center;background-color: white;position: relative;}#sk-container-id-7 div.sk-item::before, #sk-container-id-7 div.sk-parallel-item::before {content: \"\";position: absolute;border-left: 1px solid gray;box-sizing: border-box;top: 0;bottom: 0;left: 50%;z-index: -1;}#sk-container-id-7 div.sk-parallel-item {display: flex;flex-direction: column;z-index: 1;position: relative;background-color: white;}#sk-container-id-7 div.sk-parallel-item:first-child::after {align-self: flex-end;width: 50%;}#sk-container-id-7 div.sk-parallel-item:last-child::after {align-self: flex-start;width: 50%;}#sk-container-id-7 div.sk-parallel-item:only-child::after {width: 0;}#sk-container-id-7 div.sk-dashed-wrapped {border: 1px dashed gray;margin: 0 0.4em 0.5em 0.4em;box-sizing: border-box;padding-bottom: 0.4em;background-color: white;}#sk-container-id-7 div.sk-label label {font-family: monospace;font-weight: bold;display: inline-block;line-height: 1.2em;}#sk-container-id-7 div.sk-label-container {text-align: center;}#sk-container-id-7 div.sk-container {/* jupyter's `normalize.less` sets `[hidden] { display: none; }` but bootstrap.min.css set `[hidden] { display: none !important; }` so we also need the `!important` here to be able to override the default hidden behavior on the sphinx rendered scikit-learn.org. See: https://github.com/scikit-learn/scikit-learn/issues/21755 */display: inline-block !important;position: relative;}#sk-container-id-7 div.sk-text-repr-fallback {display: none;}</style><div id=\"sk-container-id-7\" class=\"sk-top-container\"><div class=\"sk-text-repr-fallback\"><pre>Pipeline(steps=[(&#x27;standardscaler&#x27;, StandardScaler()),\n",
       "                (&#x27;logisticregression&#x27;,\n",
       "                 LogisticRegression(max_iter=500, random_state=42))])</pre><b>In a Jupyter environment, please rerun this cell to show the HTML representation or trust the notebook. <br />On GitHub, the HTML representation is unable to render, please try loading this page with nbviewer.org.</b></div><div class=\"sk-container\" hidden><div class=\"sk-item sk-dashed-wrapped\"><div class=\"sk-label-container\"><div class=\"sk-label sk-toggleable\"><input class=\"sk-toggleable__control sk-hidden--visually\" id=\"sk-estimator-id-19\" type=\"checkbox\" ><label for=\"sk-estimator-id-19\" class=\"sk-toggleable__label sk-toggleable__label-arrow\">Pipeline</label><div class=\"sk-toggleable__content\"><pre>Pipeline(steps=[(&#x27;standardscaler&#x27;, StandardScaler()),\n",
       "                (&#x27;logisticregression&#x27;,\n",
       "                 LogisticRegression(max_iter=500, random_state=42))])</pre></div></div></div><div class=\"sk-serial\"><div class=\"sk-item\"><div class=\"sk-estimator sk-toggleable\"><input class=\"sk-toggleable__control sk-hidden--visually\" id=\"sk-estimator-id-20\" type=\"checkbox\" ><label for=\"sk-estimator-id-20\" class=\"sk-toggleable__label sk-toggleable__label-arrow\">StandardScaler</label><div class=\"sk-toggleable__content\"><pre>StandardScaler()</pre></div></div></div><div class=\"sk-item\"><div class=\"sk-estimator sk-toggleable\"><input class=\"sk-toggleable__control sk-hidden--visually\" id=\"sk-estimator-id-21\" type=\"checkbox\" ><label for=\"sk-estimator-id-21\" class=\"sk-toggleable__label sk-toggleable__label-arrow\">LogisticRegression</label><div class=\"sk-toggleable__content\"><pre>LogisticRegression(max_iter=500, random_state=42)</pre></div></div></div></div></div></div></div>"
      ],
      "text/plain": [
       "Pipeline(steps=[('standardscaler', StandardScaler()),\n",
       "                ('logisticregression',\n",
       "                 LogisticRegression(max_iter=500, random_state=42))])"
      ]
     },
     "execution_count": 68,
     "metadata": {},
     "output_type": "execute_result"
    }
   ],
   "source": [
    "log_pipe.fit(X_train_under,y_train_under)"
   ]
  },
  {
   "cell_type": "code",
   "execution_count": 69,
   "id": "90b66fcb",
   "metadata": {},
   "outputs": [
    {
     "name": "stdout",
     "output_type": "stream",
     "text": [
      "              precision    recall  f1-score   support\n",
      "\n",
      "           0       0.96      0.80      0.87      2125\n",
      "           1       0.45      0.83      0.58       407\n",
      "\n",
      "    accuracy                           0.81      2532\n",
      "   macro avg       0.70      0.81      0.73      2532\n",
      "weighted avg       0.88      0.81      0.83      2532\n",
      "\n"
     ]
    }
   ],
   "source": [
    "print(classification_report(y_test,log_pipe.predict(X_test)))"
   ]
  },
  {
   "cell_type": "code",
   "execution_count": 70,
   "id": "8f330a26",
   "metadata": {},
   "outputs": [],
   "source": [
    "recall_under.append(recall_score(y_test,log_pipe.predict(X_test)).round(2))\n",
    "f1_under.append(f1_score(y_test,log_pipe.predict(X_test)).round(2))\n",
    "precision_under.append(precision_score(y_test,log_pipe.predict(X_test)).round(2))\n",
    "accuracy_under.append(accuracy_score(y_test,log_pipe.predict(X_test)).round(2))"
   ]
  },
  {
   "cell_type": "markdown",
   "id": "292b95ac",
   "metadata": {},
   "source": [
    "### Decision Tree"
   ]
  },
  {
   "cell_type": "code",
   "execution_count": 71,
   "id": "f3e380c6",
   "metadata": {},
   "outputs": [
    {
     "data": {
      "text/html": [
       "<style>#sk-container-id-8 {color: black;background-color: white;}#sk-container-id-8 pre{padding: 0;}#sk-container-id-8 div.sk-toggleable {background-color: white;}#sk-container-id-8 label.sk-toggleable__label {cursor: pointer;display: block;width: 100%;margin-bottom: 0;padding: 0.3em;box-sizing: border-box;text-align: center;}#sk-container-id-8 label.sk-toggleable__label-arrow:before {content: \"▸\";float: left;margin-right: 0.25em;color: #696969;}#sk-container-id-8 label.sk-toggleable__label-arrow:hover:before {color: black;}#sk-container-id-8 div.sk-estimator:hover label.sk-toggleable__label-arrow:before {color: black;}#sk-container-id-8 div.sk-toggleable__content {max-height: 0;max-width: 0;overflow: hidden;text-align: left;background-color: #f0f8ff;}#sk-container-id-8 div.sk-toggleable__content pre {margin: 0.2em;color: black;border-radius: 0.25em;background-color: #f0f8ff;}#sk-container-id-8 input.sk-toggleable__control:checked~div.sk-toggleable__content {max-height: 200px;max-width: 100%;overflow: auto;}#sk-container-id-8 input.sk-toggleable__control:checked~label.sk-toggleable__label-arrow:before {content: \"▾\";}#sk-container-id-8 div.sk-estimator input.sk-toggleable__control:checked~label.sk-toggleable__label {background-color: #d4ebff;}#sk-container-id-8 div.sk-label input.sk-toggleable__control:checked~label.sk-toggleable__label {background-color: #d4ebff;}#sk-container-id-8 input.sk-hidden--visually {border: 0;clip: rect(1px 1px 1px 1px);clip: rect(1px, 1px, 1px, 1px);height: 1px;margin: -1px;overflow: hidden;padding: 0;position: absolute;width: 1px;}#sk-container-id-8 div.sk-estimator {font-family: monospace;background-color: #f0f8ff;border: 1px dotted black;border-radius: 0.25em;box-sizing: border-box;margin-bottom: 0.5em;}#sk-container-id-8 div.sk-estimator:hover {background-color: #d4ebff;}#sk-container-id-8 div.sk-parallel-item::after {content: \"\";width: 100%;border-bottom: 1px solid gray;flex-grow: 1;}#sk-container-id-8 div.sk-label:hover label.sk-toggleable__label {background-color: #d4ebff;}#sk-container-id-8 div.sk-serial::before {content: \"\";position: absolute;border-left: 1px solid gray;box-sizing: border-box;top: 0;bottom: 0;left: 50%;z-index: 0;}#sk-container-id-8 div.sk-serial {display: flex;flex-direction: column;align-items: center;background-color: white;padding-right: 0.2em;padding-left: 0.2em;position: relative;}#sk-container-id-8 div.sk-item {position: relative;z-index: 1;}#sk-container-id-8 div.sk-parallel {display: flex;align-items: stretch;justify-content: center;background-color: white;position: relative;}#sk-container-id-8 div.sk-item::before, #sk-container-id-8 div.sk-parallel-item::before {content: \"\";position: absolute;border-left: 1px solid gray;box-sizing: border-box;top: 0;bottom: 0;left: 50%;z-index: -1;}#sk-container-id-8 div.sk-parallel-item {display: flex;flex-direction: column;z-index: 1;position: relative;background-color: white;}#sk-container-id-8 div.sk-parallel-item:first-child::after {align-self: flex-end;width: 50%;}#sk-container-id-8 div.sk-parallel-item:last-child::after {align-self: flex-start;width: 50%;}#sk-container-id-8 div.sk-parallel-item:only-child::after {width: 0;}#sk-container-id-8 div.sk-dashed-wrapped {border: 1px dashed gray;margin: 0 0.4em 0.5em 0.4em;box-sizing: border-box;padding-bottom: 0.4em;background-color: white;}#sk-container-id-8 div.sk-label label {font-family: monospace;font-weight: bold;display: inline-block;line-height: 1.2em;}#sk-container-id-8 div.sk-label-container {text-align: center;}#sk-container-id-8 div.sk-container {/* jupyter's `normalize.less` sets `[hidden] { display: none; }` but bootstrap.min.css set `[hidden] { display: none !important; }` so we also need the `!important` here to be able to override the default hidden behavior on the sphinx rendered scikit-learn.org. See: https://github.com/scikit-learn/scikit-learn/issues/21755 */display: inline-block !important;position: relative;}#sk-container-id-8 div.sk-text-repr-fallback {display: none;}</style><div id=\"sk-container-id-8\" class=\"sk-top-container\"><div class=\"sk-text-repr-fallback\"><pre>Pipeline(steps=[(&#x27;standardscaler&#x27;, StandardScaler()),\n",
       "                (&#x27;decisiontreeclassifier&#x27;, DecisionTreeClassifier())])</pre><b>In a Jupyter environment, please rerun this cell to show the HTML representation or trust the notebook. <br />On GitHub, the HTML representation is unable to render, please try loading this page with nbviewer.org.</b></div><div class=\"sk-container\" hidden><div class=\"sk-item sk-dashed-wrapped\"><div class=\"sk-label-container\"><div class=\"sk-label sk-toggleable\"><input class=\"sk-toggleable__control sk-hidden--visually\" id=\"sk-estimator-id-22\" type=\"checkbox\" ><label for=\"sk-estimator-id-22\" class=\"sk-toggleable__label sk-toggleable__label-arrow\">Pipeline</label><div class=\"sk-toggleable__content\"><pre>Pipeline(steps=[(&#x27;standardscaler&#x27;, StandardScaler()),\n",
       "                (&#x27;decisiontreeclassifier&#x27;, DecisionTreeClassifier())])</pre></div></div></div><div class=\"sk-serial\"><div class=\"sk-item\"><div class=\"sk-estimator sk-toggleable\"><input class=\"sk-toggleable__control sk-hidden--visually\" id=\"sk-estimator-id-23\" type=\"checkbox\" ><label for=\"sk-estimator-id-23\" class=\"sk-toggleable__label sk-toggleable__label-arrow\">StandardScaler</label><div class=\"sk-toggleable__content\"><pre>StandardScaler()</pre></div></div></div><div class=\"sk-item\"><div class=\"sk-estimator sk-toggleable\"><input class=\"sk-toggleable__control sk-hidden--visually\" id=\"sk-estimator-id-24\" type=\"checkbox\" ><label for=\"sk-estimator-id-24\" class=\"sk-toggleable__label sk-toggleable__label-arrow\">DecisionTreeClassifier</label><div class=\"sk-toggleable__content\"><pre>DecisionTreeClassifier()</pre></div></div></div></div></div></div></div>"
      ],
      "text/plain": [
       "Pipeline(steps=[('standardscaler', StandardScaler()),\n",
       "                ('decisiontreeclassifier', DecisionTreeClassifier())])"
      ]
     },
     "execution_count": 71,
     "metadata": {},
     "output_type": "execute_result"
    }
   ],
   "source": [
    "dt_pipe.fit(X_train_under,y_train_under)"
   ]
  },
  {
   "cell_type": "code",
   "execution_count": 72,
   "id": "255e6441",
   "metadata": {},
   "outputs": [
    {
     "name": "stdout",
     "output_type": "stream",
     "text": [
      "              precision    recall  f1-score   support\n",
      "\n",
      "           0       0.98      0.70      0.82      2125\n",
      "           1       0.37      0.94      0.54       407\n",
      "\n",
      "    accuracy                           0.74      2532\n",
      "   macro avg       0.68      0.82      0.68      2532\n",
      "weighted avg       0.89      0.74      0.77      2532\n",
      "\n"
     ]
    }
   ],
   "source": [
    "print(classification_report(y_test,dt_pipe.predict(X_test)))"
   ]
  },
  {
   "cell_type": "code",
   "execution_count": 73,
   "id": "ea079cab",
   "metadata": {},
   "outputs": [],
   "source": [
    "recall_under.append(recall_score(y_test,dt_pipe.predict(X_test)).round(2))\n",
    "f1_under.append(f1_score(y_test,dt_pipe.predict(X_test)).round(2))\n",
    "precision_under.append(precision_score(y_test,dt_pipe.predict(X_test)).round(2))\n",
    "accuracy_under.append(accuracy_score(y_test,dt_pipe.predict(X_test)).round(2))"
   ]
  },
  {
   "cell_type": "markdown",
   "id": "43edad68",
   "metadata": {},
   "source": [
    "## Over Sampling"
   ]
  },
  {
   "cell_type": "code",
   "execution_count": 74,
   "id": "8f05395c",
   "metadata": {},
   "outputs": [],
   "source": [
    "def oversampling(X,y,n=3):\n",
    "    \n",
    "    #resetting the index of both X and y\n",
    "    X.reset_index(drop=True,inplace=True)\n",
    "    y.reset_index(drop=True,inplace=True)\n",
    "\n",
    "    # creating a dataframe of counts corresponding to each category\n",
    "    temp_df=y.value_counts().reset_index()\n",
    "    temp_df.columns=[y.name,\"Count\"]\n",
    "    \n",
    "    #finding the majority label, minority label, majority count minority count\n",
    "    majority_label=temp_df[y.name][temp_df.Count.idxmax()]\n",
    "    majority_count=temp_df[\"Count\"][temp_df.Count.idxmax()]\n",
    "    minority_label=temp_df[y.name][temp_df.Count.idxmin()]\n",
    "    minority_count=temp_df[\"Count\"][temp_df.Count.idxmax()]\n",
    "    \n",
    "    #creating subsets of dataset based on the majority label and minority label\n",
    "    X_minor=X[y==minority_label].reset_index(drop=True)\n",
    "    X_major=X[y==majority_label].reset_index(drop=True)\n",
    "    \n",
    "    # Oversampling\n",
    "    X_oversample=pd.DataFrame(columns=X_minor.columns)\n",
    "    \n",
    "    while (X_minor.shape[0]+X_oversample.shape[0]<X_major.shape[0]):\n",
    "        mean_row=X_minor.sample(n).mean()\n",
    "        X_oversample = pd.concat([X_oversample, mean_row.to_frame().T], ignore_index=True)\n",
    "        \n",
    "    \n",
    "    #Creating new pandas series of the size of X_major and X_minor \n",
    "    y_major=pd.Series(np.repeat(majority_label,X_major.shape[0]))\n",
    "    y_minor=pd.Series(np.repeat(minority_label,(X_minor.shape[0]+X_oversample.shape[0])))\n",
    "    \n",
    "    #concatinating X_major and X_minor additionally y_major and y_minor\n",
    "    X_new=pd.concat([X_major,X_minor,X_oversample],axis=0).reset_index(drop=True)\n",
    "    y_new=pd.concat([y_major,y_minor],axis=0).reset_index(drop=True)\n",
    "    y_new.name=y.name\n",
    "    \n",
    "    #concatinating the X_new and y_new so that i can can suffle the row along with their corresponding labels\n",
    "    X_y=pd.concat([X_new,y_new],axis=1)\n",
    "    \n",
    "    #suffeling the dataframe rows\n",
    "    X_y=X_y.sample(frac=1.0, random_state=42).reset_index(drop=True)\n",
    "    \n",
    "    #splitting the X_y dataframe and feature matrix and target variable \n",
    "    columns_list=X_y.columns.to_list()\n",
    "    X = X_y[columns_list[:-1]]\n",
    "    y = X_y[columns_list[-1]]\n",
    "    \n",
    "\n",
    "    return X,y\n",
    "    "
   ]
  },
  {
   "cell_type": "code",
   "execution_count": 75,
   "id": "c2a0beb3",
   "metadata": {},
   "outputs": [],
   "source": [
    "X_train_over,y_train_over=oversampling(X_train,y_train)"
   ]
  },
  {
   "cell_type": "code",
   "execution_count": 76,
   "id": "d6427029",
   "metadata": {},
   "outputs": [
    {
     "name": "stdout",
     "output_type": "stream",
     "text": [
      "X_train shape (7595, 10)\n",
      "X_train over shape (12750, 10)\n"
     ]
    }
   ],
   "source": [
    "print(\"X_train shape\",X_train.shape)\n",
    "print(\"X_train over shape\",X_train_over.shape)"
   ]
  },
  {
   "cell_type": "markdown",
   "id": "79d0243e",
   "metadata": {},
   "source": [
    "### "
   ]
  },
  {
   "cell_type": "markdown",
   "id": "db275c77",
   "metadata": {},
   "source": [
    "### Naive Bayes"
   ]
  },
  {
   "cell_type": "code",
   "execution_count": 77,
   "id": "b32582c7",
   "metadata": {},
   "outputs": [
    {
     "data": {
      "text/html": [
       "<style>#sk-container-id-9 {color: black;background-color: white;}#sk-container-id-9 pre{padding: 0;}#sk-container-id-9 div.sk-toggleable {background-color: white;}#sk-container-id-9 label.sk-toggleable__label {cursor: pointer;display: block;width: 100%;margin-bottom: 0;padding: 0.3em;box-sizing: border-box;text-align: center;}#sk-container-id-9 label.sk-toggleable__label-arrow:before {content: \"▸\";float: left;margin-right: 0.25em;color: #696969;}#sk-container-id-9 label.sk-toggleable__label-arrow:hover:before {color: black;}#sk-container-id-9 div.sk-estimator:hover label.sk-toggleable__label-arrow:before {color: black;}#sk-container-id-9 div.sk-toggleable__content {max-height: 0;max-width: 0;overflow: hidden;text-align: left;background-color: #f0f8ff;}#sk-container-id-9 div.sk-toggleable__content pre {margin: 0.2em;color: black;border-radius: 0.25em;background-color: #f0f8ff;}#sk-container-id-9 input.sk-toggleable__control:checked~div.sk-toggleable__content {max-height: 200px;max-width: 100%;overflow: auto;}#sk-container-id-9 input.sk-toggleable__control:checked~label.sk-toggleable__label-arrow:before {content: \"▾\";}#sk-container-id-9 div.sk-estimator input.sk-toggleable__control:checked~label.sk-toggleable__label {background-color: #d4ebff;}#sk-container-id-9 div.sk-label input.sk-toggleable__control:checked~label.sk-toggleable__label {background-color: #d4ebff;}#sk-container-id-9 input.sk-hidden--visually {border: 0;clip: rect(1px 1px 1px 1px);clip: rect(1px, 1px, 1px, 1px);height: 1px;margin: -1px;overflow: hidden;padding: 0;position: absolute;width: 1px;}#sk-container-id-9 div.sk-estimator {font-family: monospace;background-color: #f0f8ff;border: 1px dotted black;border-radius: 0.25em;box-sizing: border-box;margin-bottom: 0.5em;}#sk-container-id-9 div.sk-estimator:hover {background-color: #d4ebff;}#sk-container-id-9 div.sk-parallel-item::after {content: \"\";width: 100%;border-bottom: 1px solid gray;flex-grow: 1;}#sk-container-id-9 div.sk-label:hover label.sk-toggleable__label {background-color: #d4ebff;}#sk-container-id-9 div.sk-serial::before {content: \"\";position: absolute;border-left: 1px solid gray;box-sizing: border-box;top: 0;bottom: 0;left: 50%;z-index: 0;}#sk-container-id-9 div.sk-serial {display: flex;flex-direction: column;align-items: center;background-color: white;padding-right: 0.2em;padding-left: 0.2em;position: relative;}#sk-container-id-9 div.sk-item {position: relative;z-index: 1;}#sk-container-id-9 div.sk-parallel {display: flex;align-items: stretch;justify-content: center;background-color: white;position: relative;}#sk-container-id-9 div.sk-item::before, #sk-container-id-9 div.sk-parallel-item::before {content: \"\";position: absolute;border-left: 1px solid gray;box-sizing: border-box;top: 0;bottom: 0;left: 50%;z-index: -1;}#sk-container-id-9 div.sk-parallel-item {display: flex;flex-direction: column;z-index: 1;position: relative;background-color: white;}#sk-container-id-9 div.sk-parallel-item:first-child::after {align-self: flex-end;width: 50%;}#sk-container-id-9 div.sk-parallel-item:last-child::after {align-self: flex-start;width: 50%;}#sk-container-id-9 div.sk-parallel-item:only-child::after {width: 0;}#sk-container-id-9 div.sk-dashed-wrapped {border: 1px dashed gray;margin: 0 0.4em 0.5em 0.4em;box-sizing: border-box;padding-bottom: 0.4em;background-color: white;}#sk-container-id-9 div.sk-label label {font-family: monospace;font-weight: bold;display: inline-block;line-height: 1.2em;}#sk-container-id-9 div.sk-label-container {text-align: center;}#sk-container-id-9 div.sk-container {/* jupyter's `normalize.less` sets `[hidden] { display: none; }` but bootstrap.min.css set `[hidden] { display: none !important; }` so we also need the `!important` here to be able to override the default hidden behavior on the sphinx rendered scikit-learn.org. See: https://github.com/scikit-learn/scikit-learn/issues/21755 */display: inline-block !important;position: relative;}#sk-container-id-9 div.sk-text-repr-fallback {display: none;}</style><div id=\"sk-container-id-9\" class=\"sk-top-container\"><div class=\"sk-text-repr-fallback\"><pre>Pipeline(steps=[(&#x27;minmaxscaler&#x27;, MinMaxScaler()), (&#x27;gaussiannb&#x27;, GaussianNB())])</pre><b>In a Jupyter environment, please rerun this cell to show the HTML representation or trust the notebook. <br />On GitHub, the HTML representation is unable to render, please try loading this page with nbviewer.org.</b></div><div class=\"sk-container\" hidden><div class=\"sk-item sk-dashed-wrapped\"><div class=\"sk-label-container\"><div class=\"sk-label sk-toggleable\"><input class=\"sk-toggleable__control sk-hidden--visually\" id=\"sk-estimator-id-25\" type=\"checkbox\" ><label for=\"sk-estimator-id-25\" class=\"sk-toggleable__label sk-toggleable__label-arrow\">Pipeline</label><div class=\"sk-toggleable__content\"><pre>Pipeline(steps=[(&#x27;minmaxscaler&#x27;, MinMaxScaler()), (&#x27;gaussiannb&#x27;, GaussianNB())])</pre></div></div></div><div class=\"sk-serial\"><div class=\"sk-item\"><div class=\"sk-estimator sk-toggleable\"><input class=\"sk-toggleable__control sk-hidden--visually\" id=\"sk-estimator-id-26\" type=\"checkbox\" ><label for=\"sk-estimator-id-26\" class=\"sk-toggleable__label sk-toggleable__label-arrow\">MinMaxScaler</label><div class=\"sk-toggleable__content\"><pre>MinMaxScaler()</pre></div></div></div><div class=\"sk-item\"><div class=\"sk-estimator sk-toggleable\"><input class=\"sk-toggleable__control sk-hidden--visually\" id=\"sk-estimator-id-27\" type=\"checkbox\" ><label for=\"sk-estimator-id-27\" class=\"sk-toggleable__label sk-toggleable__label-arrow\">GaussianNB</label><div class=\"sk-toggleable__content\"><pre>GaussianNB()</pre></div></div></div></div></div></div></div>"
      ],
      "text/plain": [
       "Pipeline(steps=[('minmaxscaler', MinMaxScaler()), ('gaussiannb', GaussianNB())])"
      ]
     },
     "execution_count": 77,
     "metadata": {},
     "output_type": "execute_result"
    }
   ],
   "source": [
    "nb_pipe.fit(X_train_over,y_train_over)"
   ]
  },
  {
   "cell_type": "code",
   "execution_count": 78,
   "id": "7628bbe4",
   "metadata": {
    "scrolled": true
   },
   "outputs": [
    {
     "name": "stdout",
     "output_type": "stream",
     "text": [
      "              precision    recall  f1-score   support\n",
      "\n",
      "           0       0.91      0.87      0.89      2125\n",
      "           1       0.46      0.58      0.51       407\n",
      "\n",
      "    accuracy                           0.82      2532\n",
      "   macro avg       0.69      0.72      0.70      2532\n",
      "weighted avg       0.84      0.82      0.83      2532\n",
      "\n"
     ]
    }
   ],
   "source": [
    "print(classification_report(y_test,nb_pipe.predict(X_test)))"
   ]
  },
  {
   "cell_type": "code",
   "execution_count": 79,
   "id": "c0ca5a0a",
   "metadata": {},
   "outputs": [],
   "source": [
    "recall_over.append(recall_score(y_test,nb_pipe.predict(X_test)).round(2))\n",
    "f1_over.append(f1_score(y_test,nb_pipe.predict(X_test)).round(2))\n",
    "precision_over.append(precision_score(y_test,nb_pipe.predict(X_test)).round(2))\n",
    "accuracy_over.append(accuracy_score(y_test,nb_pipe.predict(X_test)).round(2))"
   ]
  },
  {
   "cell_type": "markdown",
   "id": "e3a24e99",
   "metadata": {},
   "source": [
    "### Logistic Regression"
   ]
  },
  {
   "cell_type": "code",
   "execution_count": 80,
   "id": "0d8c4869",
   "metadata": {},
   "outputs": [
    {
     "data": {
      "text/html": [
       "<style>#sk-container-id-10 {color: black;background-color: white;}#sk-container-id-10 pre{padding: 0;}#sk-container-id-10 div.sk-toggleable {background-color: white;}#sk-container-id-10 label.sk-toggleable__label {cursor: pointer;display: block;width: 100%;margin-bottom: 0;padding: 0.3em;box-sizing: border-box;text-align: center;}#sk-container-id-10 label.sk-toggleable__label-arrow:before {content: \"▸\";float: left;margin-right: 0.25em;color: #696969;}#sk-container-id-10 label.sk-toggleable__label-arrow:hover:before {color: black;}#sk-container-id-10 div.sk-estimator:hover label.sk-toggleable__label-arrow:before {color: black;}#sk-container-id-10 div.sk-toggleable__content {max-height: 0;max-width: 0;overflow: hidden;text-align: left;background-color: #f0f8ff;}#sk-container-id-10 div.sk-toggleable__content pre {margin: 0.2em;color: black;border-radius: 0.25em;background-color: #f0f8ff;}#sk-container-id-10 input.sk-toggleable__control:checked~div.sk-toggleable__content {max-height: 200px;max-width: 100%;overflow: auto;}#sk-container-id-10 input.sk-toggleable__control:checked~label.sk-toggleable__label-arrow:before {content: \"▾\";}#sk-container-id-10 div.sk-estimator input.sk-toggleable__control:checked~label.sk-toggleable__label {background-color: #d4ebff;}#sk-container-id-10 div.sk-label input.sk-toggleable__control:checked~label.sk-toggleable__label {background-color: #d4ebff;}#sk-container-id-10 input.sk-hidden--visually {border: 0;clip: rect(1px 1px 1px 1px);clip: rect(1px, 1px, 1px, 1px);height: 1px;margin: -1px;overflow: hidden;padding: 0;position: absolute;width: 1px;}#sk-container-id-10 div.sk-estimator {font-family: monospace;background-color: #f0f8ff;border: 1px dotted black;border-radius: 0.25em;box-sizing: border-box;margin-bottom: 0.5em;}#sk-container-id-10 div.sk-estimator:hover {background-color: #d4ebff;}#sk-container-id-10 div.sk-parallel-item::after {content: \"\";width: 100%;border-bottom: 1px solid gray;flex-grow: 1;}#sk-container-id-10 div.sk-label:hover label.sk-toggleable__label {background-color: #d4ebff;}#sk-container-id-10 div.sk-serial::before {content: \"\";position: absolute;border-left: 1px solid gray;box-sizing: border-box;top: 0;bottom: 0;left: 50%;z-index: 0;}#sk-container-id-10 div.sk-serial {display: flex;flex-direction: column;align-items: center;background-color: white;padding-right: 0.2em;padding-left: 0.2em;position: relative;}#sk-container-id-10 div.sk-item {position: relative;z-index: 1;}#sk-container-id-10 div.sk-parallel {display: flex;align-items: stretch;justify-content: center;background-color: white;position: relative;}#sk-container-id-10 div.sk-item::before, #sk-container-id-10 div.sk-parallel-item::before {content: \"\";position: absolute;border-left: 1px solid gray;box-sizing: border-box;top: 0;bottom: 0;left: 50%;z-index: -1;}#sk-container-id-10 div.sk-parallel-item {display: flex;flex-direction: column;z-index: 1;position: relative;background-color: white;}#sk-container-id-10 div.sk-parallel-item:first-child::after {align-self: flex-end;width: 50%;}#sk-container-id-10 div.sk-parallel-item:last-child::after {align-self: flex-start;width: 50%;}#sk-container-id-10 div.sk-parallel-item:only-child::after {width: 0;}#sk-container-id-10 div.sk-dashed-wrapped {border: 1px dashed gray;margin: 0 0.4em 0.5em 0.4em;box-sizing: border-box;padding-bottom: 0.4em;background-color: white;}#sk-container-id-10 div.sk-label label {font-family: monospace;font-weight: bold;display: inline-block;line-height: 1.2em;}#sk-container-id-10 div.sk-label-container {text-align: center;}#sk-container-id-10 div.sk-container {/* jupyter's `normalize.less` sets `[hidden] { display: none; }` but bootstrap.min.css set `[hidden] { display: none !important; }` so we also need the `!important` here to be able to override the default hidden behavior on the sphinx rendered scikit-learn.org. See: https://github.com/scikit-learn/scikit-learn/issues/21755 */display: inline-block !important;position: relative;}#sk-container-id-10 div.sk-text-repr-fallback {display: none;}</style><div id=\"sk-container-id-10\" class=\"sk-top-container\"><div class=\"sk-text-repr-fallback\"><pre>Pipeline(steps=[(&#x27;standardscaler&#x27;, StandardScaler()),\n",
       "                (&#x27;logisticregression&#x27;,\n",
       "                 LogisticRegression(max_iter=500, random_state=42))])</pre><b>In a Jupyter environment, please rerun this cell to show the HTML representation or trust the notebook. <br />On GitHub, the HTML representation is unable to render, please try loading this page with nbviewer.org.</b></div><div class=\"sk-container\" hidden><div class=\"sk-item sk-dashed-wrapped\"><div class=\"sk-label-container\"><div class=\"sk-label sk-toggleable\"><input class=\"sk-toggleable__control sk-hidden--visually\" id=\"sk-estimator-id-28\" type=\"checkbox\" ><label for=\"sk-estimator-id-28\" class=\"sk-toggleable__label sk-toggleable__label-arrow\">Pipeline</label><div class=\"sk-toggleable__content\"><pre>Pipeline(steps=[(&#x27;standardscaler&#x27;, StandardScaler()),\n",
       "                (&#x27;logisticregression&#x27;,\n",
       "                 LogisticRegression(max_iter=500, random_state=42))])</pre></div></div></div><div class=\"sk-serial\"><div class=\"sk-item\"><div class=\"sk-estimator sk-toggleable\"><input class=\"sk-toggleable__control sk-hidden--visually\" id=\"sk-estimator-id-29\" type=\"checkbox\" ><label for=\"sk-estimator-id-29\" class=\"sk-toggleable__label sk-toggleable__label-arrow\">StandardScaler</label><div class=\"sk-toggleable__content\"><pre>StandardScaler()</pre></div></div></div><div class=\"sk-item\"><div class=\"sk-estimator sk-toggleable\"><input class=\"sk-toggleable__control sk-hidden--visually\" id=\"sk-estimator-id-30\" type=\"checkbox\" ><label for=\"sk-estimator-id-30\" class=\"sk-toggleable__label sk-toggleable__label-arrow\">LogisticRegression</label><div class=\"sk-toggleable__content\"><pre>LogisticRegression(max_iter=500, random_state=42)</pre></div></div></div></div></div></div></div>"
      ],
      "text/plain": [
       "Pipeline(steps=[('standardscaler', StandardScaler()),\n",
       "                ('logisticregression',\n",
       "                 LogisticRegression(max_iter=500, random_state=42))])"
      ]
     },
     "execution_count": 80,
     "metadata": {},
     "output_type": "execute_result"
    }
   ],
   "source": [
    "log_pipe.fit(X_train_over,y_train_over)"
   ]
  },
  {
   "cell_type": "code",
   "execution_count": 81,
   "id": "3a4edd67",
   "metadata": {},
   "outputs": [
    {
     "name": "stdout",
     "output_type": "stream",
     "text": [
      "              precision    recall  f1-score   support\n",
      "\n",
      "           0       0.95      0.88      0.92      2125\n",
      "           1       0.56      0.78      0.65       407\n",
      "\n",
      "    accuracy                           0.86      2532\n",
      "   macro avg       0.76      0.83      0.78      2532\n",
      "weighted avg       0.89      0.86      0.87      2532\n",
      "\n"
     ]
    }
   ],
   "source": [
    "print(classification_report(y_test,log_pipe.predict(X_test)))"
   ]
  },
  {
   "cell_type": "code",
   "execution_count": 82,
   "id": "34c4d029",
   "metadata": {},
   "outputs": [],
   "source": [
    "recall_over.append(recall_score(y_test,log_pipe.predict(X_test)).round(2))\n",
    "f1_over.append(f1_score(y_test,log_pipe.predict(X_test)).round(2))\n",
    "precision_over.append(precision_score(y_test,log_pipe.predict(X_test)).round(2))\n",
    "accuracy_over.append(accuracy_score(y_test,log_pipe.predict(X_test)).round(2))"
   ]
  },
  {
   "cell_type": "markdown",
   "id": "ff404c65",
   "metadata": {},
   "source": [
    "### Decision Tree"
   ]
  },
  {
   "cell_type": "code",
   "execution_count": 83,
   "id": "62cba8bb",
   "metadata": {},
   "outputs": [
    {
     "data": {
      "text/html": [
       "<style>#sk-container-id-11 {color: black;background-color: white;}#sk-container-id-11 pre{padding: 0;}#sk-container-id-11 div.sk-toggleable {background-color: white;}#sk-container-id-11 label.sk-toggleable__label {cursor: pointer;display: block;width: 100%;margin-bottom: 0;padding: 0.3em;box-sizing: border-box;text-align: center;}#sk-container-id-11 label.sk-toggleable__label-arrow:before {content: \"▸\";float: left;margin-right: 0.25em;color: #696969;}#sk-container-id-11 label.sk-toggleable__label-arrow:hover:before {color: black;}#sk-container-id-11 div.sk-estimator:hover label.sk-toggleable__label-arrow:before {color: black;}#sk-container-id-11 div.sk-toggleable__content {max-height: 0;max-width: 0;overflow: hidden;text-align: left;background-color: #f0f8ff;}#sk-container-id-11 div.sk-toggleable__content pre {margin: 0.2em;color: black;border-radius: 0.25em;background-color: #f0f8ff;}#sk-container-id-11 input.sk-toggleable__control:checked~div.sk-toggleable__content {max-height: 200px;max-width: 100%;overflow: auto;}#sk-container-id-11 input.sk-toggleable__control:checked~label.sk-toggleable__label-arrow:before {content: \"▾\";}#sk-container-id-11 div.sk-estimator input.sk-toggleable__control:checked~label.sk-toggleable__label {background-color: #d4ebff;}#sk-container-id-11 div.sk-label input.sk-toggleable__control:checked~label.sk-toggleable__label {background-color: #d4ebff;}#sk-container-id-11 input.sk-hidden--visually {border: 0;clip: rect(1px 1px 1px 1px);clip: rect(1px, 1px, 1px, 1px);height: 1px;margin: -1px;overflow: hidden;padding: 0;position: absolute;width: 1px;}#sk-container-id-11 div.sk-estimator {font-family: monospace;background-color: #f0f8ff;border: 1px dotted black;border-radius: 0.25em;box-sizing: border-box;margin-bottom: 0.5em;}#sk-container-id-11 div.sk-estimator:hover {background-color: #d4ebff;}#sk-container-id-11 div.sk-parallel-item::after {content: \"\";width: 100%;border-bottom: 1px solid gray;flex-grow: 1;}#sk-container-id-11 div.sk-label:hover label.sk-toggleable__label {background-color: #d4ebff;}#sk-container-id-11 div.sk-serial::before {content: \"\";position: absolute;border-left: 1px solid gray;box-sizing: border-box;top: 0;bottom: 0;left: 50%;z-index: 0;}#sk-container-id-11 div.sk-serial {display: flex;flex-direction: column;align-items: center;background-color: white;padding-right: 0.2em;padding-left: 0.2em;position: relative;}#sk-container-id-11 div.sk-item {position: relative;z-index: 1;}#sk-container-id-11 div.sk-parallel {display: flex;align-items: stretch;justify-content: center;background-color: white;position: relative;}#sk-container-id-11 div.sk-item::before, #sk-container-id-11 div.sk-parallel-item::before {content: \"\";position: absolute;border-left: 1px solid gray;box-sizing: border-box;top: 0;bottom: 0;left: 50%;z-index: -1;}#sk-container-id-11 div.sk-parallel-item {display: flex;flex-direction: column;z-index: 1;position: relative;background-color: white;}#sk-container-id-11 div.sk-parallel-item:first-child::after {align-self: flex-end;width: 50%;}#sk-container-id-11 div.sk-parallel-item:last-child::after {align-self: flex-start;width: 50%;}#sk-container-id-11 div.sk-parallel-item:only-child::after {width: 0;}#sk-container-id-11 div.sk-dashed-wrapped {border: 1px dashed gray;margin: 0 0.4em 0.5em 0.4em;box-sizing: border-box;padding-bottom: 0.4em;background-color: white;}#sk-container-id-11 div.sk-label label {font-family: monospace;font-weight: bold;display: inline-block;line-height: 1.2em;}#sk-container-id-11 div.sk-label-container {text-align: center;}#sk-container-id-11 div.sk-container {/* jupyter's `normalize.less` sets `[hidden] { display: none; }` but bootstrap.min.css set `[hidden] { display: none !important; }` so we also need the `!important` here to be able to override the default hidden behavior on the sphinx rendered scikit-learn.org. See: https://github.com/scikit-learn/scikit-learn/issues/21755 */display: inline-block !important;position: relative;}#sk-container-id-11 div.sk-text-repr-fallback {display: none;}</style><div id=\"sk-container-id-11\" class=\"sk-top-container\"><div class=\"sk-text-repr-fallback\"><pre>Pipeline(steps=[(&#x27;standardscaler&#x27;, StandardScaler()),\n",
       "                (&#x27;decisiontreeclassifier&#x27;, DecisionTreeClassifier())])</pre><b>In a Jupyter environment, please rerun this cell to show the HTML representation or trust the notebook. <br />On GitHub, the HTML representation is unable to render, please try loading this page with nbviewer.org.</b></div><div class=\"sk-container\" hidden><div class=\"sk-item sk-dashed-wrapped\"><div class=\"sk-label-container\"><div class=\"sk-label sk-toggleable\"><input class=\"sk-toggleable__control sk-hidden--visually\" id=\"sk-estimator-id-31\" type=\"checkbox\" ><label for=\"sk-estimator-id-31\" class=\"sk-toggleable__label sk-toggleable__label-arrow\">Pipeline</label><div class=\"sk-toggleable__content\"><pre>Pipeline(steps=[(&#x27;standardscaler&#x27;, StandardScaler()),\n",
       "                (&#x27;decisiontreeclassifier&#x27;, DecisionTreeClassifier())])</pre></div></div></div><div class=\"sk-serial\"><div class=\"sk-item\"><div class=\"sk-estimator sk-toggleable\"><input class=\"sk-toggleable__control sk-hidden--visually\" id=\"sk-estimator-id-32\" type=\"checkbox\" ><label for=\"sk-estimator-id-32\" class=\"sk-toggleable__label sk-toggleable__label-arrow\">StandardScaler</label><div class=\"sk-toggleable__content\"><pre>StandardScaler()</pre></div></div></div><div class=\"sk-item\"><div class=\"sk-estimator sk-toggleable\"><input class=\"sk-toggleable__control sk-hidden--visually\" id=\"sk-estimator-id-33\" type=\"checkbox\" ><label for=\"sk-estimator-id-33\" class=\"sk-toggleable__label sk-toggleable__label-arrow\">DecisionTreeClassifier</label><div class=\"sk-toggleable__content\"><pre>DecisionTreeClassifier()</pre></div></div></div></div></div></div></div>"
      ],
      "text/plain": [
       "Pipeline(steps=[('standardscaler', StandardScaler()),\n",
       "                ('decisiontreeclassifier', DecisionTreeClassifier())])"
      ]
     },
     "execution_count": 83,
     "metadata": {},
     "output_type": "execute_result"
    }
   ],
   "source": [
    "dt_pipe.fit(X_train_over,y_train_over)"
   ]
  },
  {
   "cell_type": "code",
   "execution_count": 84,
   "id": "53c73817",
   "metadata": {
    "scrolled": true
   },
   "outputs": [
    {
     "name": "stdout",
     "output_type": "stream",
     "text": [
      "              precision    recall  f1-score   support\n",
      "\n",
      "           0       0.95      0.94      0.94      2125\n",
      "           1       0.69      0.75      0.72       407\n",
      "\n",
      "    accuracy                           0.91      2532\n",
      "   macro avg       0.82      0.84      0.83      2532\n",
      "weighted avg       0.91      0.91      0.91      2532\n",
      "\n"
     ]
    }
   ],
   "source": [
    "print(classification_report(y_test,dt_pipe.predict(X_test)))"
   ]
  },
  {
   "cell_type": "code",
   "execution_count": 85,
   "id": "e1baf5ab",
   "metadata": {},
   "outputs": [],
   "source": [
    "recall_over.append(recall_score(y_test,dt_pipe.predict(X_test)).round(2))\n",
    "f1_over.append(f1_score(y_test,dt_pipe.predict(X_test)).round(2))\n",
    "precision_over.append(precision_score(y_test,dt_pipe.predict(X_test)).round(2))\n",
    "accuracy_over.append(accuracy_score(y_test,dt_pipe.predict(X_test)).round(2))"
   ]
  },
  {
   "cell_type": "markdown",
   "id": "cdf14b25",
   "metadata": {},
   "source": [
    "## Hybrid Samplng"
   ]
  },
  {
   "cell_type": "code",
   "execution_count": 86,
   "id": "37f9ab71",
   "metadata": {},
   "outputs": [],
   "source": [
    "def hybridsampling(X,y,us_ratio=0.5,os_ratio=1,n=3,m=3):\n",
    "    \n",
    "    #resetting the index of both X and y\n",
    "    X.reset_index(drop=True,inplace=True)\n",
    "    y.reset_index(drop=True,inplace=True)\n",
    "    \n",
    "    #dropping categorical variables\n",
    "    cat_var=X.select_dtypes(\"object\").columns\n",
    "    X.drop(cat_var,axis=1,inplace=True)\n",
    "\n",
    "    # creating a dataframe of counts corresponding to each category\n",
    "    temp_df=y.value_counts().reset_index()\n",
    "    temp_df.columns=[y.name,\"Count\"]\n",
    "    \n",
    "    #finding the majority label, minority label, majority count minority count\n",
    "    majority_label=temp_df[y.name][temp_df.Count.idxmax()]\n",
    "    majority_count=temp_df[\"Count\"][temp_df.Count.idxmax()]\n",
    "    minority_label=temp_df[y.name][temp_df.Count.idxmin()]\n",
    "    minority_count=temp_df[\"Count\"][temp_df.Count.idxmax()]\n",
    "    \n",
    "    #creating subsets of dataset based on the majority label and minority label\n",
    "    X_minor=X[y==minority_label].reset_index(drop=True)\n",
    "    X_major=X[y==majority_label].reset_index(drop=True)\n",
    "    \n",
    "    # Oversampling\n",
    "    X_oversample=pd.DataFrame(columns=X_minor.columns)\n",
    "    \n",
    "    # Number of rows to calculate the mean\n",
    "    window_size = 4\n",
    "\n",
    "    # Loop through the original DataFrame and calculate the mean for each window\n",
    "    for i in range(len(X_minor) - window_size + 1):\n",
    "        window = X_minor.iloc[i:i+window_size]\n",
    "        mean_row = window.mean()\n",
    "        X_oversample = pd.concat([X_oversample, mean_row.to_frame().T], ignore_index=True)\n",
    "        \n",
    "    # UnderSample\n",
    "    \n",
    "    #finding the mean of majority category\n",
    "    mean=X_major.mean(axis=0).values\n",
    "    \n",
    "    #calculating distance of every minority class point from the mean of majority class\n",
    "    distance=np.array([])\n",
    "    for i in range(X_minor.shape[0]):\n",
    "        d=np.sqrt(sum((X_minor.iloc[i].values-mean)**2))\n",
    "        distance=np.append(distance,d)\n",
    "    #finding the indices of minority points according to the distance (in ascending order)\n",
    "    minority_indices=np.argsort(distance)\n",
    "    \n",
    "    #reordering the X_minor according to the minority index\n",
    "    X_minor=X_minor.iloc[minority_indices]\n",
    "    \n",
    "    # finding number of points to be dropped\n",
    "    #n=np.int16(X_major.shape[0]/X_minor.shape[0])\n",
    "    \n",
    "    #n_under=int(us_ratio*len(X_minor))\n",
    "    #X_under=X_minor.iloc[:n_under,:]\n",
    "    \n",
    "    \n",
    "    # Find the indices to drop from X_major based on the 4 closest majority points for each minority point\n",
    "    for i in range(X_minor.shape[0]):\n",
    "        while(X_major.shape[0]>(X_minor.shape[0]+X_oversample.shape[0])):\n",
    "            distance=np.array([])\n",
    "            for j in range(X_major.shape[0]):\n",
    "                d=np.sqrt(sum((X_major.iloc[j].values-X_minor.iloc[i].values)**2))\n",
    "                distance=np.append(distance,d)\n",
    "\n",
    "            indices=np.argsort(distance)[0:n]\n",
    "\n",
    "            # Drop the 4 points from X_major for this iteration\n",
    "            X_major.drop(index=indices, axis=0, inplace=True)\n",
    "            X_major.reset_index(drop=True,inplace=True)\n",
    "    \n",
    "    #Creating new pandas series of the size of X_major and X_minor \n",
    "    y_major=pd.Series(np.repeat(majority_label,X_major.shape[0]))\n",
    "    y_minor=pd.Series(np.repeat(minority_label,(X_minor.shape[0]+X_oversample.shape[0])))\n",
    "    \n",
    "    #concatinating X_major and X_minor additionally y_major and y_minor\n",
    "    X_new=pd.concat([X_major,X_minor,X_oversample],axis=0).reset_index(drop=True)\n",
    "    y_new=pd.concat([y_major,y_minor],axis=0).reset_index(drop=True)\n",
    "    y_new.name=y.name\n",
    "    \n",
    "    #concatinating the X_new and y_new so that i can can suffle the row along with their corresponding labels\n",
    "    X_y=pd.concat([X_new,y_new],axis=1)\n",
    "    \n",
    "    #suffeling the dataframe rows\n",
    "    X_y=X_y.sample(frac=1.0, random_state=42).reset_index(drop=True)\n",
    "    \n",
    "    #splitting the X_y dataframe and feature matrix and target variable \n",
    "    columns_list=X_y.columns.to_list()\n",
    "    X = X_y[columns_list[:-1]]\n",
    "    y = X_y[columns_list[-1]]\n",
    "    \n",
    "\n",
    "    return X,y\n",
    "    "
   ]
  },
  {
   "cell_type": "code",
   "execution_count": 87,
   "id": "8ab5a33f",
   "metadata": {},
   "outputs": [],
   "source": [
    "X_train_hb,y_train_hb=hybridsampling(X_train,y_train)"
   ]
  },
  {
   "cell_type": "code",
   "execution_count": 88,
   "id": "da603374",
   "metadata": {},
   "outputs": [
    {
     "name": "stdout",
     "output_type": "stream",
     "text": [
      "X_train shape:  (7595, 10)\n",
      "X_train_hb shape:  (4873, 10)\n"
     ]
    }
   ],
   "source": [
    "print(\"X_train shape: \",X_train.shape)\n",
    "print(\"X_train_hb shape: \", X_train_hb.shape)"
   ]
  },
  {
   "cell_type": "markdown",
   "id": "1a5dd907",
   "metadata": {},
   "source": [
    "### Naive Bayes"
   ]
  },
  {
   "cell_type": "code",
   "execution_count": 89,
   "id": "c46d0aba",
   "metadata": {},
   "outputs": [
    {
     "data": {
      "text/html": [
       "<style>#sk-container-id-12 {color: black;background-color: white;}#sk-container-id-12 pre{padding: 0;}#sk-container-id-12 div.sk-toggleable {background-color: white;}#sk-container-id-12 label.sk-toggleable__label {cursor: pointer;display: block;width: 100%;margin-bottom: 0;padding: 0.3em;box-sizing: border-box;text-align: center;}#sk-container-id-12 label.sk-toggleable__label-arrow:before {content: \"▸\";float: left;margin-right: 0.25em;color: #696969;}#sk-container-id-12 label.sk-toggleable__label-arrow:hover:before {color: black;}#sk-container-id-12 div.sk-estimator:hover label.sk-toggleable__label-arrow:before {color: black;}#sk-container-id-12 div.sk-toggleable__content {max-height: 0;max-width: 0;overflow: hidden;text-align: left;background-color: #f0f8ff;}#sk-container-id-12 div.sk-toggleable__content pre {margin: 0.2em;color: black;border-radius: 0.25em;background-color: #f0f8ff;}#sk-container-id-12 input.sk-toggleable__control:checked~div.sk-toggleable__content {max-height: 200px;max-width: 100%;overflow: auto;}#sk-container-id-12 input.sk-toggleable__control:checked~label.sk-toggleable__label-arrow:before {content: \"▾\";}#sk-container-id-12 div.sk-estimator input.sk-toggleable__control:checked~label.sk-toggleable__label {background-color: #d4ebff;}#sk-container-id-12 div.sk-label input.sk-toggleable__control:checked~label.sk-toggleable__label {background-color: #d4ebff;}#sk-container-id-12 input.sk-hidden--visually {border: 0;clip: rect(1px 1px 1px 1px);clip: rect(1px, 1px, 1px, 1px);height: 1px;margin: -1px;overflow: hidden;padding: 0;position: absolute;width: 1px;}#sk-container-id-12 div.sk-estimator {font-family: monospace;background-color: #f0f8ff;border: 1px dotted black;border-radius: 0.25em;box-sizing: border-box;margin-bottom: 0.5em;}#sk-container-id-12 div.sk-estimator:hover {background-color: #d4ebff;}#sk-container-id-12 div.sk-parallel-item::after {content: \"\";width: 100%;border-bottom: 1px solid gray;flex-grow: 1;}#sk-container-id-12 div.sk-label:hover label.sk-toggleable__label {background-color: #d4ebff;}#sk-container-id-12 div.sk-serial::before {content: \"\";position: absolute;border-left: 1px solid gray;box-sizing: border-box;top: 0;bottom: 0;left: 50%;z-index: 0;}#sk-container-id-12 div.sk-serial {display: flex;flex-direction: column;align-items: center;background-color: white;padding-right: 0.2em;padding-left: 0.2em;position: relative;}#sk-container-id-12 div.sk-item {position: relative;z-index: 1;}#sk-container-id-12 div.sk-parallel {display: flex;align-items: stretch;justify-content: center;background-color: white;position: relative;}#sk-container-id-12 div.sk-item::before, #sk-container-id-12 div.sk-parallel-item::before {content: \"\";position: absolute;border-left: 1px solid gray;box-sizing: border-box;top: 0;bottom: 0;left: 50%;z-index: -1;}#sk-container-id-12 div.sk-parallel-item {display: flex;flex-direction: column;z-index: 1;position: relative;background-color: white;}#sk-container-id-12 div.sk-parallel-item:first-child::after {align-self: flex-end;width: 50%;}#sk-container-id-12 div.sk-parallel-item:last-child::after {align-self: flex-start;width: 50%;}#sk-container-id-12 div.sk-parallel-item:only-child::after {width: 0;}#sk-container-id-12 div.sk-dashed-wrapped {border: 1px dashed gray;margin: 0 0.4em 0.5em 0.4em;box-sizing: border-box;padding-bottom: 0.4em;background-color: white;}#sk-container-id-12 div.sk-label label {font-family: monospace;font-weight: bold;display: inline-block;line-height: 1.2em;}#sk-container-id-12 div.sk-label-container {text-align: center;}#sk-container-id-12 div.sk-container {/* jupyter's `normalize.less` sets `[hidden] { display: none; }` but bootstrap.min.css set `[hidden] { display: none !important; }` so we also need the `!important` here to be able to override the default hidden behavior on the sphinx rendered scikit-learn.org. See: https://github.com/scikit-learn/scikit-learn/issues/21755 */display: inline-block !important;position: relative;}#sk-container-id-12 div.sk-text-repr-fallback {display: none;}</style><div id=\"sk-container-id-12\" class=\"sk-top-container\"><div class=\"sk-text-repr-fallback\"><pre>Pipeline(steps=[(&#x27;minmaxscaler&#x27;, MinMaxScaler()), (&#x27;gaussiannb&#x27;, GaussianNB())])</pre><b>In a Jupyter environment, please rerun this cell to show the HTML representation or trust the notebook. <br />On GitHub, the HTML representation is unable to render, please try loading this page with nbviewer.org.</b></div><div class=\"sk-container\" hidden><div class=\"sk-item sk-dashed-wrapped\"><div class=\"sk-label-container\"><div class=\"sk-label sk-toggleable\"><input class=\"sk-toggleable__control sk-hidden--visually\" id=\"sk-estimator-id-34\" type=\"checkbox\" ><label for=\"sk-estimator-id-34\" class=\"sk-toggleable__label sk-toggleable__label-arrow\">Pipeline</label><div class=\"sk-toggleable__content\"><pre>Pipeline(steps=[(&#x27;minmaxscaler&#x27;, MinMaxScaler()), (&#x27;gaussiannb&#x27;, GaussianNB())])</pre></div></div></div><div class=\"sk-serial\"><div class=\"sk-item\"><div class=\"sk-estimator sk-toggleable\"><input class=\"sk-toggleable__control sk-hidden--visually\" id=\"sk-estimator-id-35\" type=\"checkbox\" ><label for=\"sk-estimator-id-35\" class=\"sk-toggleable__label sk-toggleable__label-arrow\">MinMaxScaler</label><div class=\"sk-toggleable__content\"><pre>MinMaxScaler()</pre></div></div></div><div class=\"sk-item\"><div class=\"sk-estimator sk-toggleable\"><input class=\"sk-toggleable__control sk-hidden--visually\" id=\"sk-estimator-id-36\" type=\"checkbox\" ><label for=\"sk-estimator-id-36\" class=\"sk-toggleable__label sk-toggleable__label-arrow\">GaussianNB</label><div class=\"sk-toggleable__content\"><pre>GaussianNB()</pre></div></div></div></div></div></div></div>"
      ],
      "text/plain": [
       "Pipeline(steps=[('minmaxscaler', MinMaxScaler()), ('gaussiannb', GaussianNB())])"
      ]
     },
     "execution_count": 89,
     "metadata": {},
     "output_type": "execute_result"
    }
   ],
   "source": [
    "nb_pipe.fit(X_train_hb,y_train_hb)"
   ]
  },
  {
   "cell_type": "code",
   "execution_count": 90,
   "id": "9b603930",
   "metadata": {},
   "outputs": [
    {
     "name": "stdout",
     "output_type": "stream",
     "text": [
      "              precision    recall  f1-score   support\n",
      "\n",
      "           0       0.94      0.75      0.84      2125\n",
      "           1       0.36      0.73      0.49       407\n",
      "\n",
      "    accuracy                           0.75      2532\n",
      "   macro avg       0.65      0.74      0.66      2532\n",
      "weighted avg       0.84      0.75      0.78      2532\n",
      "\n"
     ]
    }
   ],
   "source": [
    "print(classification_report(y_test,nb_pipe.predict(X_test)))"
   ]
  },
  {
   "cell_type": "code",
   "execution_count": 91,
   "id": "ac5e5837",
   "metadata": {},
   "outputs": [],
   "source": [
    "recall_hybrid.append(recall_score(y_test,nb_pipe.predict(X_test)).round(2))\n",
    "f1_hybrid.append(f1_score(y_test,nb_pipe.predict(X_test)).round(2))\n",
    "precision_hybrid.append(precision_score(y_test,nb_pipe.predict(X_test)).round(2))\n",
    "accuracy_hybrid.append(accuracy_score(y_test,nb_pipe.predict(X_test)).round(2))"
   ]
  },
  {
   "cell_type": "markdown",
   "id": "07a3bedf",
   "metadata": {},
   "source": [
    "### Logistic Regression "
   ]
  },
  {
   "cell_type": "code",
   "execution_count": 92,
   "id": "dc3e24a4",
   "metadata": {},
   "outputs": [
    {
     "data": {
      "text/html": [
       "<style>#sk-container-id-13 {color: black;background-color: white;}#sk-container-id-13 pre{padding: 0;}#sk-container-id-13 div.sk-toggleable {background-color: white;}#sk-container-id-13 label.sk-toggleable__label {cursor: pointer;display: block;width: 100%;margin-bottom: 0;padding: 0.3em;box-sizing: border-box;text-align: center;}#sk-container-id-13 label.sk-toggleable__label-arrow:before {content: \"▸\";float: left;margin-right: 0.25em;color: #696969;}#sk-container-id-13 label.sk-toggleable__label-arrow:hover:before {color: black;}#sk-container-id-13 div.sk-estimator:hover label.sk-toggleable__label-arrow:before {color: black;}#sk-container-id-13 div.sk-toggleable__content {max-height: 0;max-width: 0;overflow: hidden;text-align: left;background-color: #f0f8ff;}#sk-container-id-13 div.sk-toggleable__content pre {margin: 0.2em;color: black;border-radius: 0.25em;background-color: #f0f8ff;}#sk-container-id-13 input.sk-toggleable__control:checked~div.sk-toggleable__content {max-height: 200px;max-width: 100%;overflow: auto;}#sk-container-id-13 input.sk-toggleable__control:checked~label.sk-toggleable__label-arrow:before {content: \"▾\";}#sk-container-id-13 div.sk-estimator input.sk-toggleable__control:checked~label.sk-toggleable__label {background-color: #d4ebff;}#sk-container-id-13 div.sk-label input.sk-toggleable__control:checked~label.sk-toggleable__label {background-color: #d4ebff;}#sk-container-id-13 input.sk-hidden--visually {border: 0;clip: rect(1px 1px 1px 1px);clip: rect(1px, 1px, 1px, 1px);height: 1px;margin: -1px;overflow: hidden;padding: 0;position: absolute;width: 1px;}#sk-container-id-13 div.sk-estimator {font-family: monospace;background-color: #f0f8ff;border: 1px dotted black;border-radius: 0.25em;box-sizing: border-box;margin-bottom: 0.5em;}#sk-container-id-13 div.sk-estimator:hover {background-color: #d4ebff;}#sk-container-id-13 div.sk-parallel-item::after {content: \"\";width: 100%;border-bottom: 1px solid gray;flex-grow: 1;}#sk-container-id-13 div.sk-label:hover label.sk-toggleable__label {background-color: #d4ebff;}#sk-container-id-13 div.sk-serial::before {content: \"\";position: absolute;border-left: 1px solid gray;box-sizing: border-box;top: 0;bottom: 0;left: 50%;z-index: 0;}#sk-container-id-13 div.sk-serial {display: flex;flex-direction: column;align-items: center;background-color: white;padding-right: 0.2em;padding-left: 0.2em;position: relative;}#sk-container-id-13 div.sk-item {position: relative;z-index: 1;}#sk-container-id-13 div.sk-parallel {display: flex;align-items: stretch;justify-content: center;background-color: white;position: relative;}#sk-container-id-13 div.sk-item::before, #sk-container-id-13 div.sk-parallel-item::before {content: \"\";position: absolute;border-left: 1px solid gray;box-sizing: border-box;top: 0;bottom: 0;left: 50%;z-index: -1;}#sk-container-id-13 div.sk-parallel-item {display: flex;flex-direction: column;z-index: 1;position: relative;background-color: white;}#sk-container-id-13 div.sk-parallel-item:first-child::after {align-self: flex-end;width: 50%;}#sk-container-id-13 div.sk-parallel-item:last-child::after {align-self: flex-start;width: 50%;}#sk-container-id-13 div.sk-parallel-item:only-child::after {width: 0;}#sk-container-id-13 div.sk-dashed-wrapped {border: 1px dashed gray;margin: 0 0.4em 0.5em 0.4em;box-sizing: border-box;padding-bottom: 0.4em;background-color: white;}#sk-container-id-13 div.sk-label label {font-family: monospace;font-weight: bold;display: inline-block;line-height: 1.2em;}#sk-container-id-13 div.sk-label-container {text-align: center;}#sk-container-id-13 div.sk-container {/* jupyter's `normalize.less` sets `[hidden] { display: none; }` but bootstrap.min.css set `[hidden] { display: none !important; }` so we also need the `!important` here to be able to override the default hidden behavior on the sphinx rendered scikit-learn.org. See: https://github.com/scikit-learn/scikit-learn/issues/21755 */display: inline-block !important;position: relative;}#sk-container-id-13 div.sk-text-repr-fallback {display: none;}</style><div id=\"sk-container-id-13\" class=\"sk-top-container\"><div class=\"sk-text-repr-fallback\"><pre>Pipeline(steps=[(&#x27;standardscaler&#x27;, StandardScaler()),\n",
       "                (&#x27;logisticregression&#x27;,\n",
       "                 LogisticRegression(max_iter=500, random_state=42))])</pre><b>In a Jupyter environment, please rerun this cell to show the HTML representation or trust the notebook. <br />On GitHub, the HTML representation is unable to render, please try loading this page with nbviewer.org.</b></div><div class=\"sk-container\" hidden><div class=\"sk-item sk-dashed-wrapped\"><div class=\"sk-label-container\"><div class=\"sk-label sk-toggleable\"><input class=\"sk-toggleable__control sk-hidden--visually\" id=\"sk-estimator-id-37\" type=\"checkbox\" ><label for=\"sk-estimator-id-37\" class=\"sk-toggleable__label sk-toggleable__label-arrow\">Pipeline</label><div class=\"sk-toggleable__content\"><pre>Pipeline(steps=[(&#x27;standardscaler&#x27;, StandardScaler()),\n",
       "                (&#x27;logisticregression&#x27;,\n",
       "                 LogisticRegression(max_iter=500, random_state=42))])</pre></div></div></div><div class=\"sk-serial\"><div class=\"sk-item\"><div class=\"sk-estimator sk-toggleable\"><input class=\"sk-toggleable__control sk-hidden--visually\" id=\"sk-estimator-id-38\" type=\"checkbox\" ><label for=\"sk-estimator-id-38\" class=\"sk-toggleable__label sk-toggleable__label-arrow\">StandardScaler</label><div class=\"sk-toggleable__content\"><pre>StandardScaler()</pre></div></div></div><div class=\"sk-item\"><div class=\"sk-estimator sk-toggleable\"><input class=\"sk-toggleable__control sk-hidden--visually\" id=\"sk-estimator-id-39\" type=\"checkbox\" ><label for=\"sk-estimator-id-39\" class=\"sk-toggleable__label sk-toggleable__label-arrow\">LogisticRegression</label><div class=\"sk-toggleable__content\"><pre>LogisticRegression(max_iter=500, random_state=42)</pre></div></div></div></div></div></div></div>"
      ],
      "text/plain": [
       "Pipeline(steps=[('standardscaler', StandardScaler()),\n",
       "                ('logisticregression',\n",
       "                 LogisticRegression(max_iter=500, random_state=42))])"
      ]
     },
     "execution_count": 92,
     "metadata": {},
     "output_type": "execute_result"
    }
   ],
   "source": [
    "log_pipe.fit(X_train_hb,y_train_hb)"
   ]
  },
  {
   "cell_type": "code",
   "execution_count": 93,
   "id": "cb327213",
   "metadata": {},
   "outputs": [
    {
     "name": "stdout",
     "output_type": "stream",
     "text": [
      "              precision    recall  f1-score   support\n",
      "\n",
      "           0       0.95      0.86      0.90      2125\n",
      "           1       0.51      0.77      0.61       407\n",
      "\n",
      "    accuracy                           0.84      2532\n",
      "   macro avg       0.73      0.81      0.76      2532\n",
      "weighted avg       0.88      0.84      0.86      2532\n",
      "\n"
     ]
    }
   ],
   "source": [
    "print(classification_report(y_test,log_pipe.predict(X_test)))"
   ]
  },
  {
   "cell_type": "code",
   "execution_count": 94,
   "id": "ae2d27a3",
   "metadata": {},
   "outputs": [],
   "source": [
    "recall_hybrid.append(recall_score(y_test,log_pipe.predict(X_test)).round(2))\n",
    "f1_hybrid.append(f1_score(y_test,log_pipe.predict(X_test)).round(2))\n",
    "precision_hybrid.append(precision_score(y_test,log_pipe.predict(X_test)).round(2))\n",
    "accuracy_hybrid.append(accuracy_score(y_test,log_pipe.predict(X_test)).round(2))"
   ]
  },
  {
   "cell_type": "markdown",
   "id": "75d3a498",
   "metadata": {},
   "source": [
    "### Decision Tree"
   ]
  },
  {
   "cell_type": "code",
   "execution_count": 95,
   "id": "cfda4404",
   "metadata": {},
   "outputs": [
    {
     "data": {
      "text/html": [
       "<style>#sk-container-id-14 {color: black;background-color: white;}#sk-container-id-14 pre{padding: 0;}#sk-container-id-14 div.sk-toggleable {background-color: white;}#sk-container-id-14 label.sk-toggleable__label {cursor: pointer;display: block;width: 100%;margin-bottom: 0;padding: 0.3em;box-sizing: border-box;text-align: center;}#sk-container-id-14 label.sk-toggleable__label-arrow:before {content: \"▸\";float: left;margin-right: 0.25em;color: #696969;}#sk-container-id-14 label.sk-toggleable__label-arrow:hover:before {color: black;}#sk-container-id-14 div.sk-estimator:hover label.sk-toggleable__label-arrow:before {color: black;}#sk-container-id-14 div.sk-toggleable__content {max-height: 0;max-width: 0;overflow: hidden;text-align: left;background-color: #f0f8ff;}#sk-container-id-14 div.sk-toggleable__content pre {margin: 0.2em;color: black;border-radius: 0.25em;background-color: #f0f8ff;}#sk-container-id-14 input.sk-toggleable__control:checked~div.sk-toggleable__content {max-height: 200px;max-width: 100%;overflow: auto;}#sk-container-id-14 input.sk-toggleable__control:checked~label.sk-toggleable__label-arrow:before {content: \"▾\";}#sk-container-id-14 div.sk-estimator input.sk-toggleable__control:checked~label.sk-toggleable__label {background-color: #d4ebff;}#sk-container-id-14 div.sk-label input.sk-toggleable__control:checked~label.sk-toggleable__label {background-color: #d4ebff;}#sk-container-id-14 input.sk-hidden--visually {border: 0;clip: rect(1px 1px 1px 1px);clip: rect(1px, 1px, 1px, 1px);height: 1px;margin: -1px;overflow: hidden;padding: 0;position: absolute;width: 1px;}#sk-container-id-14 div.sk-estimator {font-family: monospace;background-color: #f0f8ff;border: 1px dotted black;border-radius: 0.25em;box-sizing: border-box;margin-bottom: 0.5em;}#sk-container-id-14 div.sk-estimator:hover {background-color: #d4ebff;}#sk-container-id-14 div.sk-parallel-item::after {content: \"\";width: 100%;border-bottom: 1px solid gray;flex-grow: 1;}#sk-container-id-14 div.sk-label:hover label.sk-toggleable__label {background-color: #d4ebff;}#sk-container-id-14 div.sk-serial::before {content: \"\";position: absolute;border-left: 1px solid gray;box-sizing: border-box;top: 0;bottom: 0;left: 50%;z-index: 0;}#sk-container-id-14 div.sk-serial {display: flex;flex-direction: column;align-items: center;background-color: white;padding-right: 0.2em;padding-left: 0.2em;position: relative;}#sk-container-id-14 div.sk-item {position: relative;z-index: 1;}#sk-container-id-14 div.sk-parallel {display: flex;align-items: stretch;justify-content: center;background-color: white;position: relative;}#sk-container-id-14 div.sk-item::before, #sk-container-id-14 div.sk-parallel-item::before {content: \"\";position: absolute;border-left: 1px solid gray;box-sizing: border-box;top: 0;bottom: 0;left: 50%;z-index: -1;}#sk-container-id-14 div.sk-parallel-item {display: flex;flex-direction: column;z-index: 1;position: relative;background-color: white;}#sk-container-id-14 div.sk-parallel-item:first-child::after {align-self: flex-end;width: 50%;}#sk-container-id-14 div.sk-parallel-item:last-child::after {align-self: flex-start;width: 50%;}#sk-container-id-14 div.sk-parallel-item:only-child::after {width: 0;}#sk-container-id-14 div.sk-dashed-wrapped {border: 1px dashed gray;margin: 0 0.4em 0.5em 0.4em;box-sizing: border-box;padding-bottom: 0.4em;background-color: white;}#sk-container-id-14 div.sk-label label {font-family: monospace;font-weight: bold;display: inline-block;line-height: 1.2em;}#sk-container-id-14 div.sk-label-container {text-align: center;}#sk-container-id-14 div.sk-container {/* jupyter's `normalize.less` sets `[hidden] { display: none; }` but bootstrap.min.css set `[hidden] { display: none !important; }` so we also need the `!important` here to be able to override the default hidden behavior on the sphinx rendered scikit-learn.org. See: https://github.com/scikit-learn/scikit-learn/issues/21755 */display: inline-block !important;position: relative;}#sk-container-id-14 div.sk-text-repr-fallback {display: none;}</style><div id=\"sk-container-id-14\" class=\"sk-top-container\"><div class=\"sk-text-repr-fallback\"><pre>Pipeline(steps=[(&#x27;standardscaler&#x27;, StandardScaler()),\n",
       "                (&#x27;decisiontreeclassifier&#x27;, DecisionTreeClassifier())])</pre><b>In a Jupyter environment, please rerun this cell to show the HTML representation or trust the notebook. <br />On GitHub, the HTML representation is unable to render, please try loading this page with nbviewer.org.</b></div><div class=\"sk-container\" hidden><div class=\"sk-item sk-dashed-wrapped\"><div class=\"sk-label-container\"><div class=\"sk-label sk-toggleable\"><input class=\"sk-toggleable__control sk-hidden--visually\" id=\"sk-estimator-id-40\" type=\"checkbox\" ><label for=\"sk-estimator-id-40\" class=\"sk-toggleable__label sk-toggleable__label-arrow\">Pipeline</label><div class=\"sk-toggleable__content\"><pre>Pipeline(steps=[(&#x27;standardscaler&#x27;, StandardScaler()),\n",
       "                (&#x27;decisiontreeclassifier&#x27;, DecisionTreeClassifier())])</pre></div></div></div><div class=\"sk-serial\"><div class=\"sk-item\"><div class=\"sk-estimator sk-toggleable\"><input class=\"sk-toggleable__control sk-hidden--visually\" id=\"sk-estimator-id-41\" type=\"checkbox\" ><label for=\"sk-estimator-id-41\" class=\"sk-toggleable__label sk-toggleable__label-arrow\">StandardScaler</label><div class=\"sk-toggleable__content\"><pre>StandardScaler()</pre></div></div></div><div class=\"sk-item\"><div class=\"sk-estimator sk-toggleable\"><input class=\"sk-toggleable__control sk-hidden--visually\" id=\"sk-estimator-id-42\" type=\"checkbox\" ><label for=\"sk-estimator-id-42\" class=\"sk-toggleable__label sk-toggleable__label-arrow\">DecisionTreeClassifier</label><div class=\"sk-toggleable__content\"><pre>DecisionTreeClassifier()</pre></div></div></div></div></div></div></div>"
      ],
      "text/plain": [
       "Pipeline(steps=[('standardscaler', StandardScaler()),\n",
       "                ('decisiontreeclassifier', DecisionTreeClassifier())])"
      ]
     },
     "execution_count": 95,
     "metadata": {},
     "output_type": "execute_result"
    }
   ],
   "source": [
    "dt_pipe.fit(X_train_hb,y_train_hb)"
   ]
  },
  {
   "cell_type": "code",
   "execution_count": 96,
   "id": "f458d5ce",
   "metadata": {
    "scrolled": true
   },
   "outputs": [
    {
     "name": "stdout",
     "output_type": "stream",
     "text": [
      "              precision    recall  f1-score   support\n",
      "\n",
      "           0       0.97      0.78      0.86      2125\n",
      "           1       0.43      0.88      0.58       407\n",
      "\n",
      "    accuracy                           0.79      2532\n",
      "   macro avg       0.70      0.83      0.72      2532\n",
      "weighted avg       0.88      0.79      0.82      2532\n",
      "\n"
     ]
    }
   ],
   "source": [
    "print(classification_report(y_test,dt_pipe.predict(X_test)))"
   ]
  },
  {
   "cell_type": "code",
   "execution_count": 97,
   "id": "ec86107f",
   "metadata": {},
   "outputs": [],
   "source": [
    "recall_hybrid.append(recall_score(y_test,dt_pipe.predict(X_test)).round(2))\n",
    "f1_hybrid.append(f1_score(y_test,dt_pipe.predict(X_test)).round(2))\n",
    "precision_hybrid.append(precision_score(y_test,dt_pipe.predict(X_test)).round(2))\n",
    "accuracy_hybrid.append(accuracy_score(y_test,dt_pipe.predict(X_test)).round(2))"
   ]
  },
  {
   "cell_type": "code",
   "execution_count": 107,
   "id": "3c514709",
   "metadata": {},
   "outputs": [],
   "source": [
    "coefficients=log_pipe[-1].coef_.flatten()"
   ]
  },
  {
   "cell_type": "code",
   "execution_count": 108,
   "id": "ba29643c",
   "metadata": {},
   "outputs": [],
   "source": [
    "feature_names=X.columns"
   ]
  },
  {
   "cell_type": "code",
   "execution_count": 109,
   "id": "792063ec",
   "metadata": {},
   "outputs": [
    {
     "name": "stdout",
     "output_type": "stream",
     "text": [
      "Dependent_count: 0.0226\n",
      "Total_Relationship_Count: 0.0856\n",
      "Months_Inactive_12_mon: 0.0626\n",
      "Contacts_Count_12_mon: 0.0727\n",
      "Credit_Limit: 0.0921\n",
      "Total_Revolving_Bal: 0.0244\n",
      "Total_Trans_Amt: 0.1604\n",
      "Total_Trans_Ct: 0.3307\n",
      "Total_Ct_Chng_Q4_Q1: 0.0850\n",
      "Avg_Utilization_Ratio: 0.0639\n"
     ]
    }
   ],
   "source": [
    "# Calculate absolute coefficients for feature importance\n",
    "abs_coefficients = np.abs(coefficients)\n",
    "\n",
    "# Normalize coefficients to sum up to 1 for easier comparison\n",
    "normalized_coefficients = abs_coefficients / np.sum(abs_coefficients)\n",
    "\n",
    "# Create a dictionary to store feature importance\n",
    "feature_importance = dict(zip(feature_names, normalized_coefficients))\n",
    "\n",
    "# Print feature importance\n",
    "for feature, importance in feature_importance.items():\n",
    "    print(f'{feature}: {importance:.4f}')"
   ]
  },
  {
   "cell_type": "code",
   "execution_count": 110,
   "id": "80227989",
   "metadata": {},
   "outputs": [
    {
     "data": {
      "text/plain": [
       "{'Dependent_count': 0.022607587750986223,\n",
       " 'Total_Relationship_Count': 0.08557229064759762,\n",
       " 'Months_Inactive_12_mon': 0.06256278298856927,\n",
       " 'Contacts_Count_12_mon': 0.07267878912276768,\n",
       " 'Credit_Limit': 0.09208515532316974,\n",
       " 'Total_Revolving_Bal': 0.024437960150293103,\n",
       " 'Total_Trans_Amt': 0.16042132866092357,\n",
       " 'Total_Trans_Ct': 0.33067642562128013,\n",
       " 'Total_Ct_Chng_Q4_Q1': 0.08503494337434923,\n",
       " 'Avg_Utilization_Ratio': 0.06392273636006351}"
      ]
     },
     "execution_count": 110,
     "metadata": {},
     "output_type": "execute_result"
    }
   ],
   "source": [
    "feature_importance"
   ]
  },
  {
   "cell_type": "code",
   "execution_count": 111,
   "id": "eaf28ebd",
   "metadata": {},
   "outputs": [
    {
     "ename": "ValueError",
     "evalue": "If using all scalar values, you must pass an index",
     "output_type": "error",
     "traceback": [
      "\u001b[1;31m---------------------------------------------------------------------------\u001b[0m",
      "\u001b[1;31mValueError\u001b[0m                                Traceback (most recent call last)",
      "Cell \u001b[1;32mIn[111], line 1\u001b[0m\n\u001b[1;32m----> 1\u001b[0m \u001b[43mpd\u001b[49m\u001b[38;5;241;43m.\u001b[39;49m\u001b[43mDataFrame\u001b[49m\u001b[43m(\u001b[49m\u001b[43mfeature_importance\u001b[49m\u001b[43m)\u001b[49m\n",
      "File \u001b[1;32m~\\anaconda3\\lib\\site-packages\\pandas\\core\\frame.py:664\u001b[0m, in \u001b[0;36mDataFrame.__init__\u001b[1;34m(self, data, index, columns, dtype, copy)\u001b[0m\n\u001b[0;32m    658\u001b[0m     mgr \u001b[38;5;241m=\u001b[39m \u001b[38;5;28mself\u001b[39m\u001b[38;5;241m.\u001b[39m_init_mgr(\n\u001b[0;32m    659\u001b[0m         data, axes\u001b[38;5;241m=\u001b[39m{\u001b[38;5;124m\"\u001b[39m\u001b[38;5;124mindex\u001b[39m\u001b[38;5;124m\"\u001b[39m: index, \u001b[38;5;124m\"\u001b[39m\u001b[38;5;124mcolumns\u001b[39m\u001b[38;5;124m\"\u001b[39m: columns}, dtype\u001b[38;5;241m=\u001b[39mdtype, copy\u001b[38;5;241m=\u001b[39mcopy\n\u001b[0;32m    660\u001b[0m     )\n\u001b[0;32m    662\u001b[0m \u001b[38;5;28;01melif\u001b[39;00m \u001b[38;5;28misinstance\u001b[39m(data, \u001b[38;5;28mdict\u001b[39m):\n\u001b[0;32m    663\u001b[0m     \u001b[38;5;66;03m# GH#38939 de facto copy defaults to False only in non-dict cases\u001b[39;00m\n\u001b[1;32m--> 664\u001b[0m     mgr \u001b[38;5;241m=\u001b[39m \u001b[43mdict_to_mgr\u001b[49m\u001b[43m(\u001b[49m\u001b[43mdata\u001b[49m\u001b[43m,\u001b[49m\u001b[43m \u001b[49m\u001b[43mindex\u001b[49m\u001b[43m,\u001b[49m\u001b[43m \u001b[49m\u001b[43mcolumns\u001b[49m\u001b[43m,\u001b[49m\u001b[43m \u001b[49m\u001b[43mdtype\u001b[49m\u001b[38;5;241;43m=\u001b[39;49m\u001b[43mdtype\u001b[49m\u001b[43m,\u001b[49m\u001b[43m \u001b[49m\u001b[43mcopy\u001b[49m\u001b[38;5;241;43m=\u001b[39;49m\u001b[43mcopy\u001b[49m\u001b[43m,\u001b[49m\u001b[43m \u001b[49m\u001b[43mtyp\u001b[49m\u001b[38;5;241;43m=\u001b[39;49m\u001b[43mmanager\u001b[49m\u001b[43m)\u001b[49m\n\u001b[0;32m    665\u001b[0m \u001b[38;5;28;01melif\u001b[39;00m \u001b[38;5;28misinstance\u001b[39m(data, ma\u001b[38;5;241m.\u001b[39mMaskedArray):\n\u001b[0;32m    666\u001b[0m     \u001b[38;5;28;01mimport\u001b[39;00m \u001b[38;5;21;01mnumpy\u001b[39;00m\u001b[38;5;21;01m.\u001b[39;00m\u001b[38;5;21;01mma\u001b[39;00m\u001b[38;5;21;01m.\u001b[39;00m\u001b[38;5;21;01mmrecords\u001b[39;00m \u001b[38;5;28;01mas\u001b[39;00m \u001b[38;5;21;01mmrecords\u001b[39;00m\n",
      "File \u001b[1;32m~\\anaconda3\\lib\\site-packages\\pandas\\core\\internals\\construction.py:493\u001b[0m, in \u001b[0;36mdict_to_mgr\u001b[1;34m(data, index, columns, dtype, typ, copy)\u001b[0m\n\u001b[0;32m    489\u001b[0m     \u001b[38;5;28;01melse\u001b[39;00m:\n\u001b[0;32m    490\u001b[0m         \u001b[38;5;66;03m# dtype check to exclude e.g. range objects, scalars\u001b[39;00m\n\u001b[0;32m    491\u001b[0m         arrays \u001b[38;5;241m=\u001b[39m [x\u001b[38;5;241m.\u001b[39mcopy() \u001b[38;5;28;01mif\u001b[39;00m \u001b[38;5;28mhasattr\u001b[39m(x, \u001b[38;5;124m\"\u001b[39m\u001b[38;5;124mdtype\u001b[39m\u001b[38;5;124m\"\u001b[39m) \u001b[38;5;28;01melse\u001b[39;00m x \u001b[38;5;28;01mfor\u001b[39;00m x \u001b[38;5;129;01min\u001b[39;00m arrays]\n\u001b[1;32m--> 493\u001b[0m \u001b[38;5;28;01mreturn\u001b[39;00m \u001b[43marrays_to_mgr\u001b[49m\u001b[43m(\u001b[49m\u001b[43marrays\u001b[49m\u001b[43m,\u001b[49m\u001b[43m \u001b[49m\u001b[43mcolumns\u001b[49m\u001b[43m,\u001b[49m\u001b[43m \u001b[49m\u001b[43mindex\u001b[49m\u001b[43m,\u001b[49m\u001b[43m \u001b[49m\u001b[43mdtype\u001b[49m\u001b[38;5;241;43m=\u001b[39;49m\u001b[43mdtype\u001b[49m\u001b[43m,\u001b[49m\u001b[43m \u001b[49m\u001b[43mtyp\u001b[49m\u001b[38;5;241;43m=\u001b[39;49m\u001b[43mtyp\u001b[49m\u001b[43m,\u001b[49m\u001b[43m \u001b[49m\u001b[43mconsolidate\u001b[49m\u001b[38;5;241;43m=\u001b[39;49m\u001b[43mcopy\u001b[49m\u001b[43m)\u001b[49m\n",
      "File \u001b[1;32m~\\anaconda3\\lib\\site-packages\\pandas\\core\\internals\\construction.py:118\u001b[0m, in \u001b[0;36marrays_to_mgr\u001b[1;34m(arrays, columns, index, dtype, verify_integrity, typ, consolidate)\u001b[0m\n\u001b[0;32m    115\u001b[0m \u001b[38;5;28;01mif\u001b[39;00m verify_integrity:\n\u001b[0;32m    116\u001b[0m     \u001b[38;5;66;03m# figure out the index, if necessary\u001b[39;00m\n\u001b[0;32m    117\u001b[0m     \u001b[38;5;28;01mif\u001b[39;00m index \u001b[38;5;129;01mis\u001b[39;00m \u001b[38;5;28;01mNone\u001b[39;00m:\n\u001b[1;32m--> 118\u001b[0m         index \u001b[38;5;241m=\u001b[39m \u001b[43m_extract_index\u001b[49m\u001b[43m(\u001b[49m\u001b[43marrays\u001b[49m\u001b[43m)\u001b[49m\n\u001b[0;32m    119\u001b[0m     \u001b[38;5;28;01melse\u001b[39;00m:\n\u001b[0;32m    120\u001b[0m         index \u001b[38;5;241m=\u001b[39m ensure_index(index)\n",
      "File \u001b[1;32m~\\anaconda3\\lib\\site-packages\\pandas\\core\\internals\\construction.py:656\u001b[0m, in \u001b[0;36m_extract_index\u001b[1;34m(data)\u001b[0m\n\u001b[0;32m    653\u001b[0m         \u001b[38;5;28;01mraise\u001b[39;00m \u001b[38;5;167;01mValueError\u001b[39;00m(\u001b[38;5;124m\"\u001b[39m\u001b[38;5;124mPer-column arrays must each be 1-dimensional\u001b[39m\u001b[38;5;124m\"\u001b[39m)\n\u001b[0;32m    655\u001b[0m \u001b[38;5;28;01mif\u001b[39;00m \u001b[38;5;129;01mnot\u001b[39;00m indexes \u001b[38;5;129;01mand\u001b[39;00m \u001b[38;5;129;01mnot\u001b[39;00m raw_lengths:\n\u001b[1;32m--> 656\u001b[0m     \u001b[38;5;28;01mraise\u001b[39;00m \u001b[38;5;167;01mValueError\u001b[39;00m(\u001b[38;5;124m\"\u001b[39m\u001b[38;5;124mIf using all scalar values, you must pass an index\u001b[39m\u001b[38;5;124m\"\u001b[39m)\n\u001b[0;32m    658\u001b[0m \u001b[38;5;28;01melif\u001b[39;00m have_series:\n\u001b[0;32m    659\u001b[0m     index \u001b[38;5;241m=\u001b[39m union_indexes(indexes)\n",
      "\u001b[1;31mValueError\u001b[0m: If using all scalar values, you must pass an index"
     ]
    }
   ],
   "source": [
    "pd.DataFrame(feature_importance)"
   ]
  },
  {
   "cell_type": "code",
   "execution_count": null,
   "id": "603737e5",
   "metadata": {},
   "outputs": [],
   "source": []
  },
  {
   "cell_type": "code",
   "execution_count": 106,
   "id": "f5ef16bd",
   "metadata": {},
   "outputs": [
    {
     "data": {
      "text/plain": [
       "array([ 0.20703128, -0.78363693,  0.57292503,  0.66556338, -0.84327915,\n",
       "       -0.2237931 ,  1.46907459, -3.02820291, -0.77871612, -0.58537894])"
      ]
     },
     "execution_count": 106,
     "metadata": {},
     "output_type": "execute_result"
    }
   ],
   "source": [
    "coefficients"
   ]
  },
  {
   "cell_type": "code",
   "execution_count": null,
   "id": "c3d62b77",
   "metadata": {},
   "outputs": [],
   "source": []
  },
  {
   "cell_type": "markdown",
   "id": "ec03c67a",
   "metadata": {},
   "source": [
    "##  Creating Scores Tables"
   ]
  },
  {
   "cell_type": "markdown",
   "id": "fe127cd1",
   "metadata": {},
   "source": [
    "### Recall Table"
   ]
  },
  {
   "cell_type": "code",
   "execution_count": 129,
   "id": "0d890867",
   "metadata": {},
   "outputs": [
    {
     "ename": "ValueError",
     "evalue": "Length of values (4) does not match length of index (3)",
     "output_type": "error",
     "traceback": [
      "\u001b[1;31m---------------------------------------------------------------------------\u001b[0m",
      "\u001b[1;31mValueError\u001b[0m                                Traceback (most recent call last)",
      "Cell \u001b[1;32mIn[129], line 3\u001b[0m\n\u001b[0;32m      1\u001b[0m recall_scores\u001b[38;5;241m=\u001b[39mpd\u001b[38;5;241m.\u001b[39mDataFrame(columns\u001b[38;5;241m=\u001b[39m[\u001b[38;5;124m\"\u001b[39m\u001b[38;5;124mAlgorithm\u001b[39m\u001b[38;5;124m\"\u001b[39m,\u001b[38;5;124m\"\u001b[39m\u001b[38;5;124mBasic\u001b[39m\u001b[38;5;124m\"\u001b[39m,\u001b[38;5;124m\"\u001b[39m\u001b[38;5;124mUndersampling\u001b[39m\u001b[38;5;124m\"\u001b[39m,\u001b[38;5;124m\"\u001b[39m\u001b[38;5;124mOversampling\u001b[39m\u001b[38;5;124m\"\u001b[39m,\u001b[38;5;124m\"\u001b[39m\u001b[38;5;124mHybrid\u001b[39m\u001b[38;5;124m\"\u001b[39m])\n\u001b[0;32m      2\u001b[0m recall_scores[\u001b[38;5;124m\"\u001b[39m\u001b[38;5;124mAlgorithm\u001b[39m\u001b[38;5;124m\"\u001b[39m]\u001b[38;5;241m=\u001b[39m[\u001b[38;5;124m\"\u001b[39m\u001b[38;5;124mNaive Bayes\u001b[39m\u001b[38;5;124m\"\u001b[39m,\u001b[38;5;124m\"\u001b[39m\u001b[38;5;124mLogistic Regression\u001b[39m\u001b[38;5;124m\"\u001b[39m,\u001b[38;5;124m\"\u001b[39m\u001b[38;5;124mDecision Tree\u001b[39m\u001b[38;5;124m\"\u001b[39m]\n\u001b[1;32m----> 3\u001b[0m recall_scores\u001b[38;5;241m.\u001b[39mBasic\u001b[38;5;241m=\u001b[39mrecall_basic\n\u001b[0;32m      4\u001b[0m recall_scores\u001b[38;5;241m.\u001b[39mUndersampling\u001b[38;5;241m=\u001b[39mrecall_under\n\u001b[0;32m      5\u001b[0m recall_scores\u001b[38;5;241m.\u001b[39mOversampling\u001b[38;5;241m=\u001b[39mrecall_over\n",
      "File \u001b[1;32m~\\anaconda3\\lib\\site-packages\\pandas\\core\\generic.py:5931\u001b[0m, in \u001b[0;36mNDFrame.__setattr__\u001b[1;34m(self, name, value)\u001b[0m\n\u001b[0;32m   5929\u001b[0m     \u001b[38;5;28mobject\u001b[39m\u001b[38;5;241m.\u001b[39m\u001b[38;5;21m__setattr__\u001b[39m(\u001b[38;5;28mself\u001b[39m, name, value)\n\u001b[0;32m   5930\u001b[0m \u001b[38;5;28;01melif\u001b[39;00m name \u001b[38;5;129;01min\u001b[39;00m \u001b[38;5;28mself\u001b[39m\u001b[38;5;241m.\u001b[39m_info_axis:\n\u001b[1;32m-> 5931\u001b[0m     \u001b[38;5;28mself\u001b[39m[name] \u001b[38;5;241m=\u001b[39m value\n\u001b[0;32m   5932\u001b[0m \u001b[38;5;28;01melse\u001b[39;00m:\n\u001b[0;32m   5933\u001b[0m     \u001b[38;5;28mobject\u001b[39m\u001b[38;5;241m.\u001b[39m\u001b[38;5;21m__setattr__\u001b[39m(\u001b[38;5;28mself\u001b[39m, name, value)\n",
      "File \u001b[1;32m~\\anaconda3\\lib\\site-packages\\pandas\\core\\frame.py:3980\u001b[0m, in \u001b[0;36mDataFrame.__setitem__\u001b[1;34m(self, key, value)\u001b[0m\n\u001b[0;32m   3977\u001b[0m     \u001b[38;5;28mself\u001b[39m\u001b[38;5;241m.\u001b[39m_setitem_array([key], value)\n\u001b[0;32m   3978\u001b[0m \u001b[38;5;28;01melse\u001b[39;00m:\n\u001b[0;32m   3979\u001b[0m     \u001b[38;5;66;03m# set column\u001b[39;00m\n\u001b[1;32m-> 3980\u001b[0m     \u001b[38;5;28;43mself\u001b[39;49m\u001b[38;5;241;43m.\u001b[39;49m\u001b[43m_set_item\u001b[49m\u001b[43m(\u001b[49m\u001b[43mkey\u001b[49m\u001b[43m,\u001b[49m\u001b[43m \u001b[49m\u001b[43mvalue\u001b[49m\u001b[43m)\u001b[49m\n",
      "File \u001b[1;32m~\\anaconda3\\lib\\site-packages\\pandas\\core\\frame.py:4174\u001b[0m, in \u001b[0;36mDataFrame._set_item\u001b[1;34m(self, key, value)\u001b[0m\n\u001b[0;32m   4164\u001b[0m \u001b[38;5;28;01mdef\u001b[39;00m \u001b[38;5;21m_set_item\u001b[39m(\u001b[38;5;28mself\u001b[39m, key, value) \u001b[38;5;241m-\u001b[39m\u001b[38;5;241m>\u001b[39m \u001b[38;5;28;01mNone\u001b[39;00m:\n\u001b[0;32m   4165\u001b[0m     \u001b[38;5;124;03m\"\"\"\u001b[39;00m\n\u001b[0;32m   4166\u001b[0m \u001b[38;5;124;03m    Add series to DataFrame in specified column.\u001b[39;00m\n\u001b[0;32m   4167\u001b[0m \n\u001b[1;32m   (...)\u001b[0m\n\u001b[0;32m   4172\u001b[0m \u001b[38;5;124;03m    ensure homogeneity.\u001b[39;00m\n\u001b[0;32m   4173\u001b[0m \u001b[38;5;124;03m    \"\"\"\u001b[39;00m\n\u001b[1;32m-> 4174\u001b[0m     value \u001b[38;5;241m=\u001b[39m \u001b[38;5;28;43mself\u001b[39;49m\u001b[38;5;241;43m.\u001b[39;49m\u001b[43m_sanitize_column\u001b[49m\u001b[43m(\u001b[49m\u001b[43mvalue\u001b[49m\u001b[43m)\u001b[49m\n\u001b[0;32m   4176\u001b[0m     \u001b[38;5;28;01mif\u001b[39;00m (\n\u001b[0;32m   4177\u001b[0m         key \u001b[38;5;129;01min\u001b[39;00m \u001b[38;5;28mself\u001b[39m\u001b[38;5;241m.\u001b[39mcolumns\n\u001b[0;32m   4178\u001b[0m         \u001b[38;5;129;01mand\u001b[39;00m value\u001b[38;5;241m.\u001b[39mndim \u001b[38;5;241m==\u001b[39m \u001b[38;5;241m1\u001b[39m\n\u001b[0;32m   4179\u001b[0m         \u001b[38;5;129;01mand\u001b[39;00m \u001b[38;5;129;01mnot\u001b[39;00m is_extension_array_dtype(value)\n\u001b[0;32m   4180\u001b[0m     ):\n\u001b[0;32m   4181\u001b[0m         \u001b[38;5;66;03m# broadcast across multiple columns if necessary\u001b[39;00m\n\u001b[0;32m   4182\u001b[0m         \u001b[38;5;28;01mif\u001b[39;00m \u001b[38;5;129;01mnot\u001b[39;00m \u001b[38;5;28mself\u001b[39m\u001b[38;5;241m.\u001b[39mcolumns\u001b[38;5;241m.\u001b[39mis_unique \u001b[38;5;129;01mor\u001b[39;00m \u001b[38;5;28misinstance\u001b[39m(\u001b[38;5;28mself\u001b[39m\u001b[38;5;241m.\u001b[39mcolumns, MultiIndex):\n",
      "File \u001b[1;32m~\\anaconda3\\lib\\site-packages\\pandas\\core\\frame.py:4915\u001b[0m, in \u001b[0;36mDataFrame._sanitize_column\u001b[1;34m(self, value)\u001b[0m\n\u001b[0;32m   4912\u001b[0m     \u001b[38;5;28;01mreturn\u001b[39;00m _reindex_for_setitem(Series(value), \u001b[38;5;28mself\u001b[39m\u001b[38;5;241m.\u001b[39mindex)\n\u001b[0;32m   4914\u001b[0m \u001b[38;5;28;01mif\u001b[39;00m is_list_like(value):\n\u001b[1;32m-> 4915\u001b[0m     \u001b[43mcom\u001b[49m\u001b[38;5;241;43m.\u001b[39;49m\u001b[43mrequire_length_match\u001b[49m\u001b[43m(\u001b[49m\u001b[43mvalue\u001b[49m\u001b[43m,\u001b[49m\u001b[43m \u001b[49m\u001b[38;5;28;43mself\u001b[39;49m\u001b[38;5;241;43m.\u001b[39;49m\u001b[43mindex\u001b[49m\u001b[43m)\u001b[49m\n\u001b[0;32m   4916\u001b[0m \u001b[38;5;28;01mreturn\u001b[39;00m sanitize_array(value, \u001b[38;5;28mself\u001b[39m\u001b[38;5;241m.\u001b[39mindex, copy\u001b[38;5;241m=\u001b[39m\u001b[38;5;28;01mTrue\u001b[39;00m, allow_2d\u001b[38;5;241m=\u001b[39m\u001b[38;5;28;01mTrue\u001b[39;00m)\n",
      "File \u001b[1;32m~\\anaconda3\\lib\\site-packages\\pandas\\core\\common.py:571\u001b[0m, in \u001b[0;36mrequire_length_match\u001b[1;34m(data, index)\u001b[0m\n\u001b[0;32m    567\u001b[0m \u001b[38;5;124;03m\"\"\"\u001b[39;00m\n\u001b[0;32m    568\u001b[0m \u001b[38;5;124;03mCheck the length of data matches the length of the index.\u001b[39;00m\n\u001b[0;32m    569\u001b[0m \u001b[38;5;124;03m\"\"\"\u001b[39;00m\n\u001b[0;32m    570\u001b[0m \u001b[38;5;28;01mif\u001b[39;00m \u001b[38;5;28mlen\u001b[39m(data) \u001b[38;5;241m!=\u001b[39m \u001b[38;5;28mlen\u001b[39m(index):\n\u001b[1;32m--> 571\u001b[0m     \u001b[38;5;28;01mraise\u001b[39;00m \u001b[38;5;167;01mValueError\u001b[39;00m(\n\u001b[0;32m    572\u001b[0m         \u001b[38;5;124m\"\u001b[39m\u001b[38;5;124mLength of values \u001b[39m\u001b[38;5;124m\"\u001b[39m\n\u001b[0;32m    573\u001b[0m         \u001b[38;5;124mf\u001b[39m\u001b[38;5;124m\"\u001b[39m\u001b[38;5;124m(\u001b[39m\u001b[38;5;132;01m{\u001b[39;00m\u001b[38;5;28mlen\u001b[39m(data)\u001b[38;5;132;01m}\u001b[39;00m\u001b[38;5;124m) \u001b[39m\u001b[38;5;124m\"\u001b[39m\n\u001b[0;32m    574\u001b[0m         \u001b[38;5;124m\"\u001b[39m\u001b[38;5;124mdoes not match length of index \u001b[39m\u001b[38;5;124m\"\u001b[39m\n\u001b[0;32m    575\u001b[0m         \u001b[38;5;124mf\u001b[39m\u001b[38;5;124m\"\u001b[39m\u001b[38;5;124m(\u001b[39m\u001b[38;5;132;01m{\u001b[39;00m\u001b[38;5;28mlen\u001b[39m(index)\u001b[38;5;132;01m}\u001b[39;00m\u001b[38;5;124m)\u001b[39m\u001b[38;5;124m\"\u001b[39m\n\u001b[0;32m    576\u001b[0m     )\n",
      "\u001b[1;31mValueError\u001b[0m: Length of values (4) does not match length of index (3)"
     ]
    }
   ],
   "source": [
    "recall_scores=pd.DataFrame(columns=[\"Algorithm\",\"Basic\",\"Undersampling\",\"Oversampling\",\"Hybrid\"])\n",
    "recall_scores[\"Algorithm\"]=[\"Naive Bayes\",\"Logistic Regression\",\"Decision Tree\"]\n",
    "recall_scores.Basic=recall_basic\n",
    "recall_scores.Undersampling=recall_under\n",
    "recall_scores.Oversampling=recall_over\n",
    "recall_scores.Hybrid=recall_hybrid"
   ]
  },
  {
   "cell_type": "code",
   "execution_count": null,
   "id": "dc543621",
   "metadata": {},
   "outputs": [],
   "source": [
    "recall_scores"
   ]
  },
  {
   "cell_type": "code",
   "execution_count": null,
   "id": "fc7c5488",
   "metadata": {},
   "outputs": [],
   "source": [
    "recall_scores.to_csv(\"recall_scores.csv\")"
   ]
  },
  {
   "cell_type": "code",
   "execution_count": null,
   "id": "9582588c",
   "metadata": {},
   "outputs": [],
   "source": [
    "fig=px.bar(recall_scores,x=\"Algorithm\",y=recall_scores.columns,text_auto=True,barmode=\"group\",\n",
    "      title=\"Group Bar Plot of Recall Score before Downsample and After Downsample\")\n",
    "fig.update_layout(height=500,\n",
    "                 width=1000,\n",
    "                 title_font_size=24,\n",
    "                 xaxis=dict(\n",
    "                     title='Algorithms',\n",
    "                     title_font=dict(size=20),  # Change the size of the x-axis label\n",
    "                     tickfont=dict(size=18),    # Change the size of the x-axis tick labels\n",
    "                 ),\n",
    "                  yaxis=dict(\n",
    "                      title='Recall',\n",
    "                      title_font=dict(size=20),  # Change the size of the y-axis label\n",
    "                      tickfont=dict(size=18),    # Change the size of the y-axis tick labels\n",
    "                  ))\n",
    "fig.write_image(\"recall.png\")\n",
    "fig.show()"
   ]
  },
  {
   "cell_type": "markdown",
   "id": "0a7fde3d",
   "metadata": {},
   "source": [
    "### F1 Score Table"
   ]
  },
  {
   "cell_type": "code",
   "execution_count": null,
   "id": "c7fb5981",
   "metadata": {},
   "outputs": [],
   "source": [
    "f1_scores=pd.DataFrame(columns=[\"Algorithm\",\"Basic\",\"Undersampling\",\"Oversampling\",\"Hybrid\"])\n",
    "f1_scores[\"Algorithm\"]=[\"Naive Bayes\",\"Logistic Regression\",\"Decision Tree\"]\n",
    "f1_scores.Basic=f1_basic\n",
    "f1_scores.Undersampling=f1_under\n",
    "f1_scores.Oversampling=f1_over\n",
    "f1_scores.Hybrid=f1_hybrid"
   ]
  },
  {
   "cell_type": "code",
   "execution_count": null,
   "id": "41618e62",
   "metadata": {},
   "outputs": [],
   "source": [
    "f1_scores"
   ]
  },
  {
   "cell_type": "code",
   "execution_count": null,
   "id": "9163e47d",
   "metadata": {},
   "outputs": [],
   "source": [
    "f1_scores.to_csv(\"f1_scores.csv\")"
   ]
  },
  {
   "cell_type": "code",
   "execution_count": null,
   "id": "c1c9f7a2",
   "metadata": {},
   "outputs": [],
   "source": [
    "fig=px.bar(f1_scores,x=\"Algorithm\",y=f1_scores.columns,text_auto=True,barmode=\"group\",\n",
    "      title=\"Group Bar Plot of Recall Score before Downsample and After Downsample\")\n",
    "fig.update_layout(height=500,\n",
    "                 width=1000,\n",
    "                 title_font_size=24,\n",
    "                 xaxis=dict(\n",
    "                     title='Algorithms',\n",
    "                     title_font=dict(size=20),  # Change the size of the x-axis label\n",
    "                     tickfont=dict(size=18),    # Change the size of the x-axis tick labels\n",
    "                 ),\n",
    "                  yaxis=dict(\n",
    "                      title='f1 score',\n",
    "                      title_font=dict(size=20),  # Change the size of the y-axis label\n",
    "                      tickfont=dict(size=18),    # Change the size of the y-axis tick labels\n",
    "                  ))\n",
    "fig.write_image(\"f1.png\")\n",
    "fig.show()"
   ]
  },
  {
   "cell_type": "markdown",
   "id": "0d223fff",
   "metadata": {},
   "source": [
    "### Precision Score Table"
   ]
  },
  {
   "cell_type": "code",
   "execution_count": null,
   "id": "3dae055a",
   "metadata": {},
   "outputs": [],
   "source": [
    "precision_scores=pd.DataFrame(columns=[\"Algorithm\",\"Basic\",\"Undersampling\",\"Oversampling\",\"Hybrid\"])\n",
    "precision_scores[\"Algorithm\"]=[\"Naive Bayes\",\"Logistic Regression\",\"Decision Tree\"]\n",
    "precision_scores.Basic=precision_basic\n",
    "precision_scores.Undersampling=precision_under\n",
    "precision_scores.Oversampling=precision_over\n",
    "precision_scores.Hybrid=precision_hybrid"
   ]
  },
  {
   "cell_type": "code",
   "execution_count": null,
   "id": "d7f20e3d",
   "metadata": {},
   "outputs": [],
   "source": [
    "precision_scores"
   ]
  },
  {
   "cell_type": "code",
   "execution_count": null,
   "id": "32a87b6f",
   "metadata": {},
   "outputs": [],
   "source": [
    "precision_scores.to_csv(\"precision_scores.csv\")"
   ]
  },
  {
   "cell_type": "code",
   "execution_count": null,
   "id": "86248776",
   "metadata": {},
   "outputs": [],
   "source": [
    "fig=px.bar(precision_scores,x=\"Algorithm\",y=precision_scores.columns,text_auto=True,barmode=\"group\",\n",
    "      title=\"Group Bar Plot of Recall Score before Downsample and After Downsample\")\n",
    "fig.update_layout(height=500,\n",
    "                 width=1000,\n",
    "                 title_font_size=24,\n",
    "                 xaxis=dict(\n",
    "                     title='Algorithms',\n",
    "                     title_font=dict(size=20),  # Change the size of the x-axis label\n",
    "                     tickfont=dict(size=18),    # Change the size of the x-axis tick labels\n",
    "                 ),\n",
    "                  yaxis=dict(\n",
    "                      title='Pricision',\n",
    "                      title_font=dict(size=20),  # Change the size of the y-axis label\n",
    "                      tickfont=dict(size=18),    # Change the size of the y-axis tick labels\n",
    "                  ))\n",
    "fig.write_image(\"precision.png\")\n",
    "fig.show()"
   ]
  },
  {
   "cell_type": "markdown",
   "id": "7bdef811",
   "metadata": {},
   "source": [
    "### Accuracy Score Table"
   ]
  },
  {
   "cell_type": "code",
   "execution_count": null,
   "id": "02fdcb88",
   "metadata": {},
   "outputs": [],
   "source": [
    "accuracy_scores=pd.DataFrame(columns=[\"Algorithm\",\"Basic\",\"Undersampling\",\"Oversampling\",\"Hybrid\"])\n",
    "accuracy_scores[\"Algorithm\"]=[\"Naive Bayes\",\"Logistic Regression\",\"Decision Tree\"]\n",
    "accuracy_scores.Basic=accuracy_basic\n",
    "accuracy_scores.Undersampling=accuracy_under\n",
    "accuracy_scores.Oversampling=accuracy_over\n",
    "accuracy_scores.Hybrid=accuracy_hybrid"
   ]
  },
  {
   "cell_type": "code",
   "execution_count": null,
   "id": "e955fd39",
   "metadata": {},
   "outputs": [],
   "source": [
    "accuracy_scores"
   ]
  },
  {
   "cell_type": "code",
   "execution_count": null,
   "id": "5a5d3470",
   "metadata": {},
   "outputs": [],
   "source": [
    "accuracy_scores.to_csv(\"accuracy_scores.csv\")"
   ]
  },
  {
   "cell_type": "code",
   "execution_count": null,
   "id": "6a2e2748",
   "metadata": {
    "scrolled": false
   },
   "outputs": [],
   "source": [
    "fig=px.bar(accuracy_scores,x=\"Algorithm\",y=accuracy_scores.columns,text_auto=True,barmode=\"group\",\n",
    "      title=\"Group Bar Plot of Recall Score before Downsample and After Downsample\")\n",
    "fig.update_layout(height=500,\n",
    "                 width=1000,\n",
    "                 title_font_size=24,\n",
    "                 xaxis=dict(\n",
    "                     title='Algorithms',\n",
    "                     title_font=dict(size=20),  # Change the size of the x-axis label\n",
    "                     tickfont=dict(size=18),    # Change the size of the x-axis tick labels\n",
    "                 ),\n",
    "                  yaxis=dict(\n",
    "                      title='Accuracy',\n",
    "                      title_font=dict(size=20),  # Change the size of the y-axis label\n",
    "                      tickfont=dict(size=18),    # Change the size of the y-axis tick labels\n",
    "                  ))\n",
    "fig.write_image(\"accuracy.png\")\n",
    "fig.show()"
   ]
  },
  {
   "cell_type": "markdown",
   "id": "9e90e3a2",
   "metadata": {},
   "source": [
    "### Naive Bayes"
   ]
  },
  {
   "cell_type": "code",
   "execution_count": null,
   "id": "bb190d09",
   "metadata": {},
   "outputs": [],
   "source": [
    "naive_table=pd.DataFrame(columns=[\"Evaluation_metric\",\"Basic\",\"Undersampling\",\"Oversampling\",\"Hybridsampling\"])\n",
    "naive_table.Evaluation_metric=[\"recall\",\"accuracy\",\"precision\",\"f1\"]\n",
    "naive_table.Basic=[recall_basic[0],accuracy_basic[0],precision_basic[0],f1_basic[0]]\n",
    "naive_table.Undersampling=[recall_under[0],accuracy_under[0],precision_under[0],f1_under[0]]\n",
    "naive_table.Oversampling=[recall_over[0],accuracy_over[0],precision_over[0],f1_over[0]]\n",
    "naive_table.Hybridsampling=[recall_hybrid[0],accuracy_hybrid[0],precision_hybrid[0],f1_hybrid[0]]"
   ]
  },
  {
   "cell_type": "code",
   "execution_count": null,
   "id": "9e6104ac",
   "metadata": {},
   "outputs": [],
   "source": [
    "naive_table.to_csv(\"naive.csv\")"
   ]
  },
  {
   "cell_type": "code",
   "execution_count": null,
   "id": "a1a9c422",
   "metadata": {},
   "outputs": [],
   "source": [
    "naive_table"
   ]
  },
  {
   "cell_type": "code",
   "execution_count": null,
   "id": "615e1acd",
   "metadata": {},
   "outputs": [],
   "source": [
    "fig=px.bar(naive_table,x=\"Evaluation_metric\",y=naive_table.columns,text_auto=True,barmode=\"group\",\n",
    "      title=\"Group Bar Plot of Different Evaluation Metric for Naive Bayes under Different Scenario\")\n",
    "fig.update_layout(height=500,\n",
    "                 width=1000,\n",
    "                 title_font_size=20,\n",
    "                 xaxis=dict(\n",
    "                     title='Evslution Metrics',\n",
    "                     title_font=dict(size=20),  # Change the size of the x-axis label\n",
    "                     tickfont=dict(size=18),    # Change the size of the x-axis tick labels\n",
    "                 ),\n",
    "                  yaxis=dict(\n",
    "                      title='Score',\n",
    "                      title_font=dict(size=20),  # Change the size of the y-axis label\n",
    "                      tickfont=dict(size=18),    # Change the size of the y-axis tick labels\n",
    "                  ))\n",
    "fig.write_image(\"naive.png\")\n",
    "fig.show()"
   ]
  },
  {
   "cell_type": "markdown",
   "id": "79700c74",
   "metadata": {},
   "source": [
    "### Logsitic Regression"
   ]
  },
  {
   "cell_type": "code",
   "execution_count": null,
   "id": "5a5512c3",
   "metadata": {},
   "outputs": [],
   "source": [
    "logistic_table=pd.DataFrame(columns=[\"Evaluation_metric\",\"Basic\",\"Undersampling\",\"Oversampling\",\"Hybridsampling\"])\n",
    "logistic_table.Evaluation_metric=[\"recall\",\"accuracy\",\"precision\",\"f1\"]\n",
    "logistic_table.Basic=[recall_basic[1],accuracy_basic[1],precision_basic[1],f1_basic[1]]\n",
    "logistic_table.Undersampling=[recall_under[1],accuracy_under[1],precision_under[1],f1_under[1]]\n",
    "logistic_table.Oversampling=[recall_over[1],accuracy_over[1],precision_over[1],f1_over[1]]\n",
    "logistic_table.Hybridsampling=[recall_hybrid[1],accuracy_hybrid[1],precision_hybrid[1],f1_hybrid[1]]"
   ]
  },
  {
   "cell_type": "code",
   "execution_count": null,
   "id": "e8f20248",
   "metadata": {},
   "outputs": [],
   "source": [
    "logistic_table.to_csv(\"logistic.csv\")"
   ]
  },
  {
   "cell_type": "code",
   "execution_count": null,
   "id": "1e85b5f7",
   "metadata": {},
   "outputs": [],
   "source": [
    "logistic_table"
   ]
  },
  {
   "cell_type": "code",
   "execution_count": null,
   "id": "eedce583",
   "metadata": {},
   "outputs": [],
   "source": [
    "fig=px.bar(logistic_table,x=\"Evaluation_metric\",y=logistic_table.columns,text_auto=True,barmode=\"group\",\n",
    "      title=\"Group Bar Plot of Different Evaluation Metric for Logistic Regression under Different Scenario\")\n",
    "fig.update_layout(height=500,\n",
    "                 width=1000,\n",
    "                 title_font_size=20,\n",
    "                 xaxis=dict(\n",
    "                     title='Evslution Metrics',\n",
    "                     title_font=dict(size=20),  # Change the size of the x-axis label\n",
    "                     tickfont=dict(size=18),    # Change the size of the x-axis tick labels\n",
    "                 ),\n",
    "                  yaxis=dict(\n",
    "                      title='Score',\n",
    "                      title_font=dict(size=20),  # Change the size of the y-axis label\n",
    "                      tickfont=dict(size=18),    # Change the size of the y-axis tick labels\n",
    "                  ))\n",
    "fig.write_image(\"logistic.png\")\n",
    "fig.show()"
   ]
  },
  {
   "cell_type": "markdown",
   "id": "170b1b9d",
   "metadata": {},
   "source": [
    "### Decision Tree"
   ]
  },
  {
   "cell_type": "code",
   "execution_count": null,
   "id": "b9e8330e",
   "metadata": {},
   "outputs": [],
   "source": [
    "dt_table=pd.DataFrame(columns=[\"Evaluation_metric\",\"Basic\",\"Undersampling\",\"Oversampling\",\"Hybridsampling\"])\n",
    "dt_table.Evaluation_metric=[\"recall\",\"accuracy\",\"precision\",\"f1\"]\n",
    "dt_table.Basic=[recall_basic[2],accuracy_basic[2],precision_basic[2],f1_basic[2]]\n",
    "dt_table.Undersampling=[recall_under[2],accuracy_under[2],precision_under[2],f1_under[2]]\n",
    "dt_table.Oversampling=[recall_over[2],accuracy_over[2],precision_over[2],f1_over[2]]\n",
    "dt_table.Hybridsampling=[recall_hybrid[2],accuracy_hybrid[2],precision_hybrid[2],f1_hybrid[2]]"
   ]
  },
  {
   "cell_type": "code",
   "execution_count": null,
   "id": "70c1b922",
   "metadata": {},
   "outputs": [],
   "source": [
    "dt_table.to_csv(\"dt.csv\")"
   ]
  },
  {
   "cell_type": "code",
   "execution_count": null,
   "id": "f08ced51",
   "metadata": {},
   "outputs": [],
   "source": [
    "dt_table"
   ]
  },
  {
   "cell_type": "code",
   "execution_count": null,
   "id": "c18f83e8",
   "metadata": {},
   "outputs": [],
   "source": [
    "fig=px.bar(dt_table,x=\"Evaluation_metric\",y=logistic_table.columns,text_auto=True,barmode=\"group\",\n",
    "      title=\"Group Bar Plot of Different Evaluation Metric for Decision Tree under Different Scenario\")\n",
    "fig.update_layout(height=500,\n",
    "                 width=1000,\n",
    "                 title_font_size=20,\n",
    "                 xaxis=dict(\n",
    "                     title='Evslution Metrics',\n",
    "                     title_font=dict(size=20),  # Change the size of the x-axis label\n",
    "                     tickfont=dict(size=18),    # Change the size of the x-axis tick labels\n",
    "                 ),\n",
    "                  yaxis=dict(\n",
    "                      title='Score',\n",
    "                      title_font=dict(size=20),  # Change the size of the y-axis label\n",
    "                      tickfont=dict(size=18),    # Change the size of the y-axis tick labels\n",
    "                  ))\n",
    "fig.write_image(\"decision.png\")\n",
    "fig.show()"
   ]
  },
  {
   "cell_type": "markdown",
   "id": "cc4d515c",
   "metadata": {},
   "source": [
    "### Basic"
   ]
  },
  {
   "cell_type": "code",
   "execution_count": null,
   "id": "395c12b4",
   "metadata": {},
   "outputs": [],
   "source": [
    "basic_table=pd.DataFrame(columns=[\"Evaluation_Metric\",\"Naive_bayes\",\"Logistic_regression\",\"Decision_tree\"])\n",
    "basic_table.Evaluation_Metric=[\"recall\",\"accuracy\",\"precision\",\"f1\"]\n",
    "basic_table.Naive_bayes=[recall_basic[0],accuracy_basic[0],precision_basic[0],f1_basic[0]]\n",
    "basic_table.Logistic_regression=[recall_basic[1],accuracy_basic[1],precision_basic[1],f1_basic[1]]\n",
    "basic_table.Decision_tree=[recall_basic[2],accuracy_basic[2],precision_basic[2],f1_basic[2]]\n",
    "basic_table.Random_forest=[recall_basic[3],accuracy_basic[3],precision_basic[3],f1_basic[3]]\n",
    "basic_table"
   ]
  },
  {
   "cell_type": "code",
   "execution_count": null,
   "id": "104668ee",
   "metadata": {},
   "outputs": [],
   "source": [
    "basic_table.to_csv(\"basic_table.csv\")"
   ]
  },
  {
   "cell_type": "code",
   "execution_count": null,
   "id": "38873cd3",
   "metadata": {},
   "outputs": [],
   "source": [
    "fig=px.bar(basic_table,x=\"Evaluation_Metric\",y=basic_table.columns,text_auto=True,barmode=\"group\",\n",
    "      title=\"Comparision of Different Evaluation Metric for Different Models\")\n",
    "fig.update_layout(height=500,\n",
    "                 width=1000,\n",
    "                 title_font_size=20,\n",
    "                 xaxis=dict(\n",
    "                     title='Evalution Metrics',\n",
    "                     title_font=dict(size=20),  # Change the size of the x-axis label\n",
    "                     tickfont=dict(size=18),    # Change the size of the x-axis tick labels\n",
    "                 ),\n",
    "                  yaxis=dict(\n",
    "                      title='Score',\n",
    "                      title_font=dict(size=20),  # Change the size of the y-axis label\n",
    "                      tickfont=dict(size=18),    # Change the size of the y-axis tick labels\n",
    "                  ))\n",
    "fig.write_image(\"basic_table.png\")\n",
    "fig.show()"
   ]
  },
  {
   "cell_type": "markdown",
   "id": "1761920a",
   "metadata": {},
   "source": [
    "### Undersampling"
   ]
  },
  {
   "cell_type": "code",
   "execution_count": null,
   "id": "29a37424",
   "metadata": {},
   "outputs": [],
   "source": [
    "undersampling_table=pd.DataFrame(columns=[\"Evaluation_Metric\",\"Naive_bayes\",\"Logistic_regression\",\"Decision_tree\"])\n",
    "undersampling_table.Evaluation_Metric=[\"recall\",\"accuracy\",\"precision\",\"f1\"]\n",
    "undersampling_table.Naive_bayes=[recall_under[0],accuracy_under[0],precision_under[0],f1_under[0]]\n",
    "undersampling_table.Logistic_regression=[recall_under[1],accuracy_under[1],precision_under[1],f1_under[1]]\n",
    "undersampling_table.Decision_tree=[recall_under[2],accuracy_under[2],precision_under[2],f1_under[2]]\n",
    "undersampling_table.Random_forest=[recall_under[3],accuracy_under[3],precision_under[3],f1_under[3]]\n",
    "undersampling_table"
   ]
  },
  {
   "cell_type": "code",
   "execution_count": null,
   "id": "e87b5bae",
   "metadata": {},
   "outputs": [],
   "source": [
    "undersampling_table.to_csv(\"undersampling_table.csv\")"
   ]
  },
  {
   "cell_type": "code",
   "execution_count": null,
   "id": "f2207ffa",
   "metadata": {},
   "outputs": [],
   "source": [
    "fig=px.bar(undersampling_table,x=\"Evaluation_Metric\",y=undersampling_table.columns,text_auto=True,barmode=\"group\",\n",
    "      title=\"Comparision of Different Evaluation Metric for Different Models (Undersampling)\")\n",
    "fig.update_layout(height=500,\n",
    "                 width=1000,\n",
    "                 title_font_size=20,\n",
    "                 xaxis=dict(\n",
    "                     title='Evalution Metrics',\n",
    "                     title_font=dict(size=20),  # Change the size of the x-axis label\n",
    "                     tickfont=dict(size=18),    # Change the size of the x-axis tick labels\n",
    "                 ),\n",
    "                  yaxis=dict(\n",
    "                      title='Score',\n",
    "                      title_font=dict(size=20),  # Change the size of the y-axis label\n",
    "                      tickfont=dict(size=18),    # Change the size of the y-axis tick labels\n",
    "                  ))\n",
    "fig.write_image(\"undersampling_table.png\")\n",
    "fig.show()"
   ]
  },
  {
   "cell_type": "markdown",
   "id": "72934089",
   "metadata": {},
   "source": [
    "### Over Sampling"
   ]
  },
  {
   "cell_type": "code",
   "execution_count": null,
   "id": "954f0796",
   "metadata": {},
   "outputs": [],
   "source": [
    "oversampling_table=pd.DataFrame(columns=[\"Evaluation_Metric\",\"Naive_bayes\",\"Logistic_regression\",\"Decision_tree\"])\n",
    "oversampling_table.Evaluation_Metric=[\"recall\",\"accuracy\",\"precision\",\"f1\"]\n",
    "oversampling_table.Naive_bayes=[recall_over[0],accuracy_over[0],precision_over[0],f1_over[0]]\n",
    "oversampling_table.Logistic_regression=[recall_over[1],accuracy_over[1],precision_over[1],f1_over[1]]\n",
    "oversampling_table.Decision_tree=[recall_over[2],accuracy_over[2],precision_over[2],f1_over[2]]\n",
    "oversampling_table.Random_forest=[recall_over[3],accuracy_over[3],precision_over[3],f1_over[3]]\n",
    "oversampling_table"
   ]
  },
  {
   "cell_type": "code",
   "execution_count": null,
   "id": "149812cf",
   "metadata": {},
   "outputs": [],
   "source": [
    "oversampling_table.to_csv(\"oversampling_table.csv\")"
   ]
  },
  {
   "cell_type": "code",
   "execution_count": null,
   "id": "beee301c",
   "metadata": {},
   "outputs": [],
   "source": [
    "fig=px.bar(oversampling_table,x=\"Evaluation_Metric\",y=oversampling_table.columns,text_auto=True,barmode=\"group\",\n",
    "      title=\"Comparision of Different Evaluation Metric for Different Models (Oversampling)\")\n",
    "fig.update_layout(height=500,\n",
    "                 width=1000,\n",
    "                 title_font_size=20,\n",
    "                 xaxis=dict(\n",
    "                     title='Evalution Metrics',\n",
    "                     title_font=dict(size=20),  # Change the size of the x-axis label\n",
    "                     tickfont=dict(size=18),    # Change the size of the x-axis tick labels\n",
    "                 ),\n",
    "                  yaxis=dict(\n",
    "                      title='Score',\n",
    "                      title_font=dict(size=20),  # Change the size of the y-axis label\n",
    "                      tickfont=dict(size=18),    # Change the size of the y-axis tick labels\n",
    "                  ))\n",
    "fig.write_image(\"oversampling_table.png\")\n",
    "fig.show()"
   ]
  },
  {
   "cell_type": "markdown",
   "id": "6002bfb5",
   "metadata": {},
   "source": [
    "### Hybrid Sampling"
   ]
  },
  {
   "cell_type": "code",
   "execution_count": null,
   "id": "038e5042",
   "metadata": {},
   "outputs": [],
   "source": [
    "hybridsampling_table=pd.DataFrame(columns=[\"Evaluation_Metric\",\"Naive_bayes\",\"Logistic_regression\",\"Decision_tree\"])\n",
    "hybridsampling_table.Evaluation_Metric=[\"recall\",\"accuracy\",\"precision\",\"f1\"]\n",
    "hybridsampling_table.Naive_bayes=[recall_hybrid[0],accuracy_hybrid[0],precision_hybrid[0],f1_hybrid[0]]\n",
    "hybridsampling_table.Logistic_regression=[recall_hybrid[1],accuracy_hybrid[1],precision_hybrid[1],f1_hybrid[1]]\n",
    "hybridsampling_table.Decision_tree=[recall_hybrid[2],accuracy_hybrid[2],precision_hybrid[2],f1_hybrid[2]]\n",
    "hybridsampling_table.Random_forest=[recall_hybrid[3],accuracy_hybrid[3],precision_hybrid[3],f1_hybrid[3]]\n",
    "hybridsampling_table"
   ]
  },
  {
   "cell_type": "code",
   "execution_count": null,
   "id": "4490501a",
   "metadata": {},
   "outputs": [],
   "source": [
    "hybridsampling_table.to_csv(\"hybridsampling_table.csv\")"
   ]
  },
  {
   "cell_type": "code",
   "execution_count": null,
   "id": "c3bf7a42",
   "metadata": {},
   "outputs": [],
   "source": [
    "fig=px.bar(hybridsampling_table,x=\"Evaluation_Metric\",y=hybridsampling_table.columns,text_auto=True,barmode=\"group\",\n",
    "      title=\"Comparision of Different Evaluation Metric for Different Models (Hybridsampling)\")\n",
    "fig.update_layout(height=500,\n",
    "                 width=1000,\n",
    "                 title_font_size=20,\n",
    "                 xaxis=dict(\n",
    "                     title='Evalution Metrics',\n",
    "                     title_font=dict(size=20),  # Change the size of the x-axis label\n",
    "                     tickfont=dict(size=18),    # Change the size of the x-axis tick labels\n",
    "                 ),\n",
    "                  yaxis=dict(\n",
    "                      title='Score',\n",
    "                      title_font=dict(size=20),  # Change the size of the y-axis label\n",
    "                      tickfont=dict(size=18),    # Change the size of the y-axis tick labels\n",
    "                  ))\n",
    "fig.write_image(\"hybridsampling_table.png\")\n",
    "fig.show()"
   ]
  },
  {
   "cell_type": "code",
   "execution_count": null,
   "id": "98fb9c2b",
   "metadata": {},
   "outputs": [],
   "source": []
  },
  {
   "cell_type": "code",
   "execution_count": null,
   "id": "d523e176",
   "metadata": {},
   "outputs": [],
   "source": []
  },
  {
   "cell_type": "code",
   "execution_count": null,
   "id": "82a86fa1",
   "metadata": {},
   "outputs": [],
   "source": []
  },
  {
   "cell_type": "code",
   "execution_count": null,
   "id": "3fc9d90e",
   "metadata": {},
   "outputs": [],
   "source": []
  },
  {
   "cell_type": "code",
   "execution_count": null,
   "id": "bfd892a1",
   "metadata": {},
   "outputs": [],
   "source": []
  },
  {
   "cell_type": "code",
   "execution_count": null,
   "id": "3b5588fd",
   "metadata": {},
   "outputs": [],
   "source": []
  },
  {
   "cell_type": "code",
   "execution_count": null,
   "id": "47478355",
   "metadata": {},
   "outputs": [],
   "source": []
  },
  {
   "cell_type": "code",
   "execution_count": null,
   "id": "e5365bac",
   "metadata": {},
   "outputs": [],
   "source": []
  },
  {
   "cell_type": "code",
   "execution_count": null,
   "id": "79e2aacf",
   "metadata": {},
   "outputs": [],
   "source": []
  },
  {
   "cell_type": "code",
   "execution_count": null,
   "id": "0b6addcf",
   "metadata": {},
   "outputs": [],
   "source": []
  },
  {
   "cell_type": "code",
   "execution_count": null,
   "id": "068ac36c",
   "metadata": {},
   "outputs": [],
   "source": []
  },
  {
   "cell_type": "code",
   "execution_count": null,
   "id": "c102ea6a",
   "metadata": {},
   "outputs": [],
   "source": []
  },
  {
   "cell_type": "code",
   "execution_count": null,
   "id": "c290f8b1",
   "metadata": {},
   "outputs": [],
   "source": []
  },
  {
   "cell_type": "code",
   "execution_count": null,
   "id": "b1dae782",
   "metadata": {},
   "outputs": [],
   "source": []
  },
  {
   "cell_type": "code",
   "execution_count": null,
   "id": "413a1a55",
   "metadata": {},
   "outputs": [],
   "source": []
  },
  {
   "cell_type": "code",
   "execution_count": null,
   "id": "71179f24",
   "metadata": {},
   "outputs": [],
   "source": []
  },
  {
   "cell_type": "code",
   "execution_count": null,
   "id": "3952ce8e",
   "metadata": {},
   "outputs": [],
   "source": []
  },
  {
   "cell_type": "code",
   "execution_count": null,
   "id": "ebf998a3",
   "metadata": {},
   "outputs": [],
   "source": []
  },
  {
   "cell_type": "code",
   "execution_count": null,
   "id": "2abc109b",
   "metadata": {},
   "outputs": [],
   "source": []
  },
  {
   "cell_type": "code",
   "execution_count": null,
   "id": "43a1ef47",
   "metadata": {},
   "outputs": [],
   "source": []
  },
  {
   "cell_type": "code",
   "execution_count": null,
   "id": "2859654e",
   "metadata": {},
   "outputs": [],
   "source": []
  },
  {
   "cell_type": "code",
   "execution_count": null,
   "id": "26919534",
   "metadata": {},
   "outputs": [],
   "source": []
  },
  {
   "cell_type": "code",
   "execution_count": null,
   "id": "e1d1c269",
   "metadata": {},
   "outputs": [],
   "source": []
  },
  {
   "cell_type": "code",
   "execution_count": null,
   "id": "8397f195",
   "metadata": {},
   "outputs": [],
   "source": []
  },
  {
   "cell_type": "code",
   "execution_count": null,
   "id": "53d59459",
   "metadata": {},
   "outputs": [],
   "source": []
  },
  {
   "cell_type": "code",
   "execution_count": null,
   "id": "af6fbd21",
   "metadata": {},
   "outputs": [],
   "source": []
  },
  {
   "cell_type": "code",
   "execution_count": null,
   "id": "474b2987",
   "metadata": {},
   "outputs": [],
   "source": []
  },
  {
   "cell_type": "code",
   "execution_count": null,
   "id": "9a004bfb",
   "metadata": {},
   "outputs": [],
   "source": []
  },
  {
   "cell_type": "code",
   "execution_count": null,
   "id": "c531fbf3",
   "metadata": {},
   "outputs": [],
   "source": []
  },
  {
   "cell_type": "code",
   "execution_count": null,
   "id": "7ba8a1e0",
   "metadata": {},
   "outputs": [],
   "source": []
  },
  {
   "cell_type": "code",
   "execution_count": null,
   "id": "9bdba503",
   "metadata": {},
   "outputs": [],
   "source": []
  },
  {
   "cell_type": "code",
   "execution_count": null,
   "id": "0f4f3ad9",
   "metadata": {},
   "outputs": [],
   "source": []
  },
  {
   "cell_type": "code",
   "execution_count": null,
   "id": "97843a66",
   "metadata": {},
   "outputs": [],
   "source": []
  },
  {
   "cell_type": "code",
   "execution_count": null,
   "id": "1d1d44df",
   "metadata": {},
   "outputs": [],
   "source": []
  },
  {
   "cell_type": "code",
   "execution_count": null,
   "id": "ebfe04f9",
   "metadata": {},
   "outputs": [],
   "source": []
  },
  {
   "cell_type": "code",
   "execution_count": null,
   "id": "135f88ed",
   "metadata": {},
   "outputs": [],
   "source": []
  },
  {
   "cell_type": "code",
   "execution_count": null,
   "id": "fc30a7d3",
   "metadata": {},
   "outputs": [],
   "source": []
  },
  {
   "cell_type": "code",
   "execution_count": null,
   "id": "5fcd41d4",
   "metadata": {},
   "outputs": [],
   "source": []
  },
  {
   "cell_type": "code",
   "execution_count": null,
   "id": "0c1e6fef",
   "metadata": {},
   "outputs": [],
   "source": []
  },
  {
   "cell_type": "code",
   "execution_count": null,
   "id": "cd1d7544",
   "metadata": {},
   "outputs": [],
   "source": []
  },
  {
   "cell_type": "code",
   "execution_count": null,
   "id": "8c46eae9",
   "metadata": {},
   "outputs": [],
   "source": []
  },
  {
   "cell_type": "code",
   "execution_count": null,
   "id": "05969fee",
   "metadata": {},
   "outputs": [],
   "source": []
  },
  {
   "cell_type": "code",
   "execution_count": null,
   "id": "421f4ed6",
   "metadata": {},
   "outputs": [],
   "source": []
  },
  {
   "cell_type": "code",
   "execution_count": null,
   "id": "3cff9005",
   "metadata": {},
   "outputs": [],
   "source": []
  },
  {
   "cell_type": "code",
   "execution_count": null,
   "id": "fb5f3d84",
   "metadata": {},
   "outputs": [],
   "source": []
  },
  {
   "cell_type": "code",
   "execution_count": null,
   "id": "e3d721aa",
   "metadata": {},
   "outputs": [],
   "source": []
  },
  {
   "cell_type": "code",
   "execution_count": null,
   "id": "7eddc41b",
   "metadata": {},
   "outputs": [],
   "source": []
  },
  {
   "cell_type": "markdown",
   "id": "c4b73a9f",
   "metadata": {},
   "source": [
    "#### Under sampling"
   ]
  },
  {
   "cell_type": "markdown",
   "id": "da3f6e33",
   "metadata": {},
   "source": [
    "def undersampling(X,y):\n",
    "    \n",
    "    #resetting the index of both X and y\n",
    "    X.reset_index(drop=True,inplace=True)\n",
    "    y.reset_index(drop=True,inplace=True)\n",
    "\n",
    "    # creating a dataframe of counts corresponding to each category\n",
    "    temp_df=y.value_counts().reset_index()\n",
    "    temp_df.columns=[y.name,\"Count\"]\n",
    "    \n",
    "    #finding the majority label, minority label, majority count minority count\n",
    "    majority_label=temp_df[y.name][temp_df.Count.idxmax()]\n",
    "    majority_count=temp_df[\"Count\"][temp_df.Count.idxmax()]\n",
    "    minority_label=temp_df[y.name][temp_df.Count.idxmin()]\n",
    "    minority_count=temp_df[\"Count\"][temp_df.Count.idxmax()]\n",
    "    \n",
    "    #creating subsets of dataset based on the majority label and minority label\n",
    "    X_minor=X[y==minority_label].reset_index(drop=True)\n",
    "    X_major=X[y==majority_label].reset_index(drop=True)\n",
    "    \n",
    "    #finding the mean of majority category\n",
    "    mean=X_major.mean(axis=0).values\n",
    "    \n",
    "    #calculating distance of every minority class point from the mean of majority class\n",
    "    distance=np.array([])\n",
    "    for i in range(X_minor.shape[0]):\n",
    "        d=np.sqrt(sum((X_minor.iloc[i].values-mean)**2))\n",
    "        distance=np.append(distance,d)\n",
    "    #finding the indices of minority points according to the distance (in ascending order)\n",
    "    minority_indices=np.argsort(distance)\n",
    "    \n",
    "    #reordering the X_minor according to the minority index\n",
    "    X_minor=X_minor.iloc[minority_indices]\n",
    "    \n",
    "    # finding number of points to be dropped\n",
    "    n= np.int16(X_major.shape[0]/X_minor.shape[0])\n",
    "    \n",
    "    # Find the indices to drop from X_major based on the 4 closest majority points for each minority point\n",
    "    for i in range(X_minor.shape[0]):\n",
    "        while(X_major.shape[0]>X_minor.shape[0]):\n",
    "            distance=np.array([])\n",
    "            for j in range(X_major.shape[0]):\n",
    "                d=np.sqrt(sum((X_major.iloc[j].values-X_minor.iloc[i].values)**2))\n",
    "                distance=np.append(distance,d)\n",
    "\n",
    "            indices=np.argsort(distance)[0:n]\n",
    "\n",
    "            # Drop the 4 points from X_major for this iteration\n",
    "            X_major.drop(index=indices, axis=0, inplace=True)\n",
    "            X_major.reset_index(drop=True,inplace=True)\n",
    "    \n",
    "    #Creating new pandas series of the size of X_major and X_minor \n",
    "    y_major=pd.Series(np.repeat(majority_label,X_major.shape[0]))\n",
    "    y_minor=pd.Series(np.repeat(minority_label,X_minor.shape[0]))\n",
    "    \n",
    "    #concatinating X_major and X_minor additionally y_major and y_minor\n",
    "    X_new=pd.concat([X_major,X_minor],axis=0).reset_index(drop=True)\n",
    "    y_new=pd.concat([y_major,y_minor],axis=0).reset_index(drop=True)\n",
    "    y_new.name=y.name\n",
    "    \n",
    "    #concatinating the X_new and y_new so that i can can suffle the row along with their corresponding labels\n",
    "    X_y=pd.concat([X_new,y_new],axis=1)\n",
    "    \n",
    "    #suffeling the dataframe rows\n",
    "    X_y=X_y.sample(frac=1.0, random_state=42).reset_index(drop=True)\n",
    "    \n",
    "    #splitting the X_y dataframe and feature matrix and target variable \n",
    "    columns_list=X_y.columns.to_list()\n",
    "    X = X_y[columns_list[:-1]]\n",
    "    y = X_y[columns_list[-1]]\n",
    "    \n",
    "\n",
    "    return X,y"
   ]
  },
  {
   "cell_type": "code",
   "execution_count": null,
   "id": "4ca77f96",
   "metadata": {},
   "outputs": [],
   "source": []
  },
  {
   "cell_type": "markdown",
   "id": "a180a6dd",
   "metadata": {},
   "source": [
    "def undersampling(X,y):\n",
    "    \n",
    "    #resetting the index of both X and y\n",
    "    X.reset_index(drop=True,inplace=True)\n",
    "    y.reset_index(drop=True,inplace=True)\n",
    "\n",
    "    # creating a dataframe of counts corresponding to each category\n",
    "    temp_df=y.value_counts().reset_index()\n",
    "    temp_df.columns=[y.name,\"Count\"]\n",
    "    \n",
    "    #finding the majority label, minority label, majority count minority count\n",
    "    majority_label=temp_df[y.name][temp_df.Count.idxmax()]\n",
    "    majority_count=temp_df[\"Count\"][temp_df.Count.idxmax()]\n",
    "    minority_label=temp_df[y.name][temp_df.Count.idxmin()]\n",
    "    minority_count=temp_df[\"Count\"][temp_df.Count.idxmax()]\n",
    "    \n",
    "    #creating subsets of dataset based on the majority label and minority label\n",
    "    X_minor=X[y==minority_label].reset_index(drop=True)\n",
    "    X_major=X[y==majority_label].reset_index(drop=True)\n",
    "    \n",
    "    #finding the mean of majority category\n",
    "    mean=X_major.mean(axis=0).values\n",
    "    \n",
    "    #calculating distance of every minority class point from the mean of majority class\n",
    "    distance=np.array([])\n",
    "    for i in range(X_minor.shape[0]):\n",
    "        d=np.sqrt(sum((X_minor.iloc[i].values-mean)**2))\n",
    "        distance=np.append(distance,d)\n",
    "    #finding the indices of minority points according to the distance (in ascending order)\n",
    "    minority_indices=np.argsort(distance)\n",
    "    \n",
    "    #reordering the X_minor according to the minority index\n",
    "    X_minor=X_minor.iloc[minority_indices]\n",
    "    \n",
    "    # finding number of points to be dropped\n",
    "    n= np.int16(X_major.shape[0]/X_minor.shape[0])\n",
    "    \n",
    "    # Find the indices to drop from X_major based on the 4 closest majority points for each minority point\n",
    "    for i in range(X_minor.shape[0]):\n",
    "        distance=np.array([])\n",
    "        while(X_major.shape[0]>X_minor.shape[0]):\n",
    "            for j in range(X_major.shape[0]):\n",
    "                d=np.sqrt(sum((X_major.iloc[j].values-X_minor.iloc[i].values)**2))\n",
    "                distance=np.append(distance,d)\n",
    "\n",
    "            indices=np.argsort(distance)[0:n]\n",
    "\n",
    "            # Drop the 4 points from X_major for this iteration\n",
    "            X_major.drop(index=indices, axis=0, inplace=True)\n",
    "            X_major.reset_index(drop=True,inplace=True)\n",
    "    \n",
    "    #Creating new pandas series of the size of X_major and X_minor \n",
    "    y_major=pd.Series(np.repeat(majority_label,X_major.shape[0]))\n",
    "    y_minor=pd.Series(np.repeat(minority_label,X_minor.shape[0]))\n",
    "    \n",
    "    #concatinating X_major and X_minor additionally y_major and y_minor\n",
    "    X_new=pd.concat([X_major,X_minor],axis=0).reset_index(drop=True)\n",
    "    y_new=pd.concat([y_major,y_minor],axis=0).reset_index(drop=True)\n",
    "    y_new.name=y.name\n",
    "    \n",
    "    #concatinating the X_new and y_new so that i can can suffle the row along with their corresponding labels\n",
    "    X_y=pd.concat([X_new,y_new],axis=1)\n",
    "    \n",
    "    #suffeling the dataframe rows\n",
    "    X_y=X_y.sample(frac=1.0, random_state=42).reset_index(drop=True)\n",
    "    \n",
    "    #splitting the X_y dataframe and feature matrix and target variable \n",
    "    columns_list=X_y.columns.to_list()\n",
    "    X = X_y[columns_list[:-1]]\n",
    "    y = X_y[columns_list[-1]]\n",
    "    \n",
    "\n",
    "    return X,y"
   ]
  },
  {
   "cell_type": "code",
   "execution_count": null,
   "id": "b2977242",
   "metadata": {},
   "outputs": [],
   "source": []
  },
  {
   "cell_type": "code",
   "execution_count": null,
   "id": "e5047d74",
   "metadata": {},
   "outputs": [],
   "source": []
  },
  {
   "cell_type": "code",
   "execution_count": null,
   "id": "c741c282",
   "metadata": {},
   "outputs": [],
   "source": []
  },
  {
   "cell_type": "markdown",
   "id": "2b22cdb8",
   "metadata": {},
   "source": [
    "import numpy as np\n",
    "import pandas as pd\n",
    "\n",
    "def undersampling(X, y):\n",
    "    \n",
    "    # resetting the index of X and y both\n",
    "    X.reset_index(drop=True,inplace=True)\n",
    "    y.reset_index(drop=True,inplace=True)\n",
    "    \n",
    "    # Finding the majority and minority class labels\n",
    "    majority_label = y.value_counts().idxmax()\n",
    "    minority_label = y.value_counts().idxmin()\n",
    "\n",
    "    # Splitting the dataset into majority and minority subsets\n",
    "    X_major = X[y == majority_label]\n",
    "    X_minor = X[y == minority_label]\n",
    "\n",
    "    # Finding the mean of the majority class\n",
    "    mean = X_major.mean(axis=0)\n",
    "\n",
    "    # Calculating the distances of minority points from the mean of the majority class\n",
    "    distances = np.sqrt(((X_minor - mean) ** 2).sum(axis=1))\n",
    "\n",
    "    # Sorting the minority points based on distances (in ascending order)\n",
    "    X_minor_sorted = X_minor.iloc[np.argsort(distances)]\n",
    "\n",
    "    # Create a list to store the indices of points to be dropped from X_major\n",
    "    indices_to_drop = []\n",
    "\n",
    "    # Iterate over each minority point\n",
    "    for i in range(X_minor_sorted.shape[0]):\n",
    "        distances = np.sqrt(((X_major - X_minor_sorted.iloc[i]) ** 2).sum(axis=1))\n",
    "        # Find the indices of the 4 closest majority points\n",
    "        indices = distances.argsort()[:4]\n",
    "        indices_to_drop.extend(indices)\n",
    "\n",
    "    # Drop the points from X_major\n",
    "    X_major = X_major.drop(index=indices_to_drop)\n",
    "\n",
    "    # Creating new series for y_major and y_minor\n",
    "    y_major = pd.Series(np.repeat(majority_label, X_major.shape[0]))\n",
    "    y_minor = pd.Series(np.repeat(minority_label, X_minor_sorted.shape[0]))\n",
    "\n",
    "    # Concatenate the majority and minority dataframes\n",
    "    X_new = pd.concat([X_major, X_minor_sorted], axis=0).reset_index(drop=True)\n",
    "    y_new = pd.concat([y_major, y_minor], axis=0).reset_index(drop=True)\n",
    "\n",
    "    # Create a new dataframe by concatenating X_new and y_new\n",
    "    X_y = pd.concat([X_new, y_new], axis=1)\n",
    "    \n",
    "    # Shuffle the rows of the dataframe\n",
    "    X_y = X_y.sample(frac=1.0, random_state=42).reset_index(drop=True)\n",
    "\n",
    "    # Splitting X_y back into X and y\n",
    "    X = X_y.iloc[:, :-1]\n",
    "    y = X_y.iloc[:, -1]\n",
    "\n",
    "    return X, y\n"
   ]
  },
  {
   "cell_type": "markdown",
   "id": "ca7fb37e",
   "metadata": {},
   "source": [
    "def undersampling(X,y):\n",
    "    \n",
    "    #resetting the index of both X and y\n",
    "    X.reset_index(drop=True,inplace=True)\n",
    "    y.reset_index(drop=True,inplace=True)\n",
    "\n",
    "    # creating a dataframe of counts corresponding to each category\n",
    "    temp_df=y.value_counts().reset_index()\n",
    "    temp_df.columns=[y.name,\"Count\"]\n",
    "    \n",
    "    #finding the majority label, minority label, majority count minority count\n",
    "    majority_label=temp_df[y.name][temp_df.Count.idxmax()]\n",
    "    majority_count=temp_df[\"Count\"][temp_df.Count.idxmax()]\n",
    "    minority_label=temp_df[y.name][temp_df.Count.idxmin()]\n",
    "    minority_count=temp_df[\"Count\"][temp_df.Count.idxmax()]\n",
    "    \n",
    "    #creating subsets of dataset based on the majority label and minority label\n",
    "    X_minor=X[y==minority_label].reset_index(drop=True)\n",
    "    X_major=X[y==majority_label].reset_index(drop=True)\n",
    "    \n",
    "    #finding the mean of majority category\n",
    "    mean=X_major.mean(axis=0).values\n",
    "    \n",
    "    #calculating distance of every minority class point from the mean of majority class\n",
    "    distance=np.array([])\n",
    "    for i in range(X_minor.shape[0]):\n",
    "        d=np.sqrt(sum((X_minor.iloc[i].values-mean)**2))\n",
    "        distance=np.append(distance,d)\n",
    "    #finding the indices of minority points according to the distance (in ascending order)\n",
    "    minority_indices=np.argsort(distance)\n",
    "    \n",
    "    #reordering the X_minor according to the minority index\n",
    "    X_minor=X_minor.iloc[minority_indices]\n",
    "    \n",
    "    # Find the indices to drop from X_major based on the 4 closest majority points for each minority point\n",
    "    for i in range(X_minor.shape[0]):\n",
    "        distance=np.array([])\n",
    "        for j in range(X_major.shape[0]):\n",
    "            d=np.sqrt(sum((X_major.iloc[j].values-X_minor.iloc[i].values)**2))\n",
    "            distance=np.append(distance,d)\n",
    "        \n",
    "        indices=np.argsort(distance)[0:4]\n",
    "    \n",
    "        # Drop the 4 points from X_major for this iteration\n",
    "        X_major.drop(index=indices, axis=0, inplace=True)\n",
    "        X_major.reset_index(drop=True,inplace=True)\n",
    "    \n",
    "    #Creating new pandas series of the size of X_major and X_minor \n",
    "    y_major=pd.Series(np.repeat(majority_label,X_major.shape[0]))\n",
    "    y_minor=pd.Series(np.repeat(minority_label,X_minor.shape[0]))\n",
    "    \n",
    "    #concatinating X_major and X_minor additionally y_major and y_minor\n",
    "    X_new=pd.concat([X_major,X_minor],axis=0).reset_index(drop=True)\n",
    "    y_new=pd.concat([y_major,y_minor],axis=0).reset_index(drop=True)\n",
    "    y_new.name=y.name\n",
    "    \n",
    "    #concatinating the X_new and y_new so that i can can suffle the row along with their corresponding labels\n",
    "    X_y=pd.concat([X_new,y_new],axis=1)\n",
    "    \n",
    "    #suffeling the dataframe rows\n",
    "    X_y=X_y.sample(frac=1.0, random_state=42).reset_index(drop=True)\n",
    "    \n",
    "    #splitting the X_y dataframe and feature matrix and target variable \n",
    "    columns_list=X_y.columns.to_list()\n",
    "    X = X_y[columns_list[:-1]]\n",
    "    y = X_y[columns_list[-1]]\n",
    "    \n",
    "\n",
    "    return X,y\n",
    "    \n",
    "    "
   ]
  },
  {
   "cell_type": "code",
   "execution_count": null,
   "id": "c20fc62b",
   "metadata": {},
   "outputs": [],
   "source": []
  },
  {
   "cell_type": "code",
   "execution_count": null,
   "id": "ad8f6823",
   "metadata": {},
   "outputs": [],
   "source": []
  },
  {
   "cell_type": "code",
   "execution_count": null,
   "id": "7cb008bd",
   "metadata": {},
   "outputs": [],
   "source": []
  },
  {
   "cell_type": "markdown",
   "id": "ace0653e",
   "metadata": {},
   "source": [
    "def undersampling(X,y,us_ratio=0.5,os_ratio=1,n=4,m=4):\n",
    "    \n",
    "    #resetting the index of both X and y\n",
    "    X.reset_index(drop=True,inplace=True)\n",
    "    y.reset_index(drop=True,inplace=True)\n",
    "\n",
    "    # creating a dataframe of counts corresponding to each category\n",
    "    temp_df=y.value_counts().reset_index()\n",
    "    temp_df.columns=[y.name,\"Count\"]\n",
    "    \n",
    "    #finding the majority label, minority label, majority count minority count\n",
    "    majority_label=temp_df[y.name][temp_df.Count.idxmax()]\n",
    "    majority_count=temp_df[\"Count\"][temp_df.Count.idxmax()]\n",
    "    minority_label=temp_df[y.name][temp_df.Count.idxmin()]\n",
    "    minority_count=temp_df[\"Count\"][temp_df.Count.idxmax()]\n",
    "    \n",
    "    #creating subsets of dataset based on the majority label and minority label\n",
    "    X_minor=X[y==minority_label].reset_index(drop=True)\n",
    "    X_major=X[y==majority_label].reset_index(drop=True)\n",
    "    \n",
    "    # Oversampling\n",
    "    X_oversample=pd.DataFrame(columns=X_minor.columns)\n",
    "    \n",
    "    # Number of rows to calculate the mean\n",
    "    window_size = 4\n",
    "\n",
    "    # Loop through the original DataFrame and calculate the mean for each window\n",
    "    for i in range(len(X_minor) - window_size + 1):\n",
    "        window = X_minor.iloc[i:i+window_size]\n",
    "        mean_row = window.mean()\n",
    "        X_oversample = X_oversample.append(mean_row, ignore_index=True)\n",
    "        \n",
    "    # UnderSample\n",
    "    \n",
    "    #finding the mean of majority category\n",
    "    mean=X_major.mean(axis=0).values\n",
    "    \n",
    "    #calculating distance of every minority class point from the mean of majority class\n",
    "    distance=np.array([])\n",
    "    for i in range(X_minor.shape[0]):\n",
    "        d=np.sqrt(sum((X_minor.iloc[i].values-mean)**2))\n",
    "        distance=np.append(distance,d)\n",
    "    #finding the indices of minority points according to the distance (in ascending order)\n",
    "    minority_indices=np.argsort(distance)\n",
    "    \n",
    "    #reordering the X_minor according to the minority index\n",
    "    X_minor=X_minor.iloc[minority_indices]\n",
    "    \n",
    "    # finding number of points to be dropped\n",
    "    #n=np.int16(X_major.shape[0]/X_minor.shape[0])\n",
    "    \n",
    "    #n_under=int(us_ratio*len(X_minor))\n",
    "    #X_under=X_minor.iloc[:n_under,:]\n",
    "    \n",
    "    \n",
    "    # Find the indices to drop from X_major based on the 4 closest majority points for each minority point\n",
    "    for i in range(X_minor.shape[0]):\n",
    "        while(X_major.shape[0]>(X_minor.shape[0]+X_oversample.shape[0])):\n",
    "            distance=np.array([])\n",
    "            for j in range(X_major.shape[0]):\n",
    "                d=np.sqrt(sum((X_major.iloc[j].values-X_minor.iloc[i].values)**2))\n",
    "                distance=np.append(distance,d)\n",
    "\n",
    "            indices=np.argsort(distance)[0:n]\n",
    "\n",
    "            # Drop the 4 points from X_major for this iteration\n",
    "            X_major.drop(index=indices, axis=0, inplace=True)\n",
    "            X_major.reset_index(drop=True,inplace=True)\n",
    "    \n",
    "    #Creating new pandas series of the size of X_major and X_minor \n",
    "    y_major=pd.Series(np.repeat(majority_label,X_major.shape[0]))\n",
    "    y_minor=pd.Series(np.repeat(minority_label,(X_minor.shape[0]+X_oversample.shape[0])))\n",
    "    \n",
    "    #concatinating X_major and X_minor additionally y_major and y_minor\n",
    "    X_new=pd.concat([X_major,X_minor,X_oversample],axis=0).reset_index(drop=True)\n",
    "    y_new=pd.concat([y_major,y_minor],axis=0).reset_index(drop=True)\n",
    "    y_new.name=y.name\n",
    "    \n",
    "    #concatinating the X_new and y_new so that i can can suffle the row along with their corresponding labels\n",
    "    X_y=pd.concat([X_new,y_new],axis=1)\n",
    "    \n",
    "    #suffeling the dataframe rows\n",
    "    X_y=X_y.sample(frac=1.0, random_state=42).reset_index(drop=True)\n",
    "    \n",
    "    #splitting the X_y dataframe and feature matrix and target variable \n",
    "    columns_list=X_y.columns.to_list()\n",
    "    X = X_y[columns_list[:-1]]\n",
    "    y = X_y[columns_list[-1]]\n",
    "    \n",
    "\n",
    "    return X,y\n",
    "    "
   ]
  },
  {
   "cell_type": "code",
   "execution_count": null,
   "id": "86b52c42",
   "metadata": {},
   "outputs": [],
   "source": []
  }
 ],
 "metadata": {
  "kernelspec": {
   "display_name": "Python 3 (ipykernel)",
   "language": "python",
   "name": "python3"
  },
  "language_info": {
   "codemirror_mode": {
    "name": "ipython",
    "version": 3
   },
   "file_extension": ".py",
   "mimetype": "text/x-python",
   "name": "python",
   "nbconvert_exporter": "python",
   "pygments_lexer": "ipython3",
   "version": "3.10.9"
  }
 },
 "nbformat": 4,
 "nbformat_minor": 5
}
